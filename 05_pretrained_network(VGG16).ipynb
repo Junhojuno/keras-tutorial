{
  "nbformat": 4,
  "nbformat_minor": 0,
  "metadata": {
    "colab": {
      "name": "05_pretrained_network(VGG16).ipynb",
      "version": "0.3.2",
      "provenance": [],
      "include_colab_link": true
    },
    "kernelspec": {
      "name": "python3",
      "display_name": "Python 3"
    },
    "accelerator": "GPU"
  },
  "cells": [
    {
      "cell_type": "markdown",
      "metadata": {
        "id": "view-in-github",
        "colab_type": "text"
      },
      "source": [
        "<a href=\"https://colab.research.google.com/github/Junhojuno/keras-tutorial/blob/master/05_pretrained_network(VGG16).ipynb\" target=\"_parent\"><img src=\"https://colab.research.google.com/assets/colab-badge.svg\" alt=\"Open In Colab\"/></a>"
      ]
    },
    {
      "metadata": {
        "id": "DSVHXW63vn4K",
        "colab_type": "code",
        "colab": {
          "base_uri": "https://localhost:8080/",
          "height": 862
        },
        "outputId": "f57c7f05-c124-4134-e708-bde01249cd2f"
      },
      "cell_type": "code",
      "source": [
        "from keras.applications import VGG16\n",
        "\n",
        "conv_base = VGG16(include_top=False, # 네트워크 최상위 fully connected layer 포함할지 안할지\n",
        "                  weights='imagenet', # imagenet으로 훈련된 가중치 사용\n",
        "                  input_shape=(150,150,3))\n",
        "\n",
        "conv_base.summary()"
      ],
      "execution_count": 1,
      "outputs": [
        {
          "output_type": "stream",
          "text": [
            "Using TensorFlow backend.\n"
          ],
          "name": "stderr"
        },
        {
          "output_type": "stream",
          "text": [
            "Downloading data from https://github.com/fchollet/deep-learning-models/releases/download/v0.1/vgg16_weights_tf_dim_ordering_tf_kernels_notop.h5\n",
            "58892288/58889256 [==============================] - 1s 0us/step\n",
            "_________________________________________________________________\n",
            "Layer (type)                 Output Shape              Param #   \n",
            "=================================================================\n",
            "input_1 (InputLayer)         (None, 150, 150, 3)       0         \n",
            "_________________________________________________________________\n",
            "block1_conv1 (Conv2D)        (None, 150, 150, 64)      1792      \n",
            "_________________________________________________________________\n",
            "block1_conv2 (Conv2D)        (None, 150, 150, 64)      36928     \n",
            "_________________________________________________________________\n",
            "block1_pool (MaxPooling2D)   (None, 75, 75, 64)        0         \n",
            "_________________________________________________________________\n",
            "block2_conv1 (Conv2D)        (None, 75, 75, 128)       73856     \n",
            "_________________________________________________________________\n",
            "block2_conv2 (Conv2D)        (None, 75, 75, 128)       147584    \n",
            "_________________________________________________________________\n",
            "block2_pool (MaxPooling2D)   (None, 37, 37, 128)       0         \n",
            "_________________________________________________________________\n",
            "block3_conv1 (Conv2D)        (None, 37, 37, 256)       295168    \n",
            "_________________________________________________________________\n",
            "block3_conv2 (Conv2D)        (None, 37, 37, 256)       590080    \n",
            "_________________________________________________________________\n",
            "block3_conv3 (Conv2D)        (None, 37, 37, 256)       590080    \n",
            "_________________________________________________________________\n",
            "block3_pool (MaxPooling2D)   (None, 18, 18, 256)       0         \n",
            "_________________________________________________________________\n",
            "block4_conv1 (Conv2D)        (None, 18, 18, 512)       1180160   \n",
            "_________________________________________________________________\n",
            "block4_conv2 (Conv2D)        (None, 18, 18, 512)       2359808   \n",
            "_________________________________________________________________\n",
            "block4_conv3 (Conv2D)        (None, 18, 18, 512)       2359808   \n",
            "_________________________________________________________________\n",
            "block4_pool (MaxPooling2D)   (None, 9, 9, 512)         0         \n",
            "_________________________________________________________________\n",
            "block5_conv1 (Conv2D)        (None, 9, 9, 512)         2359808   \n",
            "_________________________________________________________________\n",
            "block5_conv2 (Conv2D)        (None, 9, 9, 512)         2359808   \n",
            "_________________________________________________________________\n",
            "block5_conv3 (Conv2D)        (None, 9, 9, 512)         2359808   \n",
            "_________________________________________________________________\n",
            "block5_pool (MaxPooling2D)   (None, 4, 4, 512)         0         \n",
            "=================================================================\n",
            "Total params: 14,714,688\n",
            "Trainable params: 14,714,688\n",
            "Non-trainable params: 0\n",
            "_________________________________________________________________\n"
          ],
          "name": "stdout"
        }
      ]
    },
    {
      "metadata": {
        "id": "WvaOcjmsvn4j",
        "colab_type": "text"
      },
      "cell_type": "markdown",
      "source": [
        "**여기에 fully connected layer를 연결한다.**\n",
        "\n",
        "- 연결하는 방식은 크게 2가지\n",
        "    - 데이터 셋을 conv_base에 한번만 통과시켜 얻은 output을 저장해두고, 연결할 fully connected layer에 입력값으로 넣는다.\n",
        "    - (conv_base + fully connected layer)에 데이터셋을 여러번 통과시킨다."
      ]
    },
    {
      "metadata": {
        "id": "UaO6LuI-vxjB",
        "colab_type": "code",
        "colab": {}
      },
      "cell_type": "code",
      "source": [
        "from google.colab import auth\n",
        "auth.authenticate_user()"
      ],
      "execution_count": 0,
      "outputs": []
    },
    {
      "metadata": {
        "id": "CvzLtkOVxP0P",
        "colab_type": "code",
        "colab": {
          "base_uri": "https://localhost:8080/",
          "height": 34
        },
        "outputId": "42ea7261-97c3-49da-95d0-e1d5c6ae5012"
      },
      "cell_type": "code",
      "source": [
        "from google.colab import drive\n",
        "drive.mount('/content/gdrive')\n"
      ],
      "execution_count": 12,
      "outputs": [
        {
          "output_type": "stream",
          "text": [
            "Mounted at /content/gdrive\n"
          ],
          "name": "stdout"
        }
      ]
    },
    {
      "metadata": {
        "id": "dCKhfk6Sxiu3",
        "colab_type": "code",
        "colab": {}
      },
      "cell_type": "code",
      "source": [
        "!unzip /content/gdrive/My\\ Drive/master.zip"
      ],
      "execution_count": 0,
      "outputs": []
    },
    {
      "metadata": {
        "id": "AdzEaplfz9z8",
        "colab_type": "code",
        "colab": {}
      },
      "cell_type": "code",
      "source": [
        "!mv deep-learning-with-python-notebooks-master/datasets ./"
      ],
      "execution_count": 0,
      "outputs": []
    },
    {
      "metadata": {
        "id": "Fbj_wa1Wvn4n",
        "colab_type": "code",
        "colab": {}
      },
      "cell_type": "code",
      "source": [
        "# 첫번째 방식\n",
        "# 이 방식은 data augmentation을 사용하지 못한다.\n",
        "import os\n",
        "import numpy as np\n",
        "from keras.preprocessing.image import ImageDataGenerator\n",
        "\n",
        "base_dir = './datasets/cats_and_dogs_small'\n",
        "train_dir = os.path.join(base_dir, 'train')\n",
        "validation_dir = os.path.join(base_dir, 'validation')\n",
        "test_dir = os.path.join(base_dir, 'test')\n",
        "\n",
        "datagen = ImageDataGenerator(rescale=1./255)\n",
        "batch_size=20"
      ],
      "execution_count": 0,
      "outputs": []
    },
    {
      "metadata": {
        "scrolled": true,
        "id": "OZ9dljNsvn4u",
        "colab_type": "code",
        "colab": {
          "base_uri": "https://localhost:8080/",
          "height": 70
        },
        "outputId": "b960f430-bca9-4f0f-84f1-7ee715b369e8"
      },
      "cell_type": "code",
      "source": [
        "def extraction_features(directory, sample_count):\n",
        "    features = np.zeros(shape=(sample_count, 4,4,512))\n",
        "    labels = np.zeros(shape=(sample_count))\n",
        "    generator = datagen.flow_from_directory(directory=directory,\n",
        "                                            target_size=(150,150),\n",
        "                                            batch_size=batch_size,\n",
        "                                            class_mode='binary')\n",
        "    # flow_from_directory의 return은 (x,y)pair가 나온다.\n",
        "    # x = (batch_size, target_size, channels)\n",
        "    # y = a array of label \n",
        "    i = 0\n",
        "    for inputs_batch, labels_batch in generator:\n",
        "        features[i*batch_size : (i+1)*batch_size] = conv_base.predict(inputs_batch)\n",
        "        labels[i*batch_size : (i+1)*batch_size] = labels_batch\n",
        "        \n",
        "        i += 1\n",
        "        if i * batch_size >= sample_count : \n",
        "            break # generator는 루프 안에서 무한하게 데이터를 만들어내기때문에 모든 image를 한번씩 처리하고 나면 중지시킨다.\n",
        "    return features, labels\n",
        "\n",
        "train_features, train_labels = extraction_features(train_dir, 2000)\n",
        "validation_features, validation_labels = extraction_features(validation_dir, 1000)\n",
        "test_features, test_labels = extraction_features(test_dir, 1000)"
      ],
      "execution_count": 3,
      "outputs": [
        {
          "output_type": "stream",
          "text": [
            "Found 2000 images belonging to 2 classes.\n",
            "Found 1000 images belonging to 2 classes.\n",
            "Found 1000 images belonging to 2 classes.\n"
          ],
          "name": "stdout"
        }
      ]
    },
    {
      "metadata": {
        "id": "BMRFmc6Nvn42",
        "colab_type": "code",
        "colab": {}
      },
      "cell_type": "code",
      "source": [
        "# flatten 쫙 펴기\n",
        "train_features = train_features.reshape((2000, 4*4*512))\n",
        "validation_features = validation_features.reshape((1000, 4*4*512))\n",
        "test_features = test_features.reshape((1000, 4*4*512))"
      ],
      "execution_count": 0,
      "outputs": []
    },
    {
      "metadata": {
        "id": "h6TexIO-2B9g",
        "colab_type": "code",
        "colab": {
          "base_uri": "https://localhost:8080/",
          "height": 34
        },
        "outputId": "911441d7-265b-48c3-d20e-bbb744855f92"
      },
      "cell_type": "code",
      "source": [
        "train_features.shape, validation_features.shape, test_features.shape"
      ],
      "execution_count": 7,
      "outputs": [
        {
          "output_type": "execute_result",
          "data": {
            "text/plain": [
              "((2000, 8192), (1000, 8192), (1000, 8192))"
            ]
          },
          "metadata": {
            "tags": []
          },
          "execution_count": 7
        }
      ]
    },
    {
      "metadata": {
        "id": "GZvLrpJCvn47",
        "colab_type": "code",
        "colab": {
          "base_uri": "https://localhost:8080/",
          "height": 1090
        },
        "outputId": "d8b97c8c-63d1-452a-87a5-1a40b9477d49"
      },
      "cell_type": "code",
      "source": [
        "# fully connected layer setting후 위 데이터로 훈련\n",
        "from keras import models\n",
        "from keras.layers import *\n",
        "from keras import optimizers\n",
        "\n",
        "model = models.Sequential()\n",
        "model.add(Dense(units=256, input_shape=(4*4*512,), activation='relu'))\n",
        "model.add(Dropout(rate=0.5))\n",
        "model.add(Dense(1, activation='sigmoid'))\n",
        "\n",
        "model.compile(loss='binary_crossentropy',\n",
        "              optimizer=optimizers.RMSprop(lr=2e-5),\n",
        "              metrics=['acc'])\n",
        "\n",
        "hist = model.fit(x=train_features, y=train_labels, epochs=30, batch_size=20, validation_data=(validation_features, validation_labels))"
      ],
      "execution_count": 12,
      "outputs": [
        {
          "output_type": "stream",
          "text": [
            "Train on 2000 samples, validate on 1000 samples\n",
            "Epoch 1/30\n",
            "2000/2000 [==============================] - 1s 599us/step - loss: 0.5983 - acc: 0.6700 - val_loss: 0.4429 - val_acc: 0.8400\n",
            "Epoch 2/30\n",
            "2000/2000 [==============================] - 1s 382us/step - loss: 0.4378 - acc: 0.7985 - val_loss: 0.3659 - val_acc: 0.8530\n",
            "Epoch 3/30\n",
            "2000/2000 [==============================] - 1s 390us/step - loss: 0.3723 - acc: 0.8395 - val_loss: 0.3354 - val_acc: 0.8660\n",
            "Epoch 4/30\n",
            "2000/2000 [==============================] - 1s 398us/step - loss: 0.3177 - acc: 0.8700 - val_loss: 0.3010 - val_acc: 0.8800\n",
            "Epoch 5/30\n",
            "2000/2000 [==============================] - 1s 398us/step - loss: 0.2905 - acc: 0.8825 - val_loss: 0.2848 - val_acc: 0.8880\n",
            "Epoch 6/30\n",
            "2000/2000 [==============================] - 1s 405us/step - loss: 0.2678 - acc: 0.8960 - val_loss: 0.2740 - val_acc: 0.8900\n",
            "Epoch 7/30\n",
            "2000/2000 [==============================] - 1s 398us/step - loss: 0.2453 - acc: 0.9055 - val_loss: 0.2664 - val_acc: 0.8910\n",
            "Epoch 8/30\n",
            "2000/2000 [==============================] - 1s 386us/step - loss: 0.2361 - acc: 0.9075 - val_loss: 0.2616 - val_acc: 0.8930\n",
            "Epoch 9/30\n",
            "2000/2000 [==============================] - 1s 394us/step - loss: 0.2251 - acc: 0.9160 - val_loss: 0.2602 - val_acc: 0.9000\n",
            "Epoch 10/30\n",
            "2000/2000 [==============================] - 1s 398us/step - loss: 0.2183 - acc: 0.9055 - val_loss: 0.2533 - val_acc: 0.9000\n",
            "Epoch 11/30\n",
            "2000/2000 [==============================] - 1s 392us/step - loss: 0.2012 - acc: 0.9235 - val_loss: 0.2473 - val_acc: 0.9000\n",
            "Epoch 12/30\n",
            "2000/2000 [==============================] - 1s 394us/step - loss: 0.1922 - acc: 0.9280 - val_loss: 0.2447 - val_acc: 0.8980\n",
            "Epoch 13/30\n",
            "2000/2000 [==============================] - 1s 396us/step - loss: 0.1761 - acc: 0.9370 - val_loss: 0.2440 - val_acc: 0.8950\n",
            "Epoch 14/30\n",
            "2000/2000 [==============================] - 1s 397us/step - loss: 0.1777 - acc: 0.9360 - val_loss: 0.2437 - val_acc: 0.9020\n",
            "Epoch 15/30\n",
            "2000/2000 [==============================] - 1s 398us/step - loss: 0.1639 - acc: 0.9450 - val_loss: 0.2405 - val_acc: 0.9040\n",
            "Epoch 16/30\n",
            "2000/2000 [==============================] - 1s 391us/step - loss: 0.1568 - acc: 0.9420 - val_loss: 0.2392 - val_acc: 0.9010\n",
            "Epoch 17/30\n",
            "2000/2000 [==============================] - 1s 392us/step - loss: 0.1565 - acc: 0.9465 - val_loss: 0.2387 - val_acc: 0.9000\n",
            "Epoch 18/30\n",
            "2000/2000 [==============================] - 1s 395us/step - loss: 0.1481 - acc: 0.9425 - val_loss: 0.2379 - val_acc: 0.8990\n",
            "Epoch 19/30\n",
            "2000/2000 [==============================] - 1s 394us/step - loss: 0.1465 - acc: 0.9490 - val_loss: 0.2368 - val_acc: 0.8990\n",
            "Epoch 20/30\n",
            "2000/2000 [==============================] - 1s 395us/step - loss: 0.1358 - acc: 0.9545 - val_loss: 0.2408 - val_acc: 0.9040\n",
            "Epoch 21/30\n",
            "2000/2000 [==============================] - 1s 397us/step - loss: 0.1314 - acc: 0.9605 - val_loss: 0.2448 - val_acc: 0.9080\n",
            "Epoch 22/30\n",
            "2000/2000 [==============================] - 1s 395us/step - loss: 0.1218 - acc: 0.9555 - val_loss: 0.2430 - val_acc: 0.9070\n",
            "Epoch 23/30\n",
            "2000/2000 [==============================] - 1s 397us/step - loss: 0.1223 - acc: 0.9580 - val_loss: 0.2386 - val_acc: 0.9040\n",
            "Epoch 24/30\n",
            "2000/2000 [==============================] - 1s 401us/step - loss: 0.1177 - acc: 0.9615 - val_loss: 0.2571 - val_acc: 0.8980\n",
            "Epoch 25/30\n",
            "2000/2000 [==============================] - 1s 393us/step - loss: 0.1131 - acc: 0.9610 - val_loss: 0.2389 - val_acc: 0.9020\n",
            "Epoch 26/30\n",
            "2000/2000 [==============================] - 1s 393us/step - loss: 0.1103 - acc: 0.9640 - val_loss: 0.2385 - val_acc: 0.9000\n",
            "Epoch 27/30\n",
            "2000/2000 [==============================] - 1s 399us/step - loss: 0.1018 - acc: 0.9710 - val_loss: 0.2427 - val_acc: 0.9010\n",
            "Epoch 28/30\n",
            "2000/2000 [==============================] - 1s 395us/step - loss: 0.1003 - acc: 0.9705 - val_loss: 0.2398 - val_acc: 0.9010\n",
            "Epoch 29/30\n",
            "2000/2000 [==============================] - 1s 393us/step - loss: 0.0945 - acc: 0.9695 - val_loss: 0.2690 - val_acc: 0.8890\n",
            "Epoch 30/30\n",
            "2000/2000 [==============================] - 1s 393us/step - loss: 0.0922 - acc: 0.9720 - val_loss: 0.2559 - val_acc: 0.8990\n"
          ],
          "name": "stdout"
        }
      ]
    },
    {
      "metadata": {
        "id": "fn3WES0S4Mnb",
        "colab_type": "code",
        "colab": {
          "base_uri": "https://localhost:8080/",
          "height": 335
        },
        "outputId": "c93453f7-443c-4d8b-9fdb-b4e05d3e8523"
      },
      "cell_type": "code",
      "source": [
        "import matplotlib.pyplot as plt\n",
        "\n",
        "epochs = range(1, len(hist.history['acc']) + 1)\n",
        "\n",
        "plt.figure(figsize=(10,5))\n",
        "\n",
        "plt.subplot(1,2,1)\n",
        "plt.plot(epochs, hist.history['acc'],'r-' ,label='Training Accuracy')\n",
        "plt.plot(epochs, hist.history['val_acc'],'b-' ,label='Validation Accuracy')\n",
        "plt.legend()\n",
        "plt.title(\"Training and Validation Accuracy\")\n",
        "\n",
        "plt.subplot(1,2,2)\n",
        "plt.plot(epochs, hist.history['loss'], 'r-', label='Training Loss')\n",
        "plt.plot(epochs, hist.history['val_loss'],'b-', label='Validation Loss')\n",
        "plt.legend()\n",
        "plt.title(\"Training and Validation Loss\")\n",
        "\n",
        "plt.show()"
      ],
      "execution_count": 18,
      "outputs": [
        {
          "output_type": "display_data",
          "data": {
            "image/png": "[encoded data removed]",
            "text/plain": [
              "<Figure size 720x360 with 2 Axes>"
            ]
          },
          "metadata": {
            "tags": []
          }
        }
      ]
    },
    {
      "metadata": {
        "id": "yYrf9NlY4KwT",
        "colab_type": "text"
      },
      "cell_type": "markdown",
      "source": [
        "결과를 보면 성능은 올라갔지만, 얼마안가 다시 overfitting되는걸 볼 수 있다. <br>\n",
        "data augmentation이 필요해보이는데, 이는 gpu가 없으면 힘들다."
      ]
    },
    {
      "metadata": {
        "id": "IJggNrW8vn4_",
        "colab_type": "code",
        "colab": {
          "base_uri": "https://localhost:8080/",
          "height": 281
        },
        "outputId": "c0e6a17b-8caa-44df-b40d-8821361aa5f1"
      },
      "cell_type": "code",
      "source": [
        "# 두번째 방식\n",
        "# gpu필요\n",
        "# 첫번째 방법보단 느리지만 data augmentation 가능\n",
        "\n",
        "model = models.Sequential()\n",
        "model.add(conv_base)\n",
        "model.add(Flatten())\n",
        "model.add(Dense(256,activation='relu'))\n",
        "model.add(Dense(1, activation='sigmoid'))\n",
        "\n",
        "model.summary()"
      ],
      "execution_count": 19,
      "outputs": [
        {
          "output_type": "stream",
          "text": [
            "_________________________________________________________________\n",
            "Layer (type)                 Output Shape              Param #   \n",
            "=================================================================\n",
            "vgg16 (Model)                (None, 4, 4, 512)         14714688  \n",
            "_________________________________________________________________\n",
            "flatten_1 (Flatten)          (None, 8192)              0         \n",
            "_________________________________________________________________\n",
            "dense_6 (Dense)              (None, 256)               2097408   \n",
            "_________________________________________________________________\n",
            "dense_7 (Dense)              (None, 1)                 257       \n",
            "=================================================================\n",
            "Total params: 16,812,353\n",
            "Trainable params: 16,812,353\n",
            "Non-trainable params: 0\n",
            "_________________________________________________________________\n"
          ],
          "name": "stdout"
        }
      ]
    },
    {
      "metadata": {
        "id": "qEdOSsEZ8ZEd",
        "colab_type": "text"
      },
      "cell_type": "markdown",
      "source": [
        "여기서 convolutional base의 features를 freezing(동결)시켜줘야한다. <br>\n",
        "그렇지 않으면 dense layer의 가중치 업데이트 과정에서 convolutional base도 업데이트됨. <br>\n",
        "이러면 pre-trained network를 사용하는 이유가 없어지니까!"
      ]
    },
    {
      "metadata": {
        "id": "GY1suxxq81cO",
        "colab_type": "code",
        "colab": {
          "base_uri": "https://localhost:8080/",
          "height": 52
        },
        "outputId": "9f94c5ae-860b-48b8-db1e-a46bd7c17173"
      },
      "cell_type": "code",
      "source": [
        "# 동결, freezing\n",
        "# layer당 2개(weight 행렬, bias 벡터)\n",
        "# VGG가 빠지면서 13개 layer가 빠지고, dense layer 2개만 남음\n",
        "# 이걸 해주고 compile해줘야함!!\n",
        "\n",
        "print(\"conv_base 동결 전 trainable 가중치 수 : \", len(model.trainable_weights))\n",
        "conv_base.trainable = False\n",
        "print(\"conv_base 동결 후 trainable 가중치 수 : \", len(model.trainable_weights))"
      ],
      "execution_count": 20,
      "outputs": [
        {
          "output_type": "stream",
          "text": [
            "conv_base 동결 전 trainable 가중치 수 :  30\n",
            "conv_base 동결 후 trainable 가중치 수 :  4\n"
          ],
          "name": "stdout"
        }
      ]
    },
    {
      "metadata": {
        "id": "mRDMiLgf-suC",
        "colab_type": "code",
        "colab": {
          "base_uri": "https://localhost:8080/",
          "height": 52
        },
        "outputId": "744f050f-8d42-450f-b13e-7b88d31d8d7b"
      },
      "cell_type": "code",
      "source": [
        "from keras.preprocessing.image import ImageDataGenerator\n",
        "\n",
        "train_datagen = ImageDataGenerator(rescale=1./255,\n",
        "                                   rotation_range=40,\n",
        "                                   width_shift_range=0.2,\n",
        "                                   height_shift_range=0.2,\n",
        "                                   shear_range=0.2,\n",
        "                                   zoom_range=0.2,\n",
        "                                   horizontal_flip=True,\n",
        "                                   fill_mode='nearest')\n",
        "\n",
        "test_datagen = ImageDataGenerator(rescale=1./255)\n",
        "\n",
        "train_generator = train_datagen.flow_from_directory(train_dir, target_size=(150,150), batch_size=20, class_mode='binary')\n",
        "validation_generator = test_datagen.flow_from_directory(validation_dir, target_size=(150,150), batch_size=20, class_mode='binary')"
      ],
      "execution_count": 23,
      "outputs": [
        {
          "output_type": "stream",
          "text": [
            "Found 2000 images belonging to 2 classes.\n",
            "Found 1000 images belonging to 2 classes.\n"
          ],
          "name": "stdout"
        }
      ]
    },
    {
      "metadata": {
        "id": "DWcMGhVi7V-1",
        "colab_type": "code",
        "colab": {}
      },
      "cell_type": "code",
      "source": [
        "model.compile(loss='binary_crossentropy',\n",
        "              optimizer=optimizers.RMSprop(lr=2e-5),\n",
        "              metrics=['acc'])"
      ],
      "execution_count": 0,
      "outputs": []
    },
    {
      "metadata": {
        "id": "o59NAM7R_1mA",
        "colab_type": "code",
        "colab": {
          "base_uri": "https://localhost:8080/",
          "height": 1073
        },
        "outputId": "8acbde19-69fa-4fe8-93a5-bbe96a5f9be7"
      },
      "cell_type": "code",
      "source": [
        "hist = model.fit_generator(train_generator, steps_per_epoch=100, epochs=30, validation_data=validation_generator, validation_steps=50, verbose=2)"
      ],
      "execution_count": 25,
      "outputs": [
        {
          "output_type": "stream",
          "text": [
            "Epoch 1/30\n",
            " - 28s - loss: 0.6074 - acc: 0.6665 - val_loss: 0.4986 - val_acc: 0.7580\n",
            "Epoch 2/30\n",
            " - 26s - loss: 0.4914 - acc: 0.7740 - val_loss: 0.3837 - val_acc: 0.8450\n",
            "Epoch 3/30\n",
            " - 26s - loss: 0.4416 - acc: 0.8070 - val_loss: 0.3368 - val_acc: 0.8680\n",
            "Epoch 4/30\n",
            " - 26s - loss: 0.4124 - acc: 0.8190 - val_loss: 0.3152 - val_acc: 0.8780\n",
            "Epoch 5/30\n",
            " - 26s - loss: 0.3860 - acc: 0.8315 - val_loss: 0.2968 - val_acc: 0.8800\n",
            "Epoch 6/30\n",
            " - 26s - loss: 0.3810 - acc: 0.8335 - val_loss: 0.2915 - val_acc: 0.8840\n",
            "Epoch 7/30\n",
            " - 26s - loss: 0.3649 - acc: 0.8335 - val_loss: 0.2806 - val_acc: 0.8870\n",
            "Epoch 8/30\n",
            " - 26s - loss: 0.3413 - acc: 0.8485 - val_loss: 0.2681 - val_acc: 0.8950\n",
            "Epoch 9/30\n",
            " - 25s - loss: 0.3424 - acc: 0.8520 - val_loss: 0.2658 - val_acc: 0.8950\n",
            "Epoch 10/30\n",
            " - 26s - loss: 0.3381 - acc: 0.8475 - val_loss: 0.2574 - val_acc: 0.8960\n",
            "Epoch 11/30\n",
            " - 25s - loss: 0.3275 - acc: 0.8640 - val_loss: 0.2544 - val_acc: 0.8990\n",
            "Epoch 12/30\n",
            " - 26s - loss: 0.3132 - acc: 0.8590 - val_loss: 0.2580 - val_acc: 0.8980\n",
            "Epoch 13/30\n",
            " - 26s - loss: 0.3209 - acc: 0.8640 - val_loss: 0.2553 - val_acc: 0.8940\n",
            "Epoch 14/30\n",
            " - 25s - loss: 0.3261 - acc: 0.8465 - val_loss: 0.2456 - val_acc: 0.9040\n",
            "Epoch 15/30\n",
            " - 26s - loss: 0.3152 - acc: 0.8670 - val_loss: 0.2488 - val_acc: 0.9010\n",
            "Epoch 16/30\n",
            " - 25s - loss: 0.3041 - acc: 0.8645 - val_loss: 0.2432 - val_acc: 0.9050\n",
            "Epoch 17/30\n",
            " - 26s - loss: 0.3130 - acc: 0.8570 - val_loss: 0.2459 - val_acc: 0.9030\n",
            "Epoch 18/30\n",
            " - 26s - loss: 0.3024 - acc: 0.8655 - val_loss: 0.2495 - val_acc: 0.8970\n",
            "Epoch 19/30\n",
            " - 26s - loss: 0.3187 - acc: 0.8670 - val_loss: 0.2396 - val_acc: 0.9040\n",
            "Epoch 20/30\n",
            " - 26s - loss: 0.3046 - acc: 0.8620 - val_loss: 0.2424 - val_acc: 0.9030\n",
            "Epoch 21/30\n",
            " - 26s - loss: 0.2933 - acc: 0.8735 - val_loss: 0.2364 - val_acc: 0.9040\n",
            "Epoch 22/30\n",
            " - 26s - loss: 0.2987 - acc: 0.8735 - val_loss: 0.2397 - val_acc: 0.9020\n",
            "Epoch 23/30\n",
            " - 26s - loss: 0.2944 - acc: 0.8720 - val_loss: 0.2394 - val_acc: 0.9020\n",
            "Epoch 24/30\n",
            " - 26s - loss: 0.2991 - acc: 0.8735 - val_loss: 0.2357 - val_acc: 0.9070\n",
            "Epoch 25/30\n",
            " - 26s - loss: 0.3013 - acc: 0.8635 - val_loss: 0.2321 - val_acc: 0.9060\n",
            "Epoch 26/30\n",
            " - 26s - loss: 0.2975 - acc: 0.8765 - val_loss: 0.2353 - val_acc: 0.9050\n",
            "Epoch 27/30\n",
            " - 25s - loss: 0.2947 - acc: 0.8755 - val_loss: 0.2365 - val_acc: 0.9080\n",
            "Epoch 28/30\n",
            " - 26s - loss: 0.2885 - acc: 0.8720 - val_loss: 0.2386 - val_acc: 0.8980\n",
            "Epoch 29/30\n",
            " - 26s - loss: 0.2847 - acc: 0.8805 - val_loss: 0.2414 - val_acc: 0.9070\n",
            "Epoch 30/30\n",
            " - 26s - loss: 0.2779 - acc: 0.8730 - val_loss: 0.2339 - val_acc: 0.9030\n"
          ],
          "name": "stdout"
        }
      ]
    },
    {
      "metadata": {
        "id": "gztw4YILAIPe",
        "colab_type": "code",
        "colab": {
          "base_uri": "https://localhost:8080/",
          "height": 335
        },
        "outputId": "71e51fe1-60c1-46ec-8b05-a5e12c2ed88d"
      },
      "cell_type": "code",
      "source": [
        "epochs = range(1, len(hist.history['acc']) + 1)\n",
        "\n",
        "plt.figure(figsize=(10,5))\n",
        "\n",
        "plt.subplot(1,2,1)\n",
        "plt.plot(epochs, hist.history['acc'],'r-' ,label='Training Accuracy')\n",
        "plt.plot(epochs, hist.history['val_acc'],'b-' ,label='Validation Accuracy')\n",
        "plt.legend()\n",
        "plt.title(\"Training and Validation Accuracy\")\n",
        "\n",
        "plt.subplot(1,2,2)\n",
        "plt.plot(epochs, hist.history['loss'], 'r-', label='Training Loss')\n",
        "plt.plot(epochs, hist.history['val_loss'],'b-', label='Validation Loss')\n",
        "plt.legend()\n",
        "plt.title(\"Training and Validation Loss\")\n",
        "\n",
        "plt.show()"
      ],
      "execution_count": 26,
      "outputs": [
        {
          "output_type": "display_data",
          "data": {
            "image/png": "[encoded data removed]",
            "text/plain": [
              "<Figure size 720x360 with 2 Axes>"
            ]
          },
          "metadata": {
            "tags": []
          }
        }
      ]
    },
    {
      "metadata": {
        "id": "hbCxXx66vn5D",
        "colab_type": "text"
      },
      "cell_type": "markdown",
      "source": [
        "overfitting 폭이 조금 감소된걸 볼 수 있다."
      ]
    }
  ]
}
{
 "cells": [
  {
   "cell_type": "markdown",
   "metadata": {},
   "source": [
    "### GloVe : Global Vectors for Word Representation) 사용하기\n",
    "- keras에 내장된 IMDB를 사용하는 대신,(미리 토큰화 되어있음.)\n",
    "- 원본 텍스트를 다운로드하여 처음부터 시작"
   ]
  },
  {
   "cell_type": "code",
   "execution_count": 7,
   "metadata": {},
   "outputs": [],
   "source": [
    "# 원본 데이터 다운로드\n",
    "import os\n",
    "\n",
    "imdb_dir = './datasets/aclImdb'\n",
    "train_dir = os.path.join(imdb_dir, 'train')\n",
    "\n",
    "labels = []\n",
    "texts = []\n",
    "\n",
    "for label_type in ['neg', 'pos']: # negative, positive divide\n",
    "    dir_name = os.path.join(train_dir, label_type)\n",
    "    for fname in os.listdir(dir_name):\n",
    "        if fname[-4:] == '.txt':\n",
    "            f = open(os.path.join(dir_name, fname), encoding='utf8')\n",
    "            texts.append(f.read())\n",
    "            f.close()\n",
    "            if label_type == 'neg':\n",
    "                labels.append(0)\n",
    "            else:\n",
    "                labels.append(1)"
   ]
  },
  {
   "cell_type": "markdown",
   "metadata": {},
   "source": [
    "- 추후 pre-trained model을 사용할것이기 때문에(데이터수가 적을때 유용한 pre-trained model이라는점)\n",
    "- 데이터를 200개로 제한한다."
   ]
  },
  {
   "cell_type": "code",
   "execution_count": 8,
   "metadata": {},
   "outputs": [
    {
     "data": {
      "text/plain": [
       "(25000, 25000)"
      ]
     },
     "execution_count": 8,
     "metadata": {},
     "output_type": "execute_result"
    }
   ],
   "source": [
    "len(texts), len(labels)"
   ]
  },
  {
   "cell_type": "code",
   "execution_count": 9,
   "metadata": {},
   "outputs": [
    {
     "name": "stdout",
     "output_type": "stream",
     "text": [
      "88582개의 고유 토큰을 발견하였습니다.\n",
      "데이터 텐서의 크기 :  (25000, 100)\n",
      "레이블 텐서의 크기 :  (25000,)\n"
     ]
    }
   ],
   "source": [
    "# tokenizing\n",
    "from keras.preprocessing.text import Tokenizer\n",
    "from keras.preprocessing.sequence import pad_sequences\n",
    "import numpy as np\n",
    "\n",
    "maxlen = 100 # 100개 단어 이후는 버린다.\n",
    "training_samples = 200\n",
    "validation_samples = 10000 # 검증 데이터는 1만개~\n",
    "max_words = 10000 # 가장 빈도가 높은 단어 1만개만 사용\n",
    "\n",
    "tokenizer = Tokenizer(num_words=max_words)\n",
    "tokenizer.fit_on_texts(texts)\n",
    "sequences = tokenizer.texts_to_sequences(texts) # text를 integer의 sequence로 만들어줘!\n",
    "\n",
    "word_index = tokenizer.word_index\n",
    "print(\"%s개의 고유 토큰을 발견하였습니다.\" % len(word_index))\n",
    "\n",
    "data = pad_sequences(sequences=sequences, maxlen=maxlen)\n",
    "labels = np.asarray(labels)\n",
    "print(\"데이터 텐서의 크기 : \", data.shape)\n",
    "print(\"레이블 텐서의 크기 : \", labels.shape)\n",
    "\n",
    "indices = np.arange(data.shape[0]) \n",
    "np.random.shuffle(indices) # 부정 끝나면 긍정나오기 때문에 섞어준다.\n",
    "data = data[indices]\n",
    "labels = labels[indices]\n",
    "\n",
    "x_train = data[:training_samples]\n",
    "x_val = data[training_samples:training_samples+validation_samples]\n",
    "\n",
    "y_train = labels[:training_samples]\n",
    "y_val = labels[training_samples:training_samples+validation_samples]"
   ]
  },
  {
   "cell_type": "code",
   "execution_count": 13,
   "metadata": {},
   "outputs": [
    {
     "name": "stdout",
     "output_type": "stream",
     "text": [
      "400000개의 단어 벡터를 찾았습니다.\n"
     ]
    }
   ],
   "source": [
    "# GloVe 다운로드\n",
    "# embedding 전처리\n",
    "glove_dir = './datasets/glove.6B/'\n",
    "\n",
    "embedding_index = {}\n",
    "f = open(os.path.join(glove_dir, 'glove.6B.100d.txt'), encoding='utf8')\n",
    "for line in f: # 한 단어에 대한 100차원 vector\n",
    "    values = line.split()\n",
    "    word = values[0]\n",
    "    coefs = np.asarray(values[1:], dtype='float32')\n",
    "    embedding_index[word] = coefs\n",
    "f.close()\n",
    "\n",
    "print(\"%s개의 단어 벡터를 찾았습니다.\" % len(embedding_index))"
   ]
  },
  {
   "cell_type": "markdown",
   "metadata": {},
   "source": [
    "- embedding_index : (단어, embedding coef)"
   ]
  },
  {
   "cell_type": "markdown",
   "metadata": {},
   "source": [
    "### Embedding Layer에 들어갈 Embedding Matrix 만들자\n",
    "- embedding matrix : (max_words, embedding_dim)\n",
    "- embedding matrix의 i번째 원소는 1만개 단어(max_word)중 i번째 단어일 것이고, \n",
    "- 이건 해당 단어의 embedding_dim vector가 된다."
   ]
  },
  {
   "cell_type": "code",
   "execution_count": 15,
   "metadata": {},
   "outputs": [],
   "source": [
    "embedding_dim = 100\n",
    "embedding_matrix = np.zeros((max_words, embedding_dim))\n",
    "for word, i in word_index.items(): # tokenizing된 단어 인덱스\n",
    "    if i < max_words:\n",
    "        embedding_vector = embedding_index.get(word) # .get(word)하면 embedding_index의 coefs가 나오겠지\n",
    "        if embedding_vector is not None:\n",
    "            embedding_matrix[i] = embedding_vector"
   ]
  },
  {
   "cell_type": "code",
   "execution_count": 18,
   "metadata": {},
   "outputs": [
    {
     "name": "stdout",
     "output_type": "stream",
     "text": [
      "_________________________________________________________________\n",
      "Layer (type)                 Output Shape              Param #   \n",
      "=================================================================\n",
      "embedding_1 (Embedding)      (None, 100, 100)          1000000   \n",
      "_________________________________________________________________\n",
      "flatten_1 (Flatten)          (None, 10000)             0         \n",
      "_________________________________________________________________\n",
      "dense_1 (Dense)              (None, 32)                320032    \n",
      "_________________________________________________________________\n",
      "dense_2 (Dense)              (None, 1)                 33        \n",
      "=================================================================\n",
      "Total params: 1,320,065\n",
      "Trainable params: 1,320,065\n",
      "Non-trainable params: 0\n",
      "_________________________________________________________________\n"
     ]
    }
   ],
   "source": [
    "# model 정의\n",
    "# 이전과 동일한 구조 사용\n",
    "from keras.models import Sequential\n",
    "from keras.layers import Flatten, Dense, Embedding\n",
    "\n",
    "model = Sequential()\n",
    "model.add(Embedding(input_dim=max_words, output_dim=embedding_dim, input_length=maxlen)) # input_length 지정안하면 (None, None, 100)이 output shape\n",
    "model.add(Flatten())\n",
    "model.add(Dense(32, activation='relu'))\n",
    "model.add(Dense(1, activation='sigmoid'))\n",
    "model.summary()"
   ]
  },
  {
   "cell_type": "markdown",
   "metadata": {},
   "source": [
    "**Embedding layer의 parameter는 weights뿐!, No biases**"
   ]
  },
  {
   "cell_type": "code",
   "execution_count": 21,
   "metadata": {},
   "outputs": [],
   "source": [
    "# model에 GloVe 임베딩 로드하기\n",
    "model.layers[0].set_weights([embedding_matrix])\n",
    "model.layers[0].trainable = False"
   ]
  },
  {
   "cell_type": "code",
   "execution_count": 22,
   "metadata": {},
   "outputs": [
    {
     "name": "stdout",
     "output_type": "stream",
     "text": [
      "Train on 200 samples, validate on 10000 samples\n",
      "Epoch 1/10\n",
      "200/200 [==============================] - 2s 12ms/step - loss: 1.4688 - acc: 0.5200 - val_loss: 1.1884 - val_acc: 0.4990\n",
      "Epoch 2/10\n",
      "200/200 [==============================] - 2s 11ms/step - loss: 0.7199 - acc: 0.6200 - val_loss: 0.6874 - val_acc: 0.5567\n",
      "Epoch 3/10\n",
      "200/200 [==============================] - 2s 11ms/step - loss: 0.3813 - acc: 0.8850 - val_loss: 0.9981 - val_acc: 0.5007\n",
      "Epoch 4/10\n",
      "200/200 [==============================] - 2s 11ms/step - loss: 0.3717 - acc: 0.8100 - val_loss: 0.8463 - val_acc: 0.5081\n",
      "Epoch 5/10\n",
      "200/200 [==============================] - 2s 12ms/step - loss: 0.2185 - acc: 0.9450 - val_loss: 0.7799 - val_acc: 0.5270\n",
      "Epoch 6/10\n",
      "200/200 [==============================] - 2s 11ms/step - loss: 0.1245 - acc: 1.0000 - val_loss: 0.8850 - val_acc: 0.5274\n",
      "Epoch 7/10\n",
      "200/200 [==============================] - 2s 10ms/step - loss: 0.3110 - acc: 0.8450 - val_loss: 0.7183 - val_acc: 0.5636\n",
      "Epoch 8/10\n",
      "200/200 [==============================] - 2s 9ms/step - loss: 0.0574 - acc: 1.0000 - val_loss: 0.8703 - val_acc: 0.5397\n",
      "Epoch 9/10\n",
      "200/200 [==============================] - 1s 7ms/step - loss: 0.0429 - acc: 1.0000 - val_loss: 0.7535 - val_acc: 0.5658\n",
      "Epoch 10/10\n",
      "200/200 [==============================] - 2s 10ms/step - loss: 0.0302 - acc: 1.0000 - val_loss: 0.8980 - val_acc: 0.5475\n"
     ]
    }
   ],
   "source": [
    "# Training\n",
    "model.compile(optimizer='rmsprop', loss='binary_crossentropy', metrics=['acc'])\n",
    "hist = model.fit(x=x_train, y=y_train, epochs=10, batch_size=32, validation_data=(x_val, y_val))\n",
    "model.save_weights('pre_trained_glove_model.h5')"
   ]
  },
  {
   "cell_type": "code",
   "execution_count": 25,
   "metadata": {},
   "outputs": [
    {
     "data": {
      "image/png": "[encoded data removed]",
      "text/plain": [
       "<Figure size 720x360 with 2 Axes>"
      ]
     },
     "metadata": {},
     "output_type": "display_data"
    }
   ],
   "source": [
    "import matplotlib.pyplot as plt\n",
    "\n",
    "epochs = range(1, len(hist.history['acc']) + 1)\n",
    "\n",
    "plt.figure(figsize=(10,5))\n",
    "\n",
    "plt.subplot(1,2,1)\n",
    "plt.plot(epochs, hist.history['acc'], 'b-', label='Training Accuracy')\n",
    "plt.plot(epochs, hist.history['val_acc'], 'r-', label='Validation Accuracy')\n",
    "plt.title(\"Accuracy\")\n",
    "plt.legend()\n",
    "\n",
    "plt.subplot(1,2,2)\n",
    "plt.plot(epochs, hist.history['loss'], 'b-', label='Training Loss')\n",
    "plt.plot(epochs, hist.history['val_loss'], 'r-', label='Validation Loss')\n",
    "plt.title(\"Loss\")\n",
    "plt.legend()\n",
    "\n",
    "plt.tight_layout()\n",
    "plt.show()"
   ]
  },
  {
   "cell_type": "markdown",
   "metadata": {},
   "source": [
    "눈이 의심스러울 정도의 성적이다...."
   ]
  }
 ],
 "metadata": {
  "kernelspec": {
   "display_name": "Python 3",
   "language": "python",
   "name": "python3"
  },
  "language_info": {
   "codemirror_mode": {
    "name": "ipython",
    "version": 3
   },
   "file_extension": ".py",
   "mimetype": "text/x-python",
   "name": "python",
   "nbconvert_exporter": "python",
   "pygments_lexer": "ipython3",
   "version": "3.6.6"
  }
 },
 "nbformat": 4,
 "nbformat_minor": 2
}

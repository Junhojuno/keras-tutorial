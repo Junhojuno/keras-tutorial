{
  "nbformat": 4,
  "nbformat_minor": 0,
  "metadata": {
    "colab": {
      "name": "05_Convnet_with_small_data.ipynb",
      "version": "0.3.2",
      "provenance": [],
      "toc_visible": true,
      "include_colab_link": true
    },
    "kernelspec": {
      "name": "python3",
      "display_name": "Python 3"
    },
    "accelerator": "GPU"
  },
  "cells": [
    {
      "cell_type": "markdown",
      "metadata": {
        "id": "view-in-github",
        "colab_type": "text"
      },
      "source": [
        "<a href=\"https://colab.research.google.com/github/Junhojuno/keras-tutorial/blob/master/05_Convnet_with_small_data.ipynb\" target=\"_parent\"><img src=\"https://colab.research.google.com/assets/colab-badge.svg\" alt=\"Open In Colab\"/></a>"
      ]
    },
    {
      "metadata": {
        "id": "0IKrxj_S9Tv8",
        "colab_type": "text"
      },
      "cell_type": "markdown",
      "source": [
        "### 소규모 데이터셋으로 CNN학습하기\n",
        "- 2,000장 강아지, 2,000장 고양이 사진 = 총 4,000장 데이터\n",
        "- validation 1,000장, test 1,000장\n",
        "\n",
        "##### 1. data augmentation \n",
        "    - 2,000장의 training set으로 기본 성능을 만든다. *이슈 포인트 :  overfitting\n",
        "    - overfitting을 줄이기 위해 data augmentation 실시 <br>\n",
        "    \n",
        "##### 2. pre-training model 활용\n",
        "    - pre-trained된 network로 특성 추출\n",
        "    - pre-trained된 network를 fine-tuning"
      ]
    },
    {
      "metadata": {
        "id": "rYC556Q89TwU",
        "colab_type": "code",
        "colab": {}
      },
      "cell_type": "code",
      "source": [
        "# 데이터 다운\n",
        "# 25000 --> 4000 소규모 데이터 셋으로 만든다.\n",
        "# train 데이터를 train, validation, test 셋으로 나누자\n",
        "\n",
        "import shutil, os\n",
        "\n",
        "original_dataset_dir = \"./datasets/dogs-vs-cats/train/\"\n",
        "\n",
        "base_dir = \"./datasets/dogs-vs-cats_small\"\n",
        "os.mkdir(base_dir)\n",
        "\n",
        "# 경로 및 디렉토리 생성\n",
        "train_dir = os.path.join(base_dir, 'train')\n",
        "os.mkdir(train_dir)\n",
        "validation_dir = os.path.join(base_dir, 'validation')\n",
        "os.mkdir(validation_dir)\n",
        "test_dir = os.path.join(base_dir, 'test')\n",
        "os.mkdir(test_dir)\n",
        "\n",
        "# 훈련용 강아지/고양이 데이터셋 디렉토리 생성\n",
        "train_dogs_dir = os.path.join(train_dir, 'dogs')\n",
        "os.mkdir(train_dogs_dir)\n",
        "train_cats_dir = os.path.join(train_dir, 'cats')\n",
        "os.mkdir(train_cats_dir)\n",
        "\n",
        "# 검증용 강아지/고양이 데이터셋 디렉토리 생성\n",
        "validation_dogs_dir = os.path.join(validation_dir, 'dogs')\n",
        "os.mkdir(validation_dogs_dir)\n",
        "validation_cats_dir = os.path.join(validation_dir, 'cats')\n",
        "os.mkdir(validation_cats_dir)\n",
        "\n",
        "# 테스트용 강아지/고양이 데이터셋 디렉토리 생성\n",
        "test_dogs_dir = os.path.join(test_dir, 'dogs')\n",
        "os.mkdir(test_dogs_dir)\n",
        "test_cats_dir = os.path.join(test_dir, 'cats')\n",
        "os.mkdir(test_cats_dir)\n",
        " "
      ],
      "execution_count": 0,
      "outputs": []
    },
    {
      "metadata": {
        "id": "rQGFchRUJix2",
        "colab_type": "code",
        "colab": {}
      },
      "cell_type": "code",
      "source": [
        "# colab용 path 재지정\n",
        "import shutil, os\n",
        "\n",
        "base_dir = \"./\"\n",
        "\n",
        "# 경로 및 디렉토리 생성\n",
        "train_dir = os.path.join(base_dir, 'train')\n",
        "validation_dir = os.path.join(base_dir, 'validation')\n",
        "test_dir = os.path.join(base_dir, 'test')\n",
        "\n",
        "# 훈련용 강아지/고양이 데이터셋 디렉토리 생성\n",
        "train_dogs_dir = os.path.join(train_dir, 'dogs')\n",
        "train_cats_dir = os.path.join(train_dir, 'cats')\n",
        "\n",
        "# 검증용 강아지/고양이 데이터셋 디렉토리 생성\n",
        "validation_dogs_dir = os.path.join(validation_dir, 'dogs')\n",
        "validation_cats_dir = os.path.join(validation_dir, 'cats')\n",
        "\n",
        "# 테스트용 강아지/고양이 데이터셋 디렉토리 생성\n",
        "test_dogs_dir = os.path.join(test_dir, 'dogs')\n",
        "test_cats_dir = os.path.join(test_dir, 'cats')"
      ],
      "execution_count": 0,
      "outputs": []
    },
    {
      "metadata": {
        "scrolled": true,
        "id": "PYCQnTI_9Twf",
        "colab_type": "code",
        "colab": {}
      },
      "cell_type": "code",
      "source": [
        "# 이미지를 각 디렉토리에 집어넣자\n",
        "# colab에서는 이미 나눈 데이터를 올려서 했기때문에 이건 돌릴필요없음.\n",
        "# 알아서 연동되면 좋은데...ㅠ\n",
        "\n",
        "fnames = ['dog.{}.jpg'.format(i) for i in range(1000)] # 처음 1000장 강아지 이미지를 train_dogs_dir로 복사\n",
        "for fname in fnames:\n",
        "    src = os.path.join(original_dataset_dir, fname)\n",
        "    cp_src = os.path.join(train_dogs_dir, fname)\n",
        "    shutil.copyfile(src, cp_src)\n",
        "    \n",
        "fnames = ['dog.{}.jpg'.format(i) for i in range(1000,1500)] # 다음 500장 강아지 이미지를 validation_dogs_dir로 복사\n",
        "for fname in fnames:\n",
        "    src = os.path.join(original_dataset_dir, fname)\n",
        "    cp_src = os.path.join(validation_dogs_dir, fname)\n",
        "    shutil.copyfile(src, cp_src)\n",
        "    \n",
        "fnames = ['dog.{}.jpg'.format(i) for i in range(1500,2000)] # 다음 500장 강아지 이미지를 test_dogs_dir로 복사\n",
        "for fname in fnames:\n",
        "    src = os.path.join(original_dataset_dir, fname)\n",
        "    cp_src = os.path.join(test_dogs_dir, fname)\n",
        "    shutil.copyfile(src, cp_src)\n",
        "    \n",
        "fnames = ['cat.{}.jpg'.format(i) for i in range(1000)] # 처음 1000장 고양이 이미지를 train_cats_dir로 복사\n",
        "for fname in fnames:\n",
        "    src = os.path.join(original_dataset_dir, fname)\n",
        "    cp_src = os.path.join(train_cats_dir, fname)\n",
        "    shutil.copyfile(src, cp_src)\n",
        "    \n",
        "fnames = ['cat.{}.jpg'.format(i) for i in range(1000,1500)] # 다음 500장 고양이 이미지를 validation_cats_dir로 복사\n",
        "for fname in fnames:\n",
        "    src = os.path.join(original_dataset_dir, fname)\n",
        "    cp_src = os.path.join(validation_cats_dir, fname)\n",
        "    shutil.copyfile(src, cp_src)\n",
        "    \n",
        "fnames = ['cat.{}.jpg'.format(i) for i in range(1500,2000)] # 다음 500장 고양이 이미지를 test_cats_dir로 복사\n",
        "for fname in fnames:\n",
        "    src = os.path.join(original_dataset_dir, fname)\n",
        "    cp_src = os.path.join(test_cats_dir, fname)\n",
        "    shutil.copyfile(src, cp_src)  "
      ],
      "execution_count": 0,
      "outputs": []
    },
    {
      "metadata": {
        "id": "X1fbbYMl9Twl",
        "colab_type": "code",
        "outputId": "6e3f46c5-ecaf-44df-c7ed-6dc78f3e1983",
        "colab": {
          "base_uri": "https://localhost:8080/",
          "height": 122
        }
      },
      "cell_type": "code",
      "source": [
        "# 잘 들어갔는지 확인해보자\n",
        "print(\"훈련용 강아지 이미지 총 갯수 : \", len(os.listdir(train_dogs_dir)))\n",
        "print(\"훈련용 고양이 이미지 총 갯수 : \", len(os.listdir(train_cats_dir)))\n",
        "\n",
        "print(\"검증용 강아지 이미지 총 갯수 : \", len(os.listdir(validation_dogs_dir)))\n",
        "print(\"검증용 고양이 이미지 총 갯수 : \", len(os.listdir(validation_cats_dir)))\n",
        "\n",
        "print(\"테스트용 강아지 이미지 총 갯수 : \", len(os.listdir(test_dogs_dir)))\n",
        "print(\"테스트용 고양이 이미지 총 갯수 : \", len(os.listdir(test_cats_dir)))"
      ],
      "execution_count": 0,
      "outputs": [
        {
          "output_type": "stream",
          "text": [
            "훈련용 강아지 이미지 총 갯수 :  1000\n",
            "훈련용 고양이 이미지 총 갯수 :  1000\n",
            "검증용 강아지 이미지 총 갯수 :  500\n",
            "검증용 고양이 이미지 총 갯수 :  500\n",
            "테스트용 강아지 이미지 총 갯수 :  500\n",
            "테스트용 고양이 이미지 총 갯수 :  500\n"
          ],
          "name": "stdout"
        }
      ]
    },
    {
      "metadata": {
        "id": "AFwITYTU9Tww",
        "colab_type": "code",
        "outputId": "6a42ec61-3d09-488f-b5a8-eb5a05a8642f",
        "colab": {
          "base_uri": "https://localhost:8080/",
          "height": 545
        }
      },
      "cell_type": "code",
      "source": [
        "# 네트워크 구성\n",
        "from keras import models\n",
        "from keras.layers import *\n",
        "\n",
        "model = models.Sequential()\n",
        "model.add(Conv2D(32, kernel_size=(3,3), activation='relu', input_shape=(150,150,3))) # output shape은 148x148x32\n",
        "model.add(MaxPooling2D(pool_size=(2,2))) # output shape은 74x74x32\n",
        "model.add(Conv2D(64,kernel_size=(3,3), activation='relu')) # output shape은 72x72x64\n",
        "model.add(MaxPooling2D(pool_size=(2,2))) # output shape은 36x36x64\n",
        "model.add(Conv2D(128,kernel_size=(3,3), activation='relu')) # output shape은 34x34x128\n",
        "model.add(MaxPooling2D(pool_size=(2,2))) # output shape은 17x17x128\n",
        "model.add(Conv2D(128,kernel_size=(3,3), activation='relu')) # output shape은 15x15x128\n",
        "model.add(MaxPooling2D(pool_size=(2,2))) # output shape은 7x7x128 , 7.5가 아니라 7이 되는구나...\n",
        "model.add(Flatten()) # 7*7*128 = 6272개 유닛\n",
        "model.add(Dense(units=512, activation='relu')) # output units = 512\n",
        "model.add(Dense(units=1, activation='sigmoid'))\n",
        "\n",
        "model.summary()"
      ],
      "execution_count": 0,
      "outputs": [
        {
          "output_type": "stream",
          "text": [
            "Using TensorFlow backend.\n"
          ],
          "name": "stderr"
        },
        {
          "output_type": "stream",
          "text": [
            "_________________________________________________________________\n",
            "Layer (type)                 Output Shape              Param #   \n",
            "=================================================================\n",
            "conv2d_1 (Conv2D)            (None, 148, 148, 32)      896       \n",
            "_________________________________________________________________\n",
            "max_pooling2d_1 (MaxPooling2 (None, 74, 74, 32)        0         \n",
            "_________________________________________________________________\n",
            "conv2d_2 (Conv2D)            (None, 72, 72, 64)        18496     \n",
            "_________________________________________________________________\n",
            "max_pooling2d_2 (MaxPooling2 (None, 36, 36, 64)        0         \n",
            "_________________________________________________________________\n",
            "conv2d_3 (Conv2D)            (None, 34, 34, 128)       73856     \n",
            "_________________________________________________________________\n",
            "max_pooling2d_3 (MaxPooling2 (None, 17, 17, 128)       0         \n",
            "_________________________________________________________________\n",
            "conv2d_4 (Conv2D)            (None, 15, 15, 128)       147584    \n",
            "_________________________________________________________________\n",
            "max_pooling2d_4 (MaxPooling2 (None, 7, 7, 128)         0         \n",
            "_________________________________________________________________\n",
            "flatten_1 (Flatten)          (None, 6272)              0         \n",
            "_________________________________________________________________\n",
            "dense_1 (Dense)              (None, 512)               3211776   \n",
            "_________________________________________________________________\n",
            "dense_2 (Dense)              (None, 1)                 513       \n",
            "=================================================================\n",
            "Total params: 3,453,121\n",
            "Trainable params: 3,453,121\n",
            "Non-trainable params: 0\n",
            "_________________________________________________________________\n"
          ],
          "name": "stdout"
        }
      ]
    },
    {
      "metadata": {
        "id": "fSYcQmEw9Tw5",
        "colab_type": "code",
        "colab": {}
      },
      "cell_type": "code",
      "source": [
        "from keras import optimizers\n",
        "\n",
        "model.compile(optimizer=optimizers.rmsprop(lr=1e-4),\n",
        "              loss='binary_crossentropy',\n",
        "              metrics=['acc'])"
      ],
      "execution_count": 0,
      "outputs": []
    },
    {
      "metadata": {
        "id": "hEOmEhId9TxA",
        "colab_type": "code",
        "colab": {}
      },
      "cell_type": "code",
      "source": [
        "# 데이터 전처리 with 제너레이터\n",
        "# 0~255 --> 0~1 사잇값으로 조정\n",
        "from keras.preprocessing.image import ImageDataGenerator\n",
        "\n",
        "train_datagen = ImageDataGenerator(rescale=1./255)\n",
        "test_datagen = ImageDataGenerator(rescale=1./255)"
      ],
      "execution_count": 0,
      "outputs": []
    },
    {
      "metadata": {
        "id": "zsQjBFAI9TxG",
        "colab_type": "code",
        "outputId": "5b515aaf-6398-4b21-a57d-520380097476",
        "colab": {
          "base_uri": "https://localhost:8080/",
          "height": 52
        }
      },
      "cell_type": "code",
      "source": [
        "# 아래 flow_from_directory는 target directory안에 클래스별 디렉토리가 있어야한다.\n",
        "# 이미지 크기는 150x150로 resize\n",
        "# class mode에서 다중분류라면 'categorical'(2차원 one-hot encoding) 또는 'sparse'(1차원 정수 레이블)\n",
        "train_generator = train_datagen.flow_from_directory(directory=train_dir, target_size=(150,150), batch_size=20, class_mode='binary')\n",
        "validation_generator = test_datagen.flow_from_directory(directory=validation_dir, target_size=(150,150), batch_size=20, class_mode='binary')"
      ],
      "execution_count": 0,
      "outputs": [
        {
          "output_type": "stream",
          "text": [
            "Found 2000 images belonging to 2 classes.\n",
            "Found 1000 images belonging to 2 classes.\n"
          ],
          "name": "stdout"
        }
      ]
    },
    {
      "metadata": {
        "id": "wTysx7xY9TxQ",
        "colab_type": "code",
        "outputId": "1df18349-db61-4c29-a053-17d78fc58144",
        "colab": {
          "base_uri": "https://localhost:8080/",
          "height": 52
        }
      },
      "cell_type": "code",
      "source": [
        "# 샘플 제너레이터 출력\n",
        "# 무한정 배치를 만들어주기때문에 break를 걸어줘야한다.\n",
        "\n",
        "for data_batch, labels_batch in train_generator:\n",
        "    print(\"Batch data size : \", data_batch.shape)\n",
        "    print(\"Batch labels size : \", labels_batch.shape)\n",
        "    break"
      ],
      "execution_count": 0,
      "outputs": [
        {
          "output_type": "stream",
          "text": [
            "Batch data size :  (20, 150, 150, 3)\n",
            "Batch labels size :  (20,)\n"
          ],
          "name": "stdout"
        }
      ]
    },
    {
      "metadata": {
        "id": "WelciXnz9TxY",
        "colab_type": "code",
        "outputId": "378252d0-0b41-4766-ceb9-9d5bf0ad081f",
        "colab": {
          "base_uri": "https://localhost:8080/",
          "height": 1073
        }
      },
      "cell_type": "code",
      "source": [
        "# fit_generator사용해보자\n",
        "hist = model.fit_generator(train_generator,\n",
        "                           steps_per_epoch=100,\n",
        "                           epochs=30,\n",
        "                           validation_data=validation_generator,\n",
        "                           validation_steps=50) # epoch당 50개의 validation batch뽑아서 평가하는듯"
      ],
      "execution_count": 0,
      "outputs": [
        {
          "output_type": "stream",
          "text": [
            "Epoch 1/30\n",
            "100/100 [==============================] - 16s 159ms/step - loss: 0.6913 - acc: 0.5230 - val_loss: 0.6745 - val_acc: 0.5850\n",
            "Epoch 2/30\n",
            "100/100 [==============================] - 11s 111ms/step - loss: 0.6634 - acc: 0.5815 - val_loss: 0.6453 - val_acc: 0.6210\n",
            "Epoch 3/30\n",
            "100/100 [==============================] - 11s 107ms/step - loss: 0.6302 - acc: 0.6445 - val_loss: 0.6512 - val_acc: 0.6120\n",
            "Epoch 4/30\n",
            "100/100 [==============================] - 11s 106ms/step - loss: 0.5863 - acc: 0.6975 - val_loss: 0.5976 - val_acc: 0.6720\n",
            "Epoch 5/30\n",
            "100/100 [==============================] - 10s 104ms/step - loss: 0.5483 - acc: 0.7305 - val_loss: 0.6222 - val_acc: 0.6480\n",
            "Epoch 6/30\n",
            "100/100 [==============================] - 10s 103ms/step - loss: 0.5127 - acc: 0.7440 - val_loss: 0.5607 - val_acc: 0.7050\n",
            "Epoch 7/30\n",
            "100/100 [==============================] - 10s 103ms/step - loss: 0.4730 - acc: 0.7715 - val_loss: 0.5880 - val_acc: 0.6930\n",
            "Epoch 8/30\n",
            "100/100 [==============================] - 10s 103ms/step - loss: 0.4406 - acc: 0.7910 - val_loss: 0.5907 - val_acc: 0.7080\n",
            "Epoch 9/30\n",
            "100/100 [==============================] - 11s 105ms/step - loss: 0.4184 - acc: 0.8110 - val_loss: 0.5575 - val_acc: 0.7360\n",
            "Epoch 10/30\n",
            "100/100 [==============================] - 11s 107ms/step - loss: 0.3966 - acc: 0.8260 - val_loss: 0.5525 - val_acc: 0.7290\n",
            "Epoch 11/30\n",
            "100/100 [==============================] - 11s 106ms/step - loss: 0.3780 - acc: 0.8335 - val_loss: 0.5409 - val_acc: 0.7310\n",
            "Epoch 12/30\n",
            "100/100 [==============================] - 11s 106ms/step - loss: 0.3442 - acc: 0.8485 - val_loss: 0.6293 - val_acc: 0.7200\n",
            "Epoch 13/30\n",
            "100/100 [==============================] - 11s 107ms/step - loss: 0.3243 - acc: 0.8645 - val_loss: 0.5618 - val_acc: 0.7230\n",
            "Epoch 14/30\n",
            "100/100 [==============================] - 11s 106ms/step - loss: 0.2982 - acc: 0.8775 - val_loss: 0.5647 - val_acc: 0.7480\n",
            "Epoch 15/30\n",
            "100/100 [==============================] - 11s 108ms/step - loss: 0.2765 - acc: 0.8865 - val_loss: 0.6209 - val_acc: 0.7230\n",
            "Epoch 16/30\n",
            "100/100 [==============================] - 11s 108ms/step - loss: 0.2505 - acc: 0.9000 - val_loss: 0.6315 - val_acc: 0.7310\n",
            "Epoch 17/30\n",
            "100/100 [==============================] - 11s 109ms/step - loss: 0.2337 - acc: 0.9095 - val_loss: 0.5777 - val_acc: 0.7420\n",
            "Epoch 18/30\n",
            "100/100 [==============================] - 11s 107ms/step - loss: 0.2050 - acc: 0.9255 - val_loss: 0.6577 - val_acc: 0.7290\n",
            "Epoch 19/30\n",
            "100/100 [==============================] - 11s 109ms/step - loss: 0.1900 - acc: 0.9270 - val_loss: 0.6226 - val_acc: 0.7430\n",
            "Epoch 20/30\n",
            "100/100 [==============================] - 11s 109ms/step - loss: 0.1709 - acc: 0.9360 - val_loss: 0.6537 - val_acc: 0.7340\n",
            "Epoch 21/30\n",
            "100/100 [==============================] - 11s 108ms/step - loss: 0.1519 - acc: 0.9450 - val_loss: 0.6840 - val_acc: 0.7480\n",
            "Epoch 22/30\n",
            "100/100 [==============================] - 11s 109ms/step - loss: 0.1278 - acc: 0.9610 - val_loss: 0.7784 - val_acc: 0.7260\n",
            "Epoch 23/30\n",
            "100/100 [==============================] - 11s 109ms/step - loss: 0.1201 - acc: 0.9575 - val_loss: 1.1629 - val_acc: 0.6740\n",
            "Epoch 24/30\n",
            "100/100 [==============================] - 11s 108ms/step - loss: 0.0963 - acc: 0.9745 - val_loss: 0.8071 - val_acc: 0.7410\n",
            "Epoch 25/30\n",
            "100/100 [==============================] - 11s 110ms/step - loss: 0.0918 - acc: 0.9755 - val_loss: 0.7748 - val_acc: 0.7460\n",
            "Epoch 26/30\n",
            "100/100 [==============================] - 11s 109ms/step - loss: 0.0738 - acc: 0.9810 - val_loss: 0.8893 - val_acc: 0.7410\n",
            "Epoch 27/30\n",
            "100/100 [==============================] - 11s 106ms/step - loss: 0.0592 - acc: 0.9835 - val_loss: 0.8844 - val_acc: 0.7460\n",
            "Epoch 28/30\n",
            "100/100 [==============================] - 11s 109ms/step - loss: 0.0520 - acc: 0.9880 - val_loss: 0.9277 - val_acc: 0.7420\n",
            "Epoch 29/30\n",
            "100/100 [==============================] - 10s 104ms/step - loss: 0.0442 - acc: 0.9910 - val_loss: 0.9292 - val_acc: 0.7480\n",
            "Epoch 30/30\n",
            "100/100 [==============================] - 11s 107ms/step - loss: 0.0336 - acc: 0.9935 - val_loss: 0.9798 - val_acc: 0.7480\n"
          ],
          "name": "stdout"
        }
      ]
    },
    {
      "metadata": {
        "id": "S8YXC8rW9Txh",
        "colab_type": "code",
        "colab": {}
      },
      "cell_type": "code",
      "source": [
        "# 모델 저장(save)\n",
        "model.save('dogs_and_cats_small_1.h5')"
      ],
      "execution_count": 0,
      "outputs": []
    },
    {
      "metadata": {
        "id": "KU34bxAJ9Txm",
        "colab_type": "code",
        "outputId": "c4828165-c202-4ed0-b7c7-1fc7f3b372fc",
        "colab": {
          "base_uri": "https://localhost:8080/",
          "height": 365
        }
      },
      "cell_type": "code",
      "source": [
        "import matplotlib.pyplot as plt\n",
        "\n",
        "plt.figure(figsize=(10,5))\n",
        "\n",
        "plt.subplot(2,1,1)\n",
        "plt.plot(range(1, len(hist.history['acc']) + 1), hist.history['acc'], 'b-', label='Training accuracy')\n",
        "plt.plot(range(1, len(hist.history['acc']) + 1), hist.history['val_acc'], 'r-', label='Validation accuracy')\n",
        "plt.title(\"Accuracy\")\n",
        "plt.legend()\n",
        "\n",
        "plt.subplot(2,1,2)\n",
        "plt.plot(range(1, len(hist.history['acc']) + 1), hist.history['loss'], 'b-', label='Training loss')\n",
        "plt.plot(range(1, len(hist.history['acc']) + 1), hist.history['val_loss'], 'r-', label='Validation loss')\n",
        "plt.title(\"Loss\")\n",
        "plt.legend()\n",
        "\n",
        "plt.tight_layout()\n",
        "plt.show()"
      ],
      "execution_count": 0,
      "outputs": [
        {
          "output_type": "display_data",
          "data": {
            "image/png": "[encoded data removed]",
            "text/plain": [
              "<Figure size 720x360 with 2 Axes>"
            ]
          },
          "metadata": {
            "tags": []
          }
        }
      ]
    }
  ]
}
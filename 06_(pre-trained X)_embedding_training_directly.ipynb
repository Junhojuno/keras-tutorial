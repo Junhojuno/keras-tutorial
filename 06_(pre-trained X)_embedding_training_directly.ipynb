{
 "cells": [
  {
   "cell_type": "markdown",
   "metadata": {},
   "source": [
    "### Pre-Trained embedding을 사용하지 않고 같은 모델 훌련하기"
   ]
  },
  {
   "cell_type": "code",
   "execution_count": 1,
   "metadata": {},
   "outputs": [],
   "source": [
    "# 원본 데이터 다운로드\n",
    "import os\n",
    "\n",
    "imdb_dir = './datasets/aclImdb'\n",
    "train_dir = os.path.join(imdb_dir, 'train')\n",
    "\n",
    "labels = []\n",
    "texts = []\n",
    "\n",
    "for label_type in ['neg', 'pos']: # negative, positive divide\n",
    "    dir_name = os.path.join(train_dir, label_type)\n",
    "    for fname in os.listdir(dir_name):\n",
    "        if fname[-4:] == '.txt':\n",
    "            f = open(os.path.join(dir_name, fname), encoding='utf8')\n",
    "            texts.append(f.read())\n",
    "            f.close()\n",
    "            if label_type == 'neg':\n",
    "                labels.append(0)\n",
    "            else:\n",
    "                labels.append(1)"
   ]
  },
  {
   "cell_type": "markdown",
   "metadata": {},
   "source": [
    "- 추후 pre-trained model을 사용할것이기 때문에(데이터수가 적을때 유용한 pre-trained model이라는점)\n",
    "- 데이터를 200개로 제한한다."
   ]
  },
  {
   "cell_type": "code",
   "execution_count": 2,
   "metadata": {},
   "outputs": [
    {
     "data": {
      "text/plain": [
       "(25000, 25000)"
      ]
     },
     "execution_count": 2,
     "metadata": {},
     "output_type": "execute_result"
    }
   ],
   "source": [
    "len(texts), len(labels)"
   ]
  },
  {
   "cell_type": "code",
   "execution_count": 3,
   "metadata": {},
   "outputs": [
    {
     "name": "stderr",
     "output_type": "stream",
     "text": [
      "Using TensorFlow backend.\n"
     ]
    },
    {
     "name": "stdout",
     "output_type": "stream",
     "text": [
      "88582개의 고유 토큰을 발견하였습니다.\n",
      "데이터 텐서의 크기 :  (25000, 100)\n",
      "레이블 텐서의 크기 :  (25000,)\n"
     ]
    }
   ],
   "source": [
    "# tokenizing\n",
    "from keras.preprocessing.text import Tokenizer\n",
    "from keras.preprocessing.sequence import pad_sequences\n",
    "import numpy as np\n",
    "\n",
    "maxlen = 100 # 100개 단어 이후는 버린다.\n",
    "training_samples = 200\n",
    "validation_samples = 10000 # 검증 데이터는 1만개~\n",
    "max_words = 10000 # 가장 빈도가 높은 단어 1만개만 사용\n",
    "\n",
    "tokenizer = Tokenizer(num_words=max_words)\n",
    "tokenizer.fit_on_texts(texts)\n",
    "sequences = tokenizer.texts_to_sequences(texts) # text를 integer의 sequence로 만들어줘!\n",
    "\n",
    "word_index = tokenizer.word_index\n",
    "print(\"%s개의 고유 토큰을 발견하였습니다.\" % len(word_index))\n",
    "\n",
    "data = pad_sequences(sequences=sequences, maxlen=maxlen)\n",
    "labels = np.asarray(labels)\n",
    "print(\"데이터 텐서의 크기 : \", data.shape)\n",
    "print(\"레이블 텐서의 크기 : \", labels.shape)\n",
    "\n",
    "indices = np.arange(data.shape[0]) \n",
    "np.random.shuffle(indices) # 부정 끝나면 긍정나오기 때문에 섞어준다.\n",
    "data = data[indices]\n",
    "labels = labels[indices]\n",
    "\n",
    "x_train = data[:training_samples]\n",
    "x_val = data[training_samples:training_samples+validation_samples]\n",
    "\n",
    "y_train = labels[:training_samples]\n",
    "y_val = labels[training_samples:training_samples+validation_samples]"
   ]
  },
  {
   "cell_type": "code",
   "execution_count": 5,
   "metadata": {},
   "outputs": [
    {
     "name": "stdout",
     "output_type": "stream",
     "text": [
      "_________________________________________________________________\n",
      "Layer (type)                 Output Shape              Param #   \n",
      "=================================================================\n",
      "embedding_1 (Embedding)      (None, 100, 100)          1000000   \n",
      "_________________________________________________________________\n",
      "flatten_1 (Flatten)          (None, 10000)             0         \n",
      "_________________________________________________________________\n",
      "dense_1 (Dense)              (None, 32)                320032    \n",
      "_________________________________________________________________\n",
      "dense_2 (Dense)              (None, 1)                 33        \n",
      "=================================================================\n",
      "Total params: 1,320,065\n",
      "Trainable params: 1,320,065\n",
      "Non-trainable params: 0\n",
      "_________________________________________________________________\n"
     ]
    }
   ],
   "source": [
    "from keras.models import Sequential\n",
    "from keras.layers import Dense, Flatten, Embedding\n",
    "\n",
    "embedding_dim = 100\n",
    "\n",
    "model = Sequential()\n",
    "model.add(Embedding(input_dim=max_words, output_dim=embedding_dim, input_length=maxlen))\n",
    "model.add(Flatten())\n",
    "model.add(Dense(32, activation='relu'))\n",
    "model.add(Dense(1, activation='sigmoid'))\n",
    "model.summary()"
   ]
  },
  {
   "cell_type": "code",
   "execution_count": 6,
   "metadata": {},
   "outputs": [
    {
     "name": "stdout",
     "output_type": "stream",
     "text": [
      "Train on 200 samples, validate on 10000 samples\n",
      "Epoch 1/10\n",
      "200/200 [==============================] - 3s 14ms/step - loss: 0.6961 - acc: 0.4500 - val_loss: 0.6929 - val_acc: 0.5140\n",
      "Epoch 2/10\n",
      "200/200 [==============================] - 3s 13ms/step - loss: 0.5050 - acc: 0.9900 - val_loss: 0.6973 - val_acc: 0.5103\n",
      "Epoch 3/10\n",
      "200/200 [==============================] - 3s 13ms/step - loss: 0.2845 - acc: 0.9900 - val_loss: 0.7142 - val_acc: 0.5145\n",
      "Epoch 4/10\n",
      "200/200 [==============================] - 2s 11ms/step - loss: 0.1231 - acc: 1.0000 - val_loss: 0.7037 - val_acc: 0.5233\n",
      "Epoch 5/10\n",
      "200/200 [==============================] - 3s 13ms/step - loss: 0.0565 - acc: 1.0000 - val_loss: 0.7093 - val_acc: 0.5210\n",
      "Epoch 6/10\n",
      "200/200 [==============================] - 2s 11ms/step - loss: 0.0291 - acc: 1.0000 - val_loss: 0.7163 - val_acc: 0.5260\n",
      "Epoch 7/10\n",
      "200/200 [==============================] - 2s 12ms/step - loss: 0.0156 - acc: 1.0000 - val_loss: 0.7236 - val_acc: 0.5234\n",
      "Epoch 8/10\n",
      "200/200 [==============================] - 2s 12ms/step - loss: 0.0092 - acc: 1.0000 - val_loss: 0.7262 - val_acc: 0.5255\n",
      "Epoch 9/10\n",
      "200/200 [==============================] - 3s 13ms/step - loss: 0.0055 - acc: 1.0000 - val_loss: 0.7298 - val_acc: 0.5267\n",
      "Epoch 10/10\n",
      "200/200 [==============================] - 2s 12ms/step - loss: 0.0034 - acc: 1.0000 - val_loss: 0.7391 - val_acc: 0.5280\n"
     ]
    }
   ],
   "source": [
    "model.compile(optimizer='rmsprop', loss='binary_crossentropy', metrics=['acc'])\n",
    "hist = model.fit(x=x_train, y=y_train, epochs=10, batch_size=32, validation_data=(x_val, y_val))"
   ]
  },
  {
   "cell_type": "code",
   "execution_count": 7,
   "metadata": {},
   "outputs": [
    {
     "data": {
      "image/png": "[encoded data removed]",
      "text/plain": [
       "<Figure size 720x360 with 2 Axes>"
      ]
     },
     "metadata": {},
     "output_type": "display_data"
    }
   ],
   "source": [
    "import matplotlib.pyplot as plt\n",
    "\n",
    "epochs = range(1, len(hist.history['acc']) + 1)\n",
    "\n",
    "plt.figure(figsize=(10,5))\n",
    "\n",
    "plt.subplot(1,2,1)\n",
    "plt.plot(epochs, hist.history['acc'], 'b-', label='Training Accuracy')\n",
    "plt.plot(epochs, hist.history['val_acc'], 'r-', label='Validation Accuracy')\n",
    "plt.title(\"Accuracy\")\n",
    "plt.legend()\n",
    "\n",
    "plt.subplot(1,2,2)\n",
    "plt.plot(epochs, hist.history['loss'], 'b-', label='Training Loss')\n",
    "plt.plot(epochs, hist.history['val_loss'], 'r-', label='Validation Loss')\n",
    "plt.title(\"Loss\")\n",
    "plt.legend()\n",
    "\n",
    "plt.tight_layout()\n",
    "plt.show()"
   ]
  },
  {
   "cell_type": "markdown",
   "metadata": {},
   "source": [
    "---\n",
    "### training data 갯수를 늘려보자\n",
    "- 2000개"
   ]
  },
  {
   "cell_type": "code",
   "execution_count": 10,
   "metadata": {},
   "outputs": [
    {
     "name": "stdout",
     "output_type": "stream",
     "text": [
      "88582개의 고유 토큰을 발견하였습니다.\n",
      "데이터 텐서의 크기 :  (25000, 100)\n",
      "레이블 텐서의 크기 :  (25000,)\n",
      "x train shape :  (2000, 100)\n"
     ]
    }
   ],
   "source": [
    "# tokenizing\n",
    "from keras.preprocessing.text import Tokenizer\n",
    "from keras.preprocessing.sequence import pad_sequences\n",
    "import numpy as np\n",
    "\n",
    "maxlen = 100 # 100개 단어 이후는 버린다.\n",
    "training_samples = 2000\n",
    "validation_samples = 10000 # 검증 데이터는 1만개~\n",
    "max_words = 10000 # 가장 빈도가 높은 단어 1만개만 사용\n",
    "\n",
    "tokenizer = Tokenizer(num_words=max_words)\n",
    "tokenizer.fit_on_texts(texts)\n",
    "sequences = tokenizer.texts_to_sequences(texts) # text를 integer의 sequence로 만들어줘!\n",
    "\n",
    "word_index = tokenizer.word_index\n",
    "print(\"%s개의 고유 토큰을 발견하였습니다.\" % len(word_index))\n",
    "\n",
    "data = pad_sequences(sequences=sequences, maxlen=maxlen)\n",
    "labels = np.asarray(labels)\n",
    "print(\"데이터 텐서의 크기 : \", data.shape)\n",
    "print(\"레이블 텐서의 크기 : \", labels.shape)\n",
    "\n",
    "indices = np.arange(data.shape[0]) \n",
    "np.random.shuffle(indices) # 부정 끝나면 긍정나오기 때문에 섞어준다.\n",
    "data = data[indices]\n",
    "labels = labels[indices]\n",
    "\n",
    "x_train = data[:training_samples]\n",
    "x_val = data[training_samples:training_samples+validation_samples]\n",
    "\n",
    "y_train = labels[:training_samples]\n",
    "y_val = labels[training_samples:training_samples+validation_samples]\n",
    "\n",
    "print(\"x train shape : \", x_train.shape)"
   ]
  },
  {
   "cell_type": "code",
   "execution_count": 11,
   "metadata": {},
   "outputs": [
    {
     "name": "stdout",
     "output_type": "stream",
     "text": [
      "_________________________________________________________________\n",
      "Layer (type)                 Output Shape              Param #   \n",
      "=================================================================\n",
      "embedding_3 (Embedding)      (None, 100, 100)          1000000   \n",
      "_________________________________________________________________\n",
      "flatten_3 (Flatten)          (None, 10000)             0         \n",
      "_________________________________________________________________\n",
      "dense_5 (Dense)              (None, 32)                320032    \n",
      "_________________________________________________________________\n",
      "dense_6 (Dense)              (None, 1)                 33        \n",
      "=================================================================\n",
      "Total params: 1,320,065\n",
      "Trainable params: 1,320,065\n",
      "Non-trainable params: 0\n",
      "_________________________________________________________________\n",
      "Train on 2000 samples, validate on 10000 samples\n",
      "Epoch 1/10\n",
      "2000/2000 [==============================] - 5s 2ms/step - loss: 0.6951 - acc: 0.4845 - val_loss: 0.6947 - val_acc: 0.5001\n",
      "Epoch 2/10\n",
      "2000/2000 [==============================] - 5s 2ms/step - loss: 0.4444 - acc: 0.9200 - val_loss: 0.7477 - val_acc: 0.4991\n",
      "Epoch 3/10\n",
      "2000/2000 [==============================] - 4s 2ms/step - loss: 0.0938 - acc: 0.9890 - val_loss: 0.8661 - val_acc: 0.4986\n",
      "Epoch 4/10\n",
      "2000/2000 [==============================] - 4s 2ms/step - loss: 0.0113 - acc: 0.9990 - val_loss: 0.9895 - val_acc: 0.4997\n",
      "Epoch 5/10\n",
      "2000/2000 [==============================] - 5s 3ms/step - loss: 0.0014 - acc: 0.9995 - val_loss: 1.1518 - val_acc: 0.4957\n",
      "Epoch 6/10\n",
      "2000/2000 [==============================] - 4s 2ms/step - loss: 9.8848e-05 - acc: 1.0000 - val_loss: 1.2583 - val_acc: 0.4941\n",
      "Epoch 7/10\n",
      "2000/2000 [==============================] - 4s 2ms/step - loss: 8.8486e-06 - acc: 1.0000 - val_loss: 1.4021 - val_acc: 0.4950\n",
      "Epoch 8/10\n",
      "2000/2000 [==============================] - 4s 2ms/step - loss: 9.4103e-07 - acc: 1.0000 - val_loss: 1.5408 - val_acc: 0.4950\n",
      "Epoch 9/10\n",
      "2000/2000 [==============================] - 5s 2ms/step - loss: 1.9879e-07 - acc: 1.0000 - val_loss: 1.6521 - val_acc: 0.4945\n",
      "Epoch 10/10\n",
      "2000/2000 [==============================] - 5s 2ms/step - loss: 1.1791e-07 - acc: 1.0000 - val_loss: 1.7103 - val_acc: 0.4951\n"
     ]
    }
   ],
   "source": [
    "model = Sequential()\n",
    "model.add(Embedding(input_dim=max_words, output_dim=embedding_dim, input_length=maxlen))\n",
    "model.add(Flatten())\n",
    "model.add(Dense(32, activation='relu'))\n",
    "model.add(Dense(1, activation='sigmoid'))\n",
    "model.summary()\n",
    "\n",
    "model.compile(optimizer='rmsprop', loss='binary_crossentropy', metrics=['acc'])\n",
    "hist = model.fit(x=x_train, y=y_train, epochs=10, batch_size=32, validation_data=(x_val, y_val))"
   ]
  },
  {
   "cell_type": "code",
   "execution_count": 12,
   "metadata": {},
   "outputs": [
    {
     "data": {
      "image/png": "[encoded data removed]",
      "text/plain": [
       "<Figure size 720x360 with 2 Axes>"
      ]
     },
     "metadata": {},
     "output_type": "display_data"
    }
   ],
   "source": [
    "plt.figure(figsize=(10,5))\n",
    "\n",
    "plt.subplot(1,2,1)\n",
    "plt.plot(epochs, hist.history['acc'], 'b-', label='Training Accuracy')\n",
    "plt.plot(epochs, hist.history['val_acc'], 'r-', label='Validation Accuracy')\n",
    "plt.title(\"Accuracy\")\n",
    "plt.legend()\n",
    "\n",
    "plt.subplot(1,2,2)\n",
    "plt.plot(epochs, hist.history['loss'], 'b-', label='Training Loss')\n",
    "plt.plot(epochs, hist.history['val_loss'], 'r-', label='Validation Loss')\n",
    "plt.title(\"Loss\")\n",
    "plt.legend()\n",
    "\n",
    "plt.tight_layout()\n",
    "plt.show()"
   ]
  },
  {
   "cell_type": "markdown",
   "metadata": {},
   "source": [
    "똑같은데...?"
   ]
  },
  {
   "cell_type": "markdown",
   "metadata": {},
   "source": [
    "### Testing"
   ]
  },
  {
   "cell_type": "code",
   "execution_count": 13,
   "metadata": {},
   "outputs": [],
   "source": [
    "test_dir = os.path.join(imdb_dir, 'test')\n",
    "\n",
    "labels = []\n",
    "texts = []\n",
    "\n",
    "for label_type in ['neg', 'pos']: # negative, positive divide\n",
    "    dir_name = os.path.join(test_dir, label_type)\n",
    "    for fname in os.listdir(dir_name):\n",
    "        if fname[-4:] == '.txt':\n",
    "            f = open(os.path.join(dir_name, fname), encoding='utf8')\n",
    "            texts.append(f.read())\n",
    "            f.close()\n",
    "            if label_type == 'neg':\n",
    "                labels.append(0)\n",
    "            else:\n",
    "                labels.append(1)\n",
    "                \n",
    "sequences = tokenizer.texts_to_sequences(texts) # train 시킨걸로 사용해야한다(바꿔야한다).\n",
    "x_test = pad_sequences(sequences=sequences, maxlen=maxlen)\n",
    "y_test = np.asarray(labels)"
   ]
  },
  {
   "cell_type": "code",
   "execution_count": 14,
   "metadata": {},
   "outputs": [
    {
     "name": "stdout",
     "output_type": "stream",
     "text": [
      "25000/25000 [==============================] - 6s 232us/step\n"
     ]
    },
    {
     "data": {
      "text/plain": [
       "[0.8974016856002808, 0.55216]"
      ]
     },
     "execution_count": 14,
     "metadata": {},
     "output_type": "execute_result"
    }
   ],
   "source": [
    "model.load_weights(filepath='pre_trained_glove_model.h5')\n",
    "model.evaluate(x_test, y_test)"
   ]
  }
 ],
 "metadata": {
  "kernelspec": {
   "display_name": "Python 3",
   "language": "python",
   "name": "python3"
  },
  "language_info": {
   "codemirror_mode": {
    "name": "ipython",
    "version": 3
   },
   "file_extension": ".py",
   "mimetype": "text/x-python",
   "name": "python",
   "nbconvert_exporter": "python",
   "pygments_lexer": "ipython3",
   "version": "3.6.6"
  }
 },
 "nbformat": 4,
 "nbformat_minor": 2
}

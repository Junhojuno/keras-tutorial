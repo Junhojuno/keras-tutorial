{
  "nbformat": 4,
  "nbformat_minor": 0,
  "metadata": {
    "colab": {
      "name": "07_Functional_API.ipynb",
      "version": "0.3.2",
      "provenance": [],
      "include_colab_link": true
    },
    "kernelspec": {
      "name": "python3",
      "display_name": "Python 3"
    }
  },
  "cells": [
    {
      "cell_type": "markdown",
      "metadata": {
        "id": "view-in-github",
        "colab_type": "text"
      },
      "source": [
        "<a href=\"https://colab.research.google.com/github/Junhojuno/keras-tutorial/blob/master/07_Functional_API.ipynb\" target=\"_parent\"><img src=\"https://colab.research.google.com/assets/colab-badge.svg\" alt=\"Open In Colab\"/></a>"
      ]
    },
    {
      "metadata": {
        "id": "jmR8ZbvUXWK0",
        "colab_type": "text"
      },
      "cell_type": "markdown",
      "source": [
        "### 함수형 API\n",
        "- 기존 Sequential과 함수형 API 비교\n",
        "- compile부분부터는 기존 Sequential과 동일"
      ]
    },
    {
      "metadata": {
        "id": "_OFaeexPVD1Q",
        "colab_type": "code",
        "outputId": "d24e583a-9732-4b23-e4d4-b2e0c759c52e",
        "colab": {
          "base_uri": "https://localhost:8080/",
          "height": 318
        }
      },
      "cell_type": "code",
      "source": [
        "from keras.models import Sequential, Model\n",
        "from keras.layers import *\n",
        "from keras import Input\n",
        "\n",
        "# 기존 Sequential 모델\n",
        "seq_model = Sequential()\n",
        "seq_model.add(Dense(32, activation='relu', input_shape=(64,)))\n",
        "seq_model.add(Dense(32, activation='relu'))\n",
        "seq_model.add(Dense(10, activation='softmax'))\n",
        "\n",
        "seq_model.summary()"
      ],
      "execution_count": 0,
      "outputs": [
        {
          "output_type": "stream",
          "text": [
            "WARNING:tensorflow:From /usr/local/lib/python3.6/dist-packages/tensorflow/python/framework/op_def_library.py:263: colocate_with (from tensorflow.python.framework.ops) is deprecated and will be removed in a future version.\n",
            "Instructions for updating:\n",
            "Colocations handled automatically by placer.\n",
            "_________________________________________________________________\n",
            "Layer (type)                 Output Shape              Param #   \n",
            "=================================================================\n",
            "dense_1 (Dense)              (None, 32)                2080      \n",
            "_________________________________________________________________\n",
            "dense_2 (Dense)              (None, 32)                1056      \n",
            "_________________________________________________________________\n",
            "dense_3 (Dense)              (None, 10)                330       \n",
            "=================================================================\n",
            "Total params: 3,466\n",
            "Trainable params: 3,466\n",
            "Non-trainable params: 0\n",
            "_________________________________________________________________\n"
          ],
          "name": "stdout"
        }
      ]
    },
    {
      "metadata": {
        "id": "BbPUjALUX45G",
        "colab_type": "code",
        "outputId": "31f39d68-538c-44ae-82a6-c5e455bb7528",
        "colab": {
          "base_uri": "https://localhost:8080/",
          "height": 281
        }
      },
      "cell_type": "code",
      "source": [
        "# 함수형 API\n",
        "input_tensor = Input(shape=(64,))\n",
        "x = Dense(32, activation='relu')(input_tensor)\n",
        "x = Dense(32, activation='relu')(x)\n",
        "output_tensor = Dense(10, activation='softmax')(x)\n",
        "\n",
        "functional_model = Model(input_tensor, output_tensor)\n",
        "\n",
        "functional_model.summary()"
      ],
      "execution_count": 0,
      "outputs": [
        {
          "output_type": "stream",
          "text": [
            "_________________________________________________________________\n",
            "Layer (type)                 Output Shape              Param #   \n",
            "=================================================================\n",
            "input_1 (InputLayer)         (None, 64)                0         \n",
            "_________________________________________________________________\n",
            "dense_4 (Dense)              (None, 32)                2080      \n",
            "_________________________________________________________________\n",
            "dense_5 (Dense)              (None, 32)                1056      \n",
            "_________________________________________________________________\n",
            "dense_6 (Dense)              (None, 10)                330       \n",
            "=================================================================\n",
            "Total params: 3,466\n",
            "Trainable params: 3,466\n",
            "Non-trainable params: 0\n",
            "_________________________________________________________________\n"
          ],
          "name": "stdout"
        }
      ]
    },
    {
      "metadata": {
        "id": "6I_0ejMuXQF_",
        "colab_type": "text"
      },
      "cell_type": "markdown",
      "source": [
        "### 다중 입력 모델\n",
        "- 함수 API는 다중입력모델을 만드는데 사용할 수 있다.\n",
        "- 가장 간단한 Question-Answering 모델 구현\n",
        "  - 입력으로 정보가 담긴 text와 질문이 들어감\n",
        "  - 답을 출력하도록 하는 모델 구성"
      ]
    },
    {
      "metadata": {
        "id": "KcKH-2gfdaSP",
        "colab_type": "code",
        "outputId": "6e8fdd16-b6f1-44bd-e2ec-c9ad99d412e2",
        "colab": {
          "base_uri": "https://localhost:8080/",
          "height": 512
        }
      },
      "cell_type": "code",
      "source": [
        "from keras.models import Model\n",
        "from keras.layers import *\n",
        "from keras import Input\n",
        "\n",
        "text_vocabulary_size = 10000\n",
        "question_vocabulary_size = 10000\n",
        "answer_vocabulary_size = 500\n",
        "\n",
        "text_input = Input(shape=(None,), dtype='int32', name='text')\n",
        "embedded_text = Embedding(input_dim=text_vocabulary_size, output_dim=64)(text_input)\n",
        "encoded_text = LSTM(32)(embedded_text) # (sample,features)\n",
        "\n",
        "question_input = Input(shape=(None,), dtype='int32', name='question')\n",
        "embedded_question = Embedding(input_dim=question_vocabulary_size, output_dim=32)(question_input)\n",
        "encoded_question = LSTM(16)(embedded_question) # (sample,features)\n",
        "\n",
        "# encoding된 질문과 텍스트를 연결\n",
        "concatenated = concatenate([encoded_text, encoded_question], axis=-1)\n",
        "\n",
        "answer = Dense(answer_vocabulary_size, activation='softmax')(concatenated)\n",
        "\n",
        "model = Model([text_input, question_input], answer)\n",
        "\n",
        "\n",
        "model.summary()"
      ],
      "execution_count": 2,
      "outputs": [
        {
          "output_type": "stream",
          "text": [
            "WARNING:tensorflow:From /usr/local/lib/python3.6/dist-packages/tensorflow/python/framework/op_def_library.py:263: colocate_with (from tensorflow.python.framework.ops) is deprecated and will be removed in a future version.\n",
            "Instructions for updating:\n",
            "Colocations handled automatically by placer.\n",
            "__________________________________________________________________________________________________\n",
            "Layer (type)                    Output Shape         Param #     Connected to                     \n",
            "==================================================================================================\n",
            "text (InputLayer)               (None, None)         0                                            \n",
            "__________________________________________________________________________________________________\n",
            "question (InputLayer)           (None, None)         0                                            \n",
            "__________________________________________________________________________________________________\n",
            "embedding_1 (Embedding)         (None, None, 64)     640000      text[0][0]                       \n",
            "__________________________________________________________________________________________________\n",
            "embedding_2 (Embedding)         (None, None, 32)     320000      question[0][0]                   \n",
            "__________________________________________________________________________________________________\n",
            "lstm_1 (LSTM)                   (None, 32)           12416       embedding_1[0][0]                \n",
            "__________________________________________________________________________________________________\n",
            "lstm_2 (LSTM)                   (None, 16)           3136        embedding_2[0][0]                \n",
            "__________________________________________________________________________________________________\n",
            "concatenate_1 (Concatenate)     (None, 48)           0           lstm_1[0][0]                     \n",
            "                                                                 lstm_2[0][0]                     \n",
            "__________________________________________________________________________________________________\n",
            "dense_1 (Dense)                 (None, 500)          24500       concatenate_1[0][0]              \n",
            "==================================================================================================\n",
            "Total params: 1,000,052\n",
            "Trainable params: 1,000,052\n",
            "Non-trainable params: 0\n",
            "__________________________________________________________________________________________________\n"
          ],
          "name": "stdout"
        }
      ]
    },
    {
      "metadata": {
        "id": "9KJU8fawjSin",
        "colab_type": "text"
      },
      "cell_type": "markdown",
      "source": [
        "```python\n",
        "# 여러 입력데이터를 어떻게 집어넣을 것인가?\n",
        "import numpy as np\n",
        "from keras.utils import to_categorical\n",
        "\n",
        "num_samples = 1000\n",
        "max_length = 100\n",
        "\n",
        "text = np.random.randint(1, text_vocabulary_size, size=(num_samples, max_length))\n",
        "question = np.random.randint(1, question_vocabulary_size, size=(num_samples, max_length))\n",
        "answer = np.random.randint(0, answer_vocabulary_size, size=num_samples)\n",
        "\n",
        "answer = to_categorical(answer) # one-hot encoding\n",
        "\n",
        "# 입력방식 첫번째 : numpy로 만들어 넣어버리기\n",
        "model.fit(x=[text, question], y=answer, epochs=10, batch_size=128)\n",
        "\n",
        "# 입력방식 두번째 : numpy로 만들고 dictionary형태로 만들어 넣기\n",
        "model.fit(x={'text':text, 'question':question}, answer, epochs=10, batch_size=128)\n",
        "```"
      ]
    },
    {
      "metadata": {
        "id": "JvRBg9GKi_rb",
        "colab_type": "text"
      },
      "cell_type": "markdown",
      "source": [
        "### 다중 출력모델 (multi-output / multi-head)\n",
        "- 예를 들면, 포스팅을 입력으로 받아 작성자의 나이, 성별, 소득수준 등을 예측하는 방식"
      ]
    },
    {
      "metadata": {
        "id": "_1iHs1Icldoy",
        "colab_type": "code",
        "colab": {
          "base_uri": "https://localhost:8080/",
          "height": 633
        },
        "outputId": "527ee83a-7fdf-4969-9ab3-cf693063a1ff"
      },
      "cell_type": "code",
      "source": [
        "from keras.layers import *\n",
        "from keras import Input\n",
        "from keras.models import Model\n",
        "\n",
        "vocabulary_size = 50000\n",
        "num_income_groups = 10\n",
        "\n",
        "posts_input = Input(shape=(None,), dtype='int32', name='posts')\n",
        "embedded_posts = Embedding(input_dim=vocabulary_size, output_dim=256)(posts_input)\n",
        "x = Conv1D(filters=128, kernel_size=5, activation='relu')(embedded_posts)\n",
        "x = MaxPooling1D(5)(x)\n",
        "x = Conv1D(256, 5, activation='relu')(x)\n",
        "x = Conv1D(256, 5, activation='relu')(x)\n",
        "x = MaxPooling1D(5)(x)\n",
        "x = Conv1D(256, 5, activation='relu')(x)\n",
        "x = Conv1D(256, 5, activation='relu')(x)\n",
        "x = GlobalMaxPooling1D()(x)\n",
        "x = Dense(128, activation='relu')(x)\n",
        "\n",
        "# 출력값마다 다르게 loss function을 지정해주자\n",
        "age_prediction = Dense(1, name='age')(x)\n",
        "sex_prediction = Dense(1, activation='sigmoid', name='sex')(x)\n",
        "income_prediction = Dense(num_income_groups, activation='softmax', name='income')(x)\n",
        "\n",
        "model = Model(posts_input, [age_prediction, sex_prediction, income_prediction])\n",
        "\n",
        "# 위에서 name을 지정해줬기때문에 dictionary로 작성가능\n",
        "# 지정하지 않았다면, 그냥 순서대로 list로 구성하면 됨.\n",
        "model.compile(optimizer='rmsprop', loss={'age':'mse', 'sex': 'binary_crossentropy', 'income':'categorical_crossentropy'})\n",
        "\n",
        "model.summary()"
      ],
      "execution_count": 6,
      "outputs": [
        {
          "output_type": "stream",
          "text": [
            "__________________________________________________________________________________________________\n",
            "Layer (type)                    Output Shape         Param #     Connected to                     \n",
            "==================================================================================================\n",
            "posts (InputLayer)              (None, None)         0                                            \n",
            "__________________________________________________________________________________________________\n",
            "embedding_6 (Embedding)         (None, None, 256)    12800000    posts[0][0]                      \n",
            "__________________________________________________________________________________________________\n",
            "conv1d_16 (Conv1D)              (None, None, 128)    163968      embedding_6[0][0]                \n",
            "__________________________________________________________________________________________________\n",
            "max_pooling1d_7 (MaxPooling1D)  (None, None, 128)    0           conv1d_16[0][0]                  \n",
            "__________________________________________________________________________________________________\n",
            "conv1d_17 (Conv1D)              (None, None, 256)    164096      max_pooling1d_7[0][0]            \n",
            "__________________________________________________________________________________________________\n",
            "conv1d_18 (Conv1D)              (None, None, 256)    327936      conv1d_17[0][0]                  \n",
            "__________________________________________________________________________________________________\n",
            "max_pooling1d_8 (MaxPooling1D)  (None, None, 256)    0           conv1d_18[0][0]                  \n",
            "__________________________________________________________________________________________________\n",
            "conv1d_19 (Conv1D)              (None, None, 256)    327936      max_pooling1d_8[0][0]            \n",
            "__________________________________________________________________________________________________\n",
            "conv1d_20 (Conv1D)              (None, None, 256)    327936      conv1d_19[0][0]                  \n",
            "__________________________________________________________________________________________________\n",
            "global_max_pooling1d_4 (GlobalM (None, 256)          0           conv1d_20[0][0]                  \n",
            "__________________________________________________________________________________________________\n",
            "dense_5 (Dense)                 (None, 128)          32896       global_max_pooling1d_4[0][0]     \n",
            "__________________________________________________________________________________________________\n",
            "age (Dense)                     (None, 1)            129         dense_5[0][0]                    \n",
            "__________________________________________________________________________________________________\n",
            "sex (Dense)                     (None, 1)            129         dense_5[0][0]                    \n",
            "__________________________________________________________________________________________________\n",
            "income (Dense)                  (None, 10)           1290        dense_5[0][0]                    \n",
            "==================================================================================================\n",
            "Total params: 14,146,316\n",
            "Trainable params: 14,146,316\n",
            "Non-trainable params: 0\n",
            "__________________________________________________________________________________________________\n"
          ],
          "name": "stdout"
        }
      ]
    },
    {
      "metadata": {
        "id": "b0Xxwy9Ei9mP",
        "colab_type": "text"
      },
      "cell_type": "markdown",
      "source": [
        "##### 하지만, 이렇게 했을때 문제가 있다.\n",
        "  - 전체 loss가 각 loss의 합으로 계산되고 이를 최소화하려는 방향으로 최적화가 진행된다.\n",
        "  - 이렇게 되면 loss가 큰 문제의 loss를 줄이기 위해 한쪽으로 최적화가 치우칠수 있다.\n",
        "  - 이를 방지하기위해 compile에 loss_weights를 줄 수 있다.(아래 코드와 같이)\n",
        "  - 가중치 부여기준은 mse가 대략 3~5가 나오고, 이진분류는 대략 0.1정도 나오기 때문에 비슷하게 맞춰준다.\n",
        "\n",
        "```python\n",
        "model.compile(optimizer='rmsprop', loss={'age' : 'mse', 'sex' :  'binary_crossentropy', 'income':'categorical_crossentropy'}, loss_weights={'age' : 0.25, 'sex' : 10., 'income' : 1.})\n",
        "\n",
        "```\n",
        "\n",
        "##### model fit하는 방식은 비슷하다\n",
        "\n",
        "```python\n",
        "model.fit(posts, [age_targets, sex_targets, income_targets], epochs=10, batch_size=64)\n",
        "```"
      ]
    }
  ]
}
{
 "cells": [
  {
   "cell_type": "code",
   "execution_count": 1,
   "metadata": {},
   "outputs": [
    {
     "name": "stdout",
     "output_type": "stream",
     "text": [
      "Downloading data from https://s3.amazonaws.com/text-datasets/reuters.npz\n",
      "2113536/2110848 [==============================] - 20s 10us/step\n"
     ]
    }
   ],
   "source": [
    "from keras.datasets import reuters\n",
    "(train_data, train_labels), (test_data, test_labels) = reuters.load_data(num_words=10000)"
   ]
  },
  {
   "cell_type": "code",
   "execution_count": 2,
   "metadata": {},
   "outputs": [
    {
     "name": "stdout",
     "output_type": "stream",
     "text": [
      "Train data : (8982,), Train labels : (8982,), \n",
      ",Test data : (2246,), Test labels : (2246,)\n"
     ]
    }
   ],
   "source": [
    "print(\"Train data : {}, Train labels : {}, \\n,Test data : {}, Test labels : {}\".format(train_data.shape, train_labels.shape, test_data.shape, test_labels.shape))"
   ]
  },
  {
   "cell_type": "markdown",
   "metadata": {},
   "source": [
    "이게 array(list)형태로 데이터가 구성되어서 shape이 저모양..."
   ]
  },
  {
   "cell_type": "code",
   "execution_count": 9,
   "metadata": {},
   "outputs": [
    {
     "data": {
      "text/plain": [
       "{0,\n",
       " 1,\n",
       " 2,\n",
       " 3,\n",
       " 4,\n",
       " 5,\n",
       " 6,\n",
       " 7,\n",
       " 8,\n",
       " 9,\n",
       " 10,\n",
       " 11,\n",
       " 12,\n",
       " 13,\n",
       " 14,\n",
       " 15,\n",
       " 16,\n",
       " 17,\n",
       " 18,\n",
       " 19,\n",
       " 20,\n",
       " 21,\n",
       " 22,\n",
       " 23,\n",
       " 24,\n",
       " 25,\n",
       " 26,\n",
       " 27,\n",
       " 28,\n",
       " 29,\n",
       " 30,\n",
       " 31,\n",
       " 32,\n",
       " 33,\n",
       " 34,\n",
       " 35,\n",
       " 36,\n",
       " 37,\n",
       " 38,\n",
       " 39,\n",
       " 40,\n",
       " 41,\n",
       " 42,\n",
       " 43,\n",
       " 44,\n",
       " 45}"
      ]
     },
     "execution_count": 9,
     "metadata": {},
     "output_type": "execute_result"
    }
   ],
   "source": [
    "set(train_labels) # 토픽 46"
   ]
  },
  {
   "cell_type": "code",
   "execution_count": 11,
   "metadata": {},
   "outputs": [
    {
     "name": "stdout",
     "output_type": "stream",
     "text": [
      "(8982, 10000) (2246, 10000)\n"
     ]
    }
   ],
   "source": [
    "# 데이터 원핫 인코딩\n",
    "import numpy as np\n",
    "\n",
    "def vectorize_sequences(sequences, dimension=10000):\n",
    "    result = np.zeros((len(sequences),dimension))\n",
    "    \n",
    "    for i, sequence in enumerate(sequences):\n",
    "        result[i, sequence] = 1.\n",
    "    return result\n",
    "\n",
    "x_train = vectorize_sequences(train_data)\n",
    "x_test = vectorize_sequences(test_data)\n",
    "\n",
    "print(x_train.shape, x_test.shape)"
   ]
  },
  {
   "cell_type": "code",
   "execution_count": 14,
   "metadata": {},
   "outputs": [],
   "source": [
    "# label도 원핫 인코딩\n",
    "# 비슷한 함수지만 이름 다르게\n",
    "def one_hot(labels, dimension=46):\n",
    "    result = np.zeros((len(labels),dimension))\n",
    "    \n",
    "    for i, label in enumerate(labels):\n",
    "        result[i, label] = 1.\n",
    "    return result\n",
    "\n",
    "y_train = one_hot(train_labels)\n",
    "y_test = one_hot(test_labels)"
   ]
  },
  {
   "cell_type": "markdown",
   "metadata": {},
   "source": [
    "**16차원으로 이진분류는 가능했지만, 46 클래스 분류하기엔 병목현상이 일어날수 있다. 따라서 layer의 unit을 늘려준다.**"
   ]
  },
  {
   "cell_type": "code",
   "execution_count": 15,
   "metadata": {},
   "outputs": [],
   "source": [
    "from keras import models\n",
    "from keras.layers import Dense"
   ]
  },
  {
   "cell_type": "code",
   "execution_count": 16,
   "metadata": {},
   "outputs": [],
   "source": [
    "model = models.Sequential()\n",
    "model.add(Dense(64, input_shape=(10000,), activation='relu'))\n",
    "model.add(Dense(64, activation='relu'))\n",
    "model.add(Dense(46, activation='softmax'))\n",
    "model.compile(optimizer='rmsprop',\n",
    "              loss = 'categorical_crossentropy',\n",
    "              metrics = ['accuracy'])"
   ]
  },
  {
   "cell_type": "code",
   "execution_count": 17,
   "metadata": {},
   "outputs": [],
   "source": [
    "# validation setting\n",
    "x_val = x_train[:1000]\n",
    "x_train = x_train[1000:]\n",
    "\n",
    "y_val = y_train[:1000]\n",
    "y_train = y_train[1000:]"
   ]
  },
  {
   "cell_type": "code",
   "execution_count": 18,
   "metadata": {},
   "outputs": [
    {
     "name": "stdout",
     "output_type": "stream",
     "text": [
      "Train on 7982 samples, validate on 1000 samples\n",
      "Epoch 1/20\n",
      "7982/7982 [==============================] - 3s 386us/step - loss: 2.5322 - acc: 0.4955 - val_loss: 1.7208 - val_acc: 0.6120\n",
      "Epoch 2/20\n",
      "7982/7982 [==============================] - 2s 301us/step - loss: 1.4452 - acc: 0.6879 - val_loss: 1.3459 - val_acc: 0.7060\n",
      "Epoch 3/20\n",
      "7982/7982 [==============================] - 2s 296us/step - loss: 1.0953 - acc: 0.7651 - val_loss: 1.1708 - val_acc: 0.7430\n",
      "Epoch 4/20\n",
      "7982/7982 [==============================] - 2s 302us/step - loss: 0.8697 - acc: 0.8165 - val_loss: 1.0793 - val_acc: 0.7590\n",
      "Epoch 5/20\n",
      "7982/7982 [==============================] - 3s 320us/step - loss: 0.7034 - acc: 0.8472 - val_loss: 0.9844 - val_acc: 0.7810\n",
      "Epoch 6/20\n",
      "7982/7982 [==============================] - 2s 300us/step - loss: 0.5667 - acc: 0.8802 - val_loss: 0.9411 - val_acc: 0.8040\n",
      "Epoch 7/20\n",
      "7982/7982 [==============================] - 2s 302us/step - loss: 0.4581 - acc: 0.9048 - val_loss: 0.9083 - val_acc: 0.8020\n",
      "Epoch 8/20\n",
      "7982/7982 [==============================] - 2s 308us/step - loss: 0.3695 - acc: 0.9231 - val_loss: 0.9363 - val_acc: 0.7890\n",
      "Epoch 9/20\n",
      "7982/7982 [==============================] - 2s 306us/step - loss: 0.3032 - acc: 0.9315 - val_loss: 0.8917 - val_acc: 0.8090\n",
      "Epoch 10/20\n",
      "7982/7982 [==============================] - 2s 299us/step - loss: 0.2537 - acc: 0.9414 - val_loss: 0.9071 - val_acc: 0.8110\n",
      "Epoch 11/20\n",
      "7982/7982 [==============================] - 2s 303us/step - loss: 0.2187 - acc: 0.9471 - val_loss: 0.9177 - val_acc: 0.8130\n",
      "Epoch 12/20\n",
      "7982/7982 [==============================] - 2s 302us/step - loss: 0.1873 - acc: 0.9508 - val_loss: 0.9027 - val_acc: 0.8130\n",
      "Epoch 13/20\n",
      "7982/7982 [==============================] - 2s 306us/step - loss: 0.1703 - acc: 0.9521 - val_loss: 0.9323 - val_acc: 0.8110\n",
      "Epoch 14/20\n",
      "7982/7982 [==============================] - 3s 314us/step - loss: 0.1536 - acc: 0.9554 - val_loss: 0.9689 - val_acc: 0.8050\n",
      "Epoch 15/20\n",
      "7982/7982 [==============================] - 3s 315us/step - loss: 0.1390 - acc: 0.9560 - val_loss: 0.9686 - val_acc: 0.8150\n",
      "Epoch 16/20\n",
      "7982/7982 [==============================] - 3s 332us/step - loss: 0.1313 - acc: 0.9560 - val_loss: 1.0220 - val_acc: 0.8060\n",
      "Epoch 17/20\n",
      "7982/7982 [==============================] - 3s 316us/step - loss: 0.1217 - acc: 0.9579 - val_loss: 1.0254 - val_acc: 0.7970\n",
      "Epoch 18/20\n",
      "7982/7982 [==============================] - 3s 323us/step - loss: 0.1198 - acc: 0.9582 - val_loss: 1.0430 - val_acc: 0.8060\n",
      "Epoch 19/20\n",
      "7982/7982 [==============================] - 2s 301us/step - loss: 0.1138 - acc: 0.9597 - val_loss: 1.0956 - val_acc: 0.7970\n",
      "Epoch 20/20\n",
      "7982/7982 [==============================] - 2s 302us/step - loss: 0.1111 - acc: 0.9593 - val_loss: 1.0674 - val_acc: 0.8020\n"
     ]
    }
   ],
   "source": [
    "hist = model.fit(x=x_train, y=y_train, epochs=20, batch_size=512, validation_data=(x_val, y_val))"
   ]
  },
  {
   "cell_type": "code",
   "execution_count": 26,
   "metadata": {},
   "outputs": [
    {
     "data": {
      "image/png": "[encoded data removed]",
      "text/plain": [
       "<Figure size 720x216 with 2 Axes>"
      ]
     },
     "metadata": {},
     "output_type": "display_data"
    }
   ],
   "source": [
    "plt.figure(figsize=(10,3))\n",
    "plt.subplot(1,2,1)\n",
    "plt.plot(hist.history['loss'], 'b-', label=\"training loss\")\n",
    "plt.plot(hist.history['val_loss'], 'r-', label=\"validation loss\")\n",
    "plt.title(\"traning and validation loss\")\n",
    "plt.xlabel(\"epochs\")\n",
    "plt.ylabel(\"loss\")\n",
    "plt.legend()\n",
    "\n",
    "plt.subplot(1,2,2)\n",
    "plt.plot(hist.history['acc'], 'b-', label=\"training accuracy\")\n",
    "plt.plot(hist.history['val_acc'], 'r-', label=\"validation accuracy\")\n",
    "plt.title(\"traning and validation accuracy\")\n",
    "plt.legend()\n",
    "plt.xlabel(\"epochs\")\n",
    "plt.ylabel(\"accuracy\")\n",
    "plt.show()"
   ]
  },
  {
   "cell_type": "markdown",
   "metadata": {},
   "source": [
    "epoch=9 이후부터 loss 증가하기 시작"
   ]
  },
  {
   "cell_type": "code",
   "execution_count": 27,
   "metadata": {},
   "outputs": [
    {
     "data": {
      "text/plain": [
       "array([[1.0151509e-06, 8.0516008e-07, 5.8397038e-09, ..., 4.2193182e-09,\n",
       "        9.1127755e-10, 7.5278156e-10],\n",
       "       [7.0463918e-04, 3.6226499e-03, 3.6523943e-07, ..., 2.1232090e-08,\n",
       "        2.6907370e-09, 1.2357016e-05],\n",
       "       [2.3480475e-02, 8.8643503e-01, 4.1861064e-04, ..., 9.7892234e-06,\n",
       "        2.9751529e-06, 3.2499469e-05],\n",
       "       ...,\n",
       "       [2.5998710e-07, 1.2384307e-06, 6.4127583e-08, ..., 2.7333780e-09,\n",
       "        1.2517641e-08, 1.3352761e-09],\n",
       "       [2.6314093e-03, 1.3713804e-01, 3.4820207e-04, ..., 3.7772581e-05,\n",
       "        1.4641201e-06, 2.4252465e-06],\n",
       "       [7.5459371e-05, 7.2793984e-01, 1.9401535e-02, ..., 2.9364926e-07,\n",
       "        2.2061060e-09, 1.4425336e-06]], dtype=float32)"
      ]
     },
     "execution_count": 27,
     "metadata": {},
     "output_type": "execute_result"
    }
   ],
   "source": [
    "model.predict(x_test) # 각 레이블 확률"
   ]
  },
  {
   "cell_type": "code",
   "execution_count": 28,
   "metadata": {},
   "outputs": [
    {
     "data": {
      "text/plain": [
       "array([ 3, 10,  1, ...,  3,  3,  1], dtype=int64)"
      ]
     },
     "execution_count": 28,
     "metadata": {},
     "output_type": "execute_result"
    }
   ],
   "source": [
    "prediction = model.predict(x_test)\n",
    "np.argmax(prediction, axis=1) # 각 데이터 분류 : y_hat"
   ]
  },
  {
   "cell_type": "markdown",
   "metadata": {},
   "source": [
    "### 만약 은닉층의 유닛이 레이블 갯수보다 적다면..?\n",
    "- 병목현상 발생"
   ]
  },
  {
   "cell_type": "code",
   "execution_count": 29,
   "metadata": {},
   "outputs": [],
   "source": [
    "model2 = models.Sequential()\n",
    "model2.add(Dense(64, input_shape=(10000,), activation='relu'))\n",
    "model2.add(Dense(8, activation='relu'))\n",
    "model2.add(Dense(46, activation='softmax'))\n",
    "model2.compile(optimizer='rmsprop',\n",
    "              loss = 'categorical_crossentropy',\n",
    "              metrics = ['accuracy'])"
   ]
  },
  {
   "cell_type": "code",
   "execution_count": 30,
   "metadata": {},
   "outputs": [
    {
     "name": "stdout",
     "output_type": "stream",
     "text": [
      "Train on 7982 samples, validate on 1000 samples\n",
      "Epoch 1/20\n",
      "7982/7982 [==============================] - 3s 391us/step - loss: 3.1051 - acc: 0.4808 - val_loss: 2.4987 - val_acc: 0.5700\n",
      "Epoch 2/20\n",
      "7982/7982 [==============================] - 2s 306us/step - loss: 2.1010 - acc: 0.6178 - val_loss: 1.8423 - val_acc: 0.6430\n",
      "Epoch 3/20\n",
      "7982/7982 [==============================] - 2s 294us/step - loss: 1.5582 - acc: 0.6957 - val_loss: 1.5075 - val_acc: 0.6810\n",
      "Epoch 4/20\n",
      "7982/7982 [==============================] - 2s 293us/step - loss: 1.2633 - acc: 0.7424 - val_loss: 1.3656 - val_acc: 0.6970\n",
      "Epoch 5/20\n",
      "7982/7982 [==============================] - 2s 296us/step - loss: 1.0795 - acc: 0.7735 - val_loss: 1.2508 - val_acc: 0.7250\n",
      "Epoch 6/20\n",
      "7982/7982 [==============================] - 2s 299us/step - loss: 0.9457 - acc: 0.7964 - val_loss: 1.1954 - val_acc: 0.7350\n",
      "Epoch 7/20\n",
      "7982/7982 [==============================] - 3s 349us/step - loss: 0.8416 - acc: 0.8160 - val_loss: 1.1487 - val_acc: 0.7530\n",
      "Epoch 8/20\n",
      "7982/7982 [==============================] - 3s 352us/step - loss: 0.7549 - acc: 0.8309 - val_loss: 1.1286 - val_acc: 0.7540\n",
      "Epoch 9/20\n",
      "7982/7982 [==============================] - 3s 327us/step - loss: 0.6820 - acc: 0.8426 - val_loss: 1.1386 - val_acc: 0.7560\n",
      "Epoch 10/20\n",
      "7982/7982 [==============================] - 3s 372us/step - loss: 0.6170 - acc: 0.8543 - val_loss: 1.1077 - val_acc: 0.7550\n",
      "Epoch 11/20\n",
      "7982/7982 [==============================] - 3s 321us/step - loss: 0.5592 - acc: 0.8676 - val_loss: 1.0929 - val_acc: 0.7710\n",
      "Epoch 12/20\n",
      "7982/7982 [==============================] - 3s 324us/step - loss: 0.5070 - acc: 0.8814 - val_loss: 1.1162 - val_acc: 0.7610\n",
      "Epoch 13/20\n",
      "7982/7982 [==============================] - 2s 305us/step - loss: 0.4610 - acc: 0.8900 - val_loss: 1.1216 - val_acc: 0.7660\n",
      "Epoch 14/20\n",
      "7982/7982 [==============================] - 2s 294us/step - loss: 0.4250 - acc: 0.8960 - val_loss: 1.1357 - val_acc: 0.7640\n",
      "Epoch 15/20\n",
      "7982/7982 [==============================] - 2s 310us/step - loss: 0.3859 - acc: 0.9019 - val_loss: 1.1468 - val_acc: 0.7620\n",
      "Epoch 16/20\n",
      "7982/7982 [==============================] - 2s 290us/step - loss: 0.3541 - acc: 0.9118 - val_loss: 1.1557 - val_acc: 0.7630\n",
      "Epoch 17/20\n",
      "7982/7982 [==============================] - 2s 297us/step - loss: 0.3256 - acc: 0.9174 - val_loss: 1.1590 - val_acc: 0.7690\n",
      "Epoch 18/20\n",
      "7982/7982 [==============================] - 2s 304us/step - loss: 0.2996 - acc: 0.9261 - val_loss: 1.1816 - val_acc: 0.7680\n",
      "Epoch 19/20\n",
      "7982/7982 [==============================] - 2s 302us/step - loss: 0.2772 - acc: 0.9310 - val_loss: 1.2256 - val_acc: 0.7630\n",
      "Epoch 20/20\n",
      "7982/7982 [==============================] - 2s 302us/step - loss: 0.2563 - acc: 0.9345 - val_loss: 1.2339 - val_acc: 0.7710\n"
     ]
    },
    {
     "data": {
      "text/plain": [
       "<keras.callbacks.History at 0x1ae020d3f60>"
      ]
     },
     "execution_count": 30,
     "metadata": {},
     "output_type": "execute_result"
    }
   ],
   "source": [
    "model2.fit(x=x_train, y=y_train, epochs=20, batch_size=512, validation_data=(x_val, y_val))"
   ]
  },
  {
   "cell_type": "markdown",
   "metadata": {},
   "source": [
    "### 더 늘리면?"
   ]
  },
  {
   "cell_type": "code",
   "execution_count": 31,
   "metadata": {},
   "outputs": [
    {
     "name": "stdout",
     "output_type": "stream",
     "text": [
      "Train on 7982 samples, validate on 1000 samples\n",
      "Epoch 1/9\n",
      "7982/7982 [==============================] - 3s 377us/step - loss: 2.5329 - acc: 0.5173 - val_loss: 1.6693 - val_acc: 0.6240\n",
      "Epoch 2/9\n",
      "7982/7982 [==============================] - 2s 312us/step - loss: 1.3791 - acc: 0.6982 - val_loss: 1.2701 - val_acc: 0.7160\n",
      "Epoch 3/9\n",
      "7982/7982 [==============================] - 3s 318us/step - loss: 1.0122 - acc: 0.7796 - val_loss: 1.0992 - val_acc: 0.7600\n",
      "Epoch 4/9\n",
      "7982/7982 [==============================] - 2s 313us/step - loss: 0.7885 - acc: 0.8302 - val_loss: 1.0137 - val_acc: 0.7850\n",
      "Epoch 5/9\n",
      "7982/7982 [==============================] - 2s 310us/step - loss: 0.6160 - acc: 0.8678 - val_loss: 0.9367 - val_acc: 0.8120\n",
      "Epoch 6/9\n",
      "7982/7982 [==============================] - 2s 306us/step - loss: 0.4773 - acc: 0.8985 - val_loss: 0.9237 - val_acc: 0.8180\n",
      "Epoch 7/9\n",
      "7982/7982 [==============================] - 2s 293us/step - loss: 0.3794 - acc: 0.9209 - val_loss: 0.8691 - val_acc: 0.8240\n",
      "Epoch 8/9\n",
      "7982/7982 [==============================] - 2s 303us/step - loss: 0.2983 - acc: 0.9362 - val_loss: 0.8933 - val_acc: 0.8240\n",
      "Epoch 9/9\n",
      "7982/7982 [==============================] - 2s 305us/step - loss: 0.2497 - acc: 0.9442 - val_loss: 0.9132 - val_acc: 0.8200\n"
     ]
    },
    {
     "data": {
      "text/plain": [
       "<keras.callbacks.History at 0x1ae022b3898>"
      ]
     },
     "execution_count": 31,
     "metadata": {},
     "output_type": "execute_result"
    }
   ],
   "source": [
    "model3 = models.Sequential()\n",
    "model3.add(Dense(64, input_shape=(10000,), activation='relu'))\n",
    "model3.add(Dense(128, activation='relu'))\n",
    "model3.add(Dense(46, activation='softmax'))\n",
    "model3.compile(optimizer='rmsprop',\n",
    "              loss = 'categorical_crossentropy',\n",
    "              metrics = ['accuracy'])\n",
    "model3.fit(x=x_train, y=y_train, epochs=9, batch_size=512, validation_data=(x_val, y_val))"
   ]
  },
  {
   "cell_type": "code",
   "execution_count": 32,
   "metadata": {},
   "outputs": [
    {
     "name": "stdout",
     "output_type": "stream",
     "text": [
      "2246/2246 [==============================] - 1s 465us/step\n"
     ]
    },
    {
     "data": {
      "text/plain": [
       "[1.0241028262585905, 0.7804986643186129]"
      ]
     },
     "execution_count": 32,
     "metadata": {},
     "output_type": "execute_result"
    }
   ],
   "source": [
    "model3.evaluate(x_test, y_test)"
   ]
  },
  {
   "cell_type": "markdown",
   "metadata": {},
   "source": [
    "살짝 올라가네..ㅡㅡ"
   ]
  },
  {
   "cell_type": "markdown",
   "metadata": {},
   "source": [
    "### 은닉층 3개 써보면?"
   ]
  },
  {
   "cell_type": "code",
   "execution_count": 34,
   "metadata": {},
   "outputs": [
    {
     "name": "stdout",
     "output_type": "stream",
     "text": [
      "Train on 7982 samples, validate on 1000 samples\n",
      "Epoch 1/9\n",
      "7982/7982 [==============================] - 3s 398us/step - loss: 2.5957 - acc: 0.4964 - val_loss: 1.6869 - val_acc: 0.6270\n",
      "Epoch 2/9\n",
      "7982/7982 [==============================] - 2s 298us/step - loss: 1.4522 - acc: 0.6799 - val_loss: 1.3456 - val_acc: 0.6970\n",
      "Epoch 3/9\n",
      "7982/7982 [==============================] - 2s 306us/step - loss: 1.1318 - acc: 0.7334 - val_loss: 1.2032 - val_acc: 0.7330\n",
      "Epoch 4/9\n",
      "7982/7982 [==============================] - 2s 309us/step - loss: 0.9188 - acc: 0.7843 - val_loss: 1.0886 - val_acc: 0.7670\n",
      "Epoch 5/9\n",
      "7982/7982 [==============================] - 2s 300us/step - loss: 0.7203 - acc: 0.8354 - val_loss: 1.0355 - val_acc: 0.7670\n",
      "Epoch 6/9\n",
      "7982/7982 [==============================] - 2s 299us/step - loss: 0.5822 - acc: 0.8685 - val_loss: 1.0253 - val_acc: 0.7820\n",
      "Epoch 7/9\n",
      "7982/7982 [==============================] - 2s 300us/step - loss: 0.4579 - acc: 0.9025 - val_loss: 0.9835 - val_acc: 0.8020\n",
      "Epoch 8/9\n",
      "7982/7982 [==============================] - 2s 309us/step - loss: 0.3611 - acc: 0.9226 - val_loss: 0.9846 - val_acc: 0.7990\n",
      "Epoch 9/9\n",
      "7982/7982 [==============================] - 2s 295us/step - loss: 0.2946 - acc: 0.9322 - val_loss: 0.9798 - val_acc: 0.8070\n"
     ]
    },
    {
     "data": {
      "text/plain": [
       "<keras.callbacks.History at 0x1ae0220d2e8>"
      ]
     },
     "execution_count": 34,
     "metadata": {},
     "output_type": "execute_result"
    }
   ],
   "source": [
    "model4 = models.Sequential()\n",
    "model4.add(Dense(64, input_shape=(10000,), activation='relu'))\n",
    "model4.add(Dense(128, activation='relu'))\n",
    "model4.add(Dense(64, activation='relu'))\n",
    "model4.add(Dense(46, activation='softmax'))\n",
    "model4.compile(optimizer='rmsprop',\n",
    "              loss = 'categorical_crossentropy',\n",
    "              metrics = ['accuracy'])\n",
    "model4.fit(x=x_train, y=y_train, epochs=9, batch_size=512, validation_data=(x_val, y_val))"
   ]
  }
 ],
 "metadata": {
  "kernelspec": {
   "display_name": "Python 3",
   "language": "python",
   "name": "python3"
  },
  "language_info": {
   "codemirror_mode": {
    "name": "ipython",
    "version": 3
   },
   "file_extension": ".py",
   "mimetype": "text/x-python",
   "name": "python",
   "nbconvert_exporter": "python",
   "pygments_lexer": "ipython3",
   "version": "3.6.6"
  }
 },
 "nbformat": 4,
 "nbformat_minor": 2
}

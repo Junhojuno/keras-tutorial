{
 "cells": [
  {
   "cell_type": "markdown",
   "metadata": {},
   "source": [
    "### Recurrent Neural Network의 기본구조\n",
    "- sequence 구조의 데이터가 들어간다. (이점은 앞선 feedforward network와 동일 ; feedforward는 앞선 FCN, CNN 등을 의미)\n",
    "- 차이가 있다면, sequence구조의 데이터를 한번에 처리하지 않는다.\n",
    "- 네트워크(RNN)가 sequence의 원소를 차례대로 방문하는데, 이때 사용되는 개념이 loop와 state\n",
    "- (time steps, features)의 2D tensor를 데이터셋으로 받는데,\n",
    "- 1개의 데이터를 받으면 RNN을 통과시켜 출력을 내는데, 이 출력을 다음 time step의 state로 설정\n",
    "- 1 timestep != 1 데이터 ; 1개의 데이터는 많은 timestep으로 이루어져 있다. 데이터 하나가 2D tensor형태\n",
    "\n",
    "```python\n",
    "###############################################################\n",
    "state_t = 0 # intial state\n",
    "for input_t in input_sequence:\n",
    "    output_t = f(input_t, state_t)\n",
    "    state_t = output_t # 출력이 다음 반복을 위한 state가 된다.\n",
    "    \n",
    "###############################################################\n",
    "# 좀 더 자세히 써보자\n",
    "state_t = 0\n",
    "for input_t in input_sequence:\n",
    "    output_t = activation(dot(W,input_t) + dot(U,state_t) + b) # 이부분이 좀 새롭다!(input과 state를 연결하여 output을 계산)\n",
    "    state_t = output_t\n",
    "###############################################################\n",
    "```"
   ]
  },
  {
   "cell_type": "code",
   "execution_count": 1,
   "metadata": {},
   "outputs": [],
   "source": [
    "# simpleRNN\n",
    "from keras.datasets import imdb\n",
    "from keras.preprocessing import sequence\n",
    "\n"
   ]
  },
  {
   "cell_type": "code",
   "execution_count": null,
   "metadata": {},
   "outputs": [],
   "source": []
  },
  {
   "cell_type": "code",
   "execution_count": null,
   "metadata": {},
   "outputs": [],
   "source": []
  }
 ],
 "metadata": {
  "kernelspec": {
   "display_name": "Python 3",
   "language": "python",
   "name": "python3"
  },
  "language_info": {
   "codemirror_mode": {
    "name": "ipython",
    "version": 3
   },
   "file_extension": ".py",
   "mimetype": "text/x-python",
   "name": "python",
   "nbconvert_exporter": "python",
   "pygments_lexer": "ipython3",
   "version": "3.6.6"
  }
 },
 "nbformat": 4,
 "nbformat_minor": 2
}

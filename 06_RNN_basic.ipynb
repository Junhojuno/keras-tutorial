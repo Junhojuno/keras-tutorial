{
  "nbformat": 4,
  "nbformat_minor": 0,
  "metadata": {
    "colab": {
      "name": "06_RNN_basic.ipynb",
      "version": "0.3.2",
      "provenance": [],
      "include_colab_link": true
    },
    "kernelspec": {
      "name": "python3",
      "display_name": "Python 3"
    },
    "accelerator": "GPU"
  },
  "cells": [
    {
      "cell_type": "markdown",
      "metadata": {
        "id": "view-in-github",
        "colab_type": "text"
      },
      "source": [
        "<a href=\"https://colab.research.google.com/github/Junhojuno/keras-tutorial/blob/master/06_RNN_basic.ipynb\" target=\"_parent\"><img src=\"https://colab.research.google.com/assets/colab-badge.svg\" alt=\"Open In Colab\"/></a>"
      ]
    },
    {
      "metadata": {
        "id": "Nhqg5sFgqUDF",
        "colab_type": "text"
      },
      "cell_type": "markdown",
      "source": [
        "### Recurrent Neural Network의 기본구조\n",
        "- sequence 구조의 데이터가 들어간다. (이점은 앞선 feedforward network와 동일 ; feedforward는 앞선 FCN, CNN 등을 의미)\n",
        "- 차이가 있다면, sequence구조의 데이터를 한번에 처리하지 않는다.\n",
        "- 네트워크(RNN)가 sequence의 원소를 차례대로 방문하는데, 이때 사용되는 개념이 loop와 state\n",
        "- (time steps, features)의 2D tensor를 데이터셋으로 받는데,\n",
        "- 1개의 데이터를 받으면 RNN을 통과시켜 출력을 내는데, 이 출력을 다음 time step의 state로 설정\n",
        "- 1 timestep != 1 데이터 ; 1개의 데이터는 많은 timestep으로 이루어져 있다. 데이터 하나가 2D tensor형태\n",
        "\n",
        "```python\n",
        "###############################################################\n",
        "state_t = 0 # intial state\n",
        "for input_t in input_sequence:\n",
        "    output_t = f(input_t, state_t)\n",
        "    state_t = output_t # 출력이 다음 반복을 위한 state가 된다.\n",
        "    \n",
        "###############################################################\n",
        "# 좀 더 자세히 써보자\n",
        "state_t = 0\n",
        "for input_t in input_sequence:\n",
        "    output_t = activation(dot(W,input_t) + dot(U,state_t) + b) # 이부분이 좀 새롭다!(input과 state를 연결하여 output을 계산)\n",
        "    state_t = output_t\n",
        "###############################################################\n",
        "```"
      ]
    },
    {
      "metadata": {
        "id": "xXHZQj6LqUDO",
        "colab_type": "code",
        "colab": {
          "base_uri": "https://localhost:8080/",
          "height": 122
        },
        "outputId": "cd7c1405-3284-45f4-d28a-8ad8da1b9315"
      },
      "cell_type": "code",
      "source": [
        "# simpleRNN\n",
        "from keras.datasets import imdb\n",
        "from keras.preprocessing import sequence\n",
        "\n",
        "max_features = 10000 # 사용할 단어수\n",
        "maxlen = 500\n",
        "batch_size = 32\n",
        "\n",
        "(input_train, y_train), (input_test, y_test) = imdb.load_data(num_words=max_features)\n",
        "print(input_train.shape, input_test.shape) # 그냥 데이터 자체는 list형태\n",
        "print(\"훈련 시퀀스 : {}, 테스트 시퀀스 : {}\".format(len(input_train), len(input_test)))\n",
        "\n",
        "print(\"시퀀스 패딩 ; (samples x time)\")\n",
        "input_train = sequence.pad_sequences(input_train, maxlen=maxlen)\n",
        "input_test = sequence.pad_sequences(input_test, maxlen=maxlen)\n",
        "print(input_train.shape, input_test.shape) # 단어 인덱스로 만들어줍니다. 리뷰를 [32 7 92 42 12 ....]형태로 만들어준다. ; 텍스트를 숫자 시퀀스 형태로!"
      ],
      "execution_count": 2,
      "outputs": [
        {
          "output_type": "stream",
          "text": [
            "Downloading data from https://s3.amazonaws.com/text-datasets/imdb.npz\n",
            "17465344/17464789 [==============================] - 0s 0us/step\n",
            "(25000,) (25000,)\n",
            "훈련 시퀀스 : 25000, 테스트 시퀀스 : 25000\n",
            "시퀀스 패딩 ; (samples x time)\n",
            "(25000, 500) (25000, 500)\n"
          ],
          "name": "stdout"
        }
      ]
    },
    {
      "metadata": {
        "id": "tSwHxr96sGGU",
        "colab_type": "code",
        "colab": {}
      },
      "cell_type": "code",
      "source": [
        ""
      ],
      "execution_count": 0,
      "outputs": []
    },
    {
      "metadata": {
        "id": "vS2pkH_uqUDb",
        "colab_type": "code",
        "colab": {}
      },
      "cell_type": "code",
      "source": [
        ""
      ],
      "execution_count": 0,
      "outputs": []
    },
    {
      "metadata": {
        "id": "dIQDsoJVqUDk",
        "colab_type": "code",
        "colab": {}
      },
      "cell_type": "code",
      "source": [
        ""
      ],
      "execution_count": 0,
      "outputs": []
    }
  ]
}
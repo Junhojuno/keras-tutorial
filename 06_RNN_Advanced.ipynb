{
  "nbformat": 4,
  "nbformat_minor": 0,
  "metadata": {
    "colab": {
      "name": "06_RNN_Advanced.ipynb",
      "version": "0.3.2",
      "provenance": [],
      "toc_visible": true,
      "include_colab_link": true
    },
    "kernelspec": {
      "name": "python3",
      "display_name": "Python 3"
    },
    "accelerator": "GPU"
  },
  "cells": [
    {
      "cell_type": "markdown",
      "metadata": {
        "id": "view-in-github",
        "colab_type": "text"
      },
      "source": [
        "<a href=\"https://colab.research.google.com/github/Junhojuno/keras-tutorial/blob/master/06_RNN_Advanced.ipynb\" target=\"_parent\"><img src=\"https://colab.research.google.com/assets/colab-badge.svg\" alt=\"Open In Colab\"/></a>"
      ]
    },
    {
      "metadata": {
        "id": "QGRr07P7EYdn",
        "colab_type": "code",
        "colab": {}
      },
      "cell_type": "code",
      "source": [
        "from google.colab import auth\n",
        "from google.colab import drive\n",
        "\n",
        "auth.authenticate_user()\n",
        "drive.mount('./gdrive')"
      ],
      "execution_count": 0,
      "outputs": []
    },
    {
      "metadata": {
        "colab_type": "code",
        "id": "EQrJ2qNXdfpS",
        "colab": {}
      },
      "cell_type": "code",
      "source": [
        "!mkdir jena_climate"
      ],
      "execution_count": 0,
      "outputs": []
    },
    {
      "metadata": {
        "id": "ISYgDhZUG1vU",
        "colab_type": "code",
        "colab": {}
      },
      "cell_type": "code",
      "source": [
        "!cp gdrive/My\\ Drive/jena_climate_2009_2016.csv.zip ./jena_climate/"
      ],
      "execution_count": 0,
      "outputs": []
    },
    {
      "metadata": {
        "colab_type": "code",
        "id": "GXa36OgCH8ZB",
        "outputId": "d7bb1717-6d2f-4d05-da32-b1a7a4ef28f4",
        "colab": {
          "base_uri": "https://localhost:8080/",
          "height": 52
        }
      },
      "cell_type": "code",
      "source": [
        "!unzip jena_climate/jena_climate_2009_2016.csv.zip"
      ],
      "execution_count": 5,
      "outputs": [
        {
          "output_type": "stream",
          "text": [
            "Archive:  jena_climate/jena_climate_2009_2016.csv.zip\n",
            "  inflating: jena_climate_2009_2016.csv  \n"
          ],
          "name": "stdout"
        }
      ]
    },
    {
      "metadata": {
        "id": "q3GcrAHQdxii",
        "colab_type": "text"
      },
      "cell_type": "markdown",
      "source": [
        "## RNN 3 Advanced Skills\n",
        "- Recurrent Dropout\n",
        "  - RNN의 overfitting을 방지하기위해 케라스 내장 dropout을 사용\n",
        "- Staking Recurrent Layer\n",
        "  - 네트워크의 표현능력을 향상시킨다. (but 계산비용이 증가한다.)\n",
        "- Bidirectional Recurrent Layer\n",
        "  - RNN에 같은 정보를 다른 방향으로 주입하여, 정확도를 높이고 기억을 좀 더 오래 유지시킨다."
      ]
    },
    {
      "metadata": {
        "id": "oPpnkU8xIeHK",
        "colab_type": "text"
      },
      "cell_type": "markdown",
      "source": [
        "### 기온 예측 문제"
      ]
    },
    {
      "metadata": {
        "id": "NcOYSQSvIFW5",
        "colab_type": "code",
        "outputId": "3be21962-99b6-4759-f381-bd876305f5f1",
        "colab": {
          "base_uri": "https://localhost:8080/",
          "height": 72
        }
      },
      "cell_type": "code",
      "source": [
        "import os\n",
        "\n",
        "data_dir = './'\n",
        "fname = os.path.join(data_dir, 'jena_climate_2009_2016.csv')\n",
        "\n",
        "f = open(fname)\n",
        "data = f.read()\n",
        "f.close()\n",
        "\n",
        "lines = data.split('\\n')\n",
        "header = lines[0].split(',')\n",
        "lines = lines[1:]\n",
        "\n",
        "print(header)\n",
        "print(len(lines))"
      ],
      "execution_count": 6,
      "outputs": [
        {
          "output_type": "stream",
          "text": [
            "['\"Date Time\"', '\"p (mbar)\"', '\"T (degC)\"', '\"Tpot (K)\"', '\"Tdew (degC)\"', '\"rh (%)\"', '\"VPmax (mbar)\"', '\"VPact (mbar)\"', '\"VPdef (mbar)\"', '\"sh (g/kg)\"', '\"H2OC (mmol/mol)\"', '\"rho (g/m**3)\"', '\"wv (m/s)\"', '\"max. wv (m/s)\"', '\"wd (deg)\"']\n",
            "420551\n"
          ],
          "name": "stdout"
        }
      ]
    },
    {
      "metadata": {
        "id": "Yj4NXxdrIxez",
        "colab_type": "text"
      },
      "cell_type": "markdown",
      "source": [
        "##### 데이터 numpy로 변환"
      ]
    },
    {
      "metadata": {
        "id": "1X6cewCVI9mC",
        "colab_type": "code",
        "colab": {}
      },
      "cell_type": "code",
      "source": [
        "import numpy as np\n",
        "\n",
        "float_data = np.zeros((len(lines),len(header) - 1)) # datetime은 빼야지\n",
        "for i, line in enumerate(lines):\n",
        "  values = [float(x) for x in line.split(',')[1:]]\n",
        "  float_data[i, :] = values"
      ],
      "execution_count": 0,
      "outputs": []
    },
    {
      "metadata": {
        "id": "bUjyQJdPJrQv",
        "colab_type": "text"
      },
      "cell_type": "markdown",
      "source": [
        "##### 시계열 온도 그래프 그리기"
      ]
    },
    {
      "metadata": {
        "id": "xwZoZcoYJ4iw",
        "colab_type": "code",
        "outputId": "1c20e7c3-f411-4b8b-b7b6-782dc48b7295",
        "colab": {
          "base_uri": "https://localhost:8080/",
          "height": 350
        }
      },
      "cell_type": "code",
      "source": [
        "import matplotlib.pyplot as plt\n",
        "\n",
        "temp = float_data[:, 1]\n",
        "plt.plot(range(len(temp)), temp)\n",
        "plt.show()"
      ],
      "execution_count": 8,
      "outputs": [
        {
          "output_type": "display_data",
          "data": {
            "image/png": "[encoded data removed]",
            "text/plain": [
              "<Figure size 576x396 with 1 Axes>"
            ]
          },
          "metadata": {
            "tags": []
          }
        }
      ]
    },
    {
      "metadata": {
        "id": "C39jJto8I1NK",
        "colab_type": "text"
      },
      "cell_type": "markdown",
      "source": [
        "##### 처음 10일간의 온도 데이터 (기간을 좀더 좁혀보자)\n",
        "\n",
        "- 데이터가 10분마다 기록되었다. (하루 데이터는 144개겠지)"
      ]
    },
    {
      "metadata": {
        "id": "GZ2LmhTKI1Qo",
        "colab_type": "code",
        "outputId": "27dd87d3-2125-4b2c-da4f-6c441aa36bd8",
        "colab": {
          "base_uri": "https://localhost:8080/",
          "height": 365
        }
      },
      "cell_type": "code",
      "source": [
        "plt.plot(range(1440), temp[:1440])"
      ],
      "execution_count": 0,
      "outputs": [
        {
          "output_type": "execute_result",
          "data": {
            "text/plain": [
              "[<matplotlib.lines.Line2D at 0x7f90d2cca358>]"
            ]
          },
          "metadata": {
            "tags": []
          },
          "execution_count": 8
        },
        {
          "output_type": "display_data",
          "data": {
            "image/png": "[encoded data removed]",
            "text/plain": [
              "<Figure size 576x396 with 1 Axes>"
            ]
          },
          "metadata": {
            "tags": []
          }
        }
      ]
    },
    {
      "metadata": {
        "id": "ecO_FJdvI1TO",
        "colab_type": "text"
      },
      "cell_type": "markdown",
      "source": [
        "- 마지막 3~4일정도 주기성을 보이는 듯하나...글쎄...\n",
        "- 좀 불안정한데...?\n",
        "\n"
      ]
    },
    {
      "metadata": {
        "id": "_FovKEBoI1ZW",
        "colab_type": "text"
      },
      "cell_type": "markdown",
      "source": [
        "### 일자별 수준의 시계열 데이터 예측\n",
        "- lookback = 1440 ; 10일 전으로 돌아가 매 step의 timestep을 샘플링한다.\n",
        "- steps = 6 ; 1시간마다 데이터 포인트 하나를 샘플링한다.\n",
        "- delay = 144 ; 24시간 , 1일이 지난 데이터가 Target이 된다."
      ]
    },
    {
      "metadata": {
        "id": "6IHLlNDvL4Uj",
        "colab_type": "code",
        "colab": {}
      },
      "cell_type": "code",
      "source": [
        "# Data Setting\n",
        "# 1. 정규화\n",
        "mean = float_data[:200000].mean(axis=0)\n",
        "std = float_data[:200000].std(axis=0)\n",
        "\n",
        "float_data = (float_data - mean) / std"
      ],
      "execution_count": 0,
      "outputs": []
    },
    {
      "metadata": {
        "id": "U8uMOmTaI1ca",
        "colab_type": "text"
      },
      "cell_type": "markdown",
      "source": [
        "#### Generator 함수 사용\n",
        "- (samples, targets)튜플을 반복적으로 반환하는 함수 (training set)\n",
        "- 이전 timestep의 데이터로 현재 timestep의 온도를 맞추는 방식\n",
        "- 과거 10일의 데이터로 예측하는 데이터셋 형태를 반환하도록 한다.\n",
        "- sample의 shape은 (128, 240, 14), target shape은 (128,)\n",
        "- batch size=128이고, 1시간을 데이터 포인트 1개로 묶는다. 이걸 10일로 하면 240개의 데이터포인트가 나온다.\n"
      ]
    },
    {
      "metadata": {
        "id": "wKxwLJrkI1jZ",
        "colab_type": "code",
        "outputId": "c027095f-4944-48ea-9144-63746f924222",
        "colab": {
          "base_uri": "https://localhost:8080/",
          "height": 34
        }
      },
      "cell_type": "code",
      "source": [
        "# Generator 함수\n",
        "# 역할은 기존 데이터를 training형식에 맞도록 변환하여 반환하는 함수\n",
        "def generator(data, lookback, delay, min_index, max_index, shuffle=False, batch_size=128, step=6):\n",
        "  \n",
        "  \"\"\"\n",
        "  data : 원본 시계열 데이터\n",
        "  lookback : 입력으로 사용하기위해 거슬러 올라갈 timestep\n",
        "  delay : target으로 사용할 미래의 timestep\n",
        "  min/max_index : 추출할 타임스텝의 범위를 지정하기 위한 data 배열 인덱스, validation와 test 데이터 분리하는데 사용\n",
        "  step : 데이터 샘플링을 할때 timestep간격, 1시간마다 데이터 포인트가 생기기 때문에 6으로 지정(데이터가 10분마다 만들어진점 고려)\n",
        "  \n",
        "  \"\"\"\n",
        "  if max_index is None:\n",
        "    max_index = len(data) - delay - 1 # 왜 이렇게 정의하지?\n",
        "  i = min_index + lookback\n",
        "  \n",
        "  while 1:\n",
        "    if shuffle:\n",
        "      rows = np.random.randint(min_index + lookback, max_index, size=batch_size)\n",
        "    \n",
        "    else:\n",
        "      if i + batch_size >= max_index:\n",
        "        i = min_index + lookback\n",
        "      rows = np.arange(i, min(i + batch_size, max_index))\n",
        "      i += len(rows)\n",
        "      \n",
        "    samples = np.zeros((len(rows), lookback // step, data.shape[-1])) # shape : (128, 240, 14)\n",
        "    targets = np.zeros((len(rows),))\n",
        "    \n",
        "    for j, row in enumerate(rows): # len(rows)=128이라 128번 iteration돌것이다.\n",
        "      indices = range(rows[j] - lookback, rows[j], step) # length 240의 index list가 나온다.\n",
        "      samples[j] = data[indices] # initial, initial로 부터 1시간 뒤 데이터, 그로부터 또 1시간뒤 데이터.....\n",
        "      targets[j] = data[rows[j] + delay][1] # 정확히 24시간뒤의 데이터\n",
        "      \n",
        "    yield samples, targets\n",
        "\n",
        "print(\"Generator 함수 생성완료...!\")"
      ],
      "execution_count": 10,
      "outputs": [
        {
          "output_type": "stream",
          "text": [
            "Generator 함수 생성완료...!\n"
          ],
          "name": "stdout"
        }
      ]
    },
    {
      "metadata": {
        "id": "VNP_DoHZqNDv",
        "colab_type": "code",
        "colab": {}
      },
      "cell_type": "code",
      "source": [
        "# training, validation, test 데이터\n",
        "# 각각 Generator 만들자, 다만 각 generator는 다른 시간대를 사용해야한다.\n",
        "# train : 처음 20만개, validation : 다음 10만개, test : 이후 나머지\n",
        "\n",
        "lookback = 1440\n",
        "step = 6\n",
        "delay = 144\n",
        "batch_size = 128\n",
        "\n",
        "train_gen = generator(data=float_data,\n",
        "                      lookback=lookback,\n",
        "                      delay=delay,\n",
        "                      min_index=0,\n",
        "                      max_index=200000,\n",
        "                      shuffle=True,\n",
        "                      step=step,\n",
        "                      batch_size=batch_size)\n",
        "\n",
        "val_gen = generator(data=float_data,\n",
        "                    lookback=lookback,\n",
        "                    delay=delay,\n",
        "                    min_index=200001,\n",
        "                    max_index=300000,\n",
        "                    step=step,\n",
        "                    batch_size=batch_size)\n",
        "\n",
        "test_gen = generator(data=float_data,\n",
        "                    lookback=lookback,\n",
        "                    delay=delay,\n",
        "                    min_index=300001,\n",
        "                    max_index=None,\n",
        "                    step=step,\n",
        "                    batch_size=batch_size)\n",
        "\n",
        "val_steps = (300000 - 200001 - lookback) // batch_size # 전체 validation set을 순회하기 위해 val_gen 추출해야하는 횟수\n",
        "test_step = (len(float_data) - 300001 - lookback) // batch_size # 전체 test set을 순회하기 위해 test_gen 추출해야하는 횟수\n",
        "# 여기서 lookback은 왜 빼주지? 딱 나누어 떨어지지 않기 때문에 10일치를 미리 빼주나?"
      ],
      "execution_count": 0,
      "outputs": []
    },
    {
      "metadata": {
        "id": "4vLEZ1Gd4tbi",
        "colab_type": "text"
      },
      "cell_type": "markdown",
      "source": [
        "### 상식 수준의 기준점\n",
        "- 아마도 오늘의 온도는 내일의 온도와 비슷할 것이다.\n",
        "- 이러한 상식 기준이 있으면 추후 모델의 성능을 비교할때 좋은 척도로 활용할 수 있을 것 같다.\n",
        "- 지금온도와 24시간후 온도를 같다고 해서 MAE를 계산해보자"
      ]
    },
    {
      "metadata": {
        "id": "_yAJlytwufq_",
        "colab_type": "code",
        "outputId": "d641f110-3c4b-46dd-f2d8-341a09b4cfc0",
        "colab": {
          "base_uri": "https://localhost:8080/",
          "height": 34
        }
      },
      "cell_type": "code",
      "source": [
        "def evaluate_naive_method():\n",
        "  batch_maes = []\n",
        "  for step in range(val_steps):\n",
        "    samples, targets = next(val_gen)\n",
        "    preds = samples[:,-1, 1]\n",
        "    mae = np.mean(np.abs(preds - targets))\n",
        "    batch_maes.append(mae)\n",
        "  print(np.mean(batch_maes))\n",
        "  \n",
        "evaluate_naive_method()"
      ],
      "execution_count": 0,
      "outputs": [
        {
          "output_type": "stream",
          "text": [
            "0.2897359729905488\n"
          ],
          "name": "stdout"
        }
      ]
    },
    {
      "metadata": {
        "id": "s8-Jj6VMwH3F",
        "colab_type": "code",
        "outputId": "99856c46-b899-4e82-e5b2-1885c0b0f7d3",
        "colab": {
          "base_uri": "https://localhost:8080/",
          "height": 34
        }
      },
      "cell_type": "code",
      "source": [
        "celsius_mae = 0.29 * std[1]\n",
        "celsius_mae"
      ],
      "execution_count": 0,
      "outputs": [
        {
          "output_type": "execute_result",
          "data": {
            "text/plain": [
              "2.5672247338393377"
            ]
          },
          "metadata": {
            "tags": []
          },
          "execution_count": 13
        }
      ]
    },
    {
      "metadata": {
        "id": "4Lax8dxIwKN2",
        "colab_type": "text"
      },
      "cell_type": "markdown",
      "source": [
        "약 2.57도의 오차가 존재한다. (상식 수준의 기준점)"
      ]
    },
    {
      "metadata": {
        "id": "n1-IlMIQx_Ul",
        "colab_type": "code",
        "outputId": "2b370c65-af21-465b-8f45-a8757bb57808",
        "colab": {
          "base_uri": "https://localhost:8080/",
          "height": 318
        }
      },
      "cell_type": "code",
      "source": [
        "# 먼저 간단한 FCN으로 구해보자.\n",
        "from keras.models import Sequential\n",
        "from keras.layers import Dense, Flatten\n",
        "from keras.optimizers import RMSprop\n",
        "\n",
        "model = Sequential()\n",
        "model.add(Flatten(input_shape=(lookback//step, float_data.shape[-1])))\n",
        "model.add(Dense(32, activation='relu'))\n",
        "model.add(Dense(1))\n",
        "model.summary()\n",
        "\n",
        "model.compile(optimizer=RMSprop(), loss='mae')"
      ],
      "execution_count": 0,
      "outputs": [
        {
          "output_type": "stream",
          "text": [
            "WARNING:tensorflow:From /usr/local/lib/python3.6/dist-packages/tensorflow/python/framework/op_def_library.py:263: colocate_with (from tensorflow.python.framework.ops) is deprecated and will be removed in a future version.\n",
            "Instructions for updating:\n",
            "Colocations handled automatically by placer.\n",
            "_________________________________________________________________\n",
            "Layer (type)                 Output Shape              Param #   \n",
            "=================================================================\n",
            "flatten_1 (Flatten)          (None, 3360)              0         \n",
            "_________________________________________________________________\n",
            "dense_1 (Dense)              (None, 32)                107552    \n",
            "_________________________________________________________________\n",
            "dense_2 (Dense)              (None, 1)                 33        \n",
            "=================================================================\n",
            "Total params: 107,585\n",
            "Trainable params: 107,585\n",
            "Non-trainable params: 0\n",
            "_________________________________________________________________\n"
          ],
          "name": "stdout"
        }
      ]
    },
    {
      "metadata": {
        "id": "Do89UrmoyteQ",
        "colab_type": "code",
        "outputId": "aa83de59-c328-41b4-ad64-6c73b53753bf",
        "colab": {
          "base_uri": "https://localhost:8080/",
          "height": 794
        }
      },
      "cell_type": "code",
      "source": [
        "hist = model.fit_generator(generator=train_gen, steps_per_epoch=500, epochs=20, validation_data=val_gen, validation_steps=val_steps)"
      ],
      "execution_count": 0,
      "outputs": [
        {
          "output_type": "stream",
          "text": [
            "WARNING:tensorflow:From /usr/local/lib/python3.6/dist-packages/tensorflow/python/ops/math_ops.py:3066: to_int32 (from tensorflow.python.ops.math_ops) is deprecated and will be removed in a future version.\n",
            "Instructions for updating:\n",
            "Use tf.cast instead.\n",
            "Epoch 1/20\n",
            "500/500 [==============================] - 15s 31ms/step - loss: 1.1883 - val_loss: 0.6698\n",
            "Epoch 2/20\n",
            "500/500 [==============================] - 14s 27ms/step - loss: 0.4594 - val_loss: 0.3433\n",
            "Epoch 3/20\n",
            "500/500 [==============================] - 14s 27ms/step - loss: 0.2975 - val_loss: 0.3572\n",
            "Epoch 4/20\n",
            "500/500 [==============================] - 13s 27ms/step - loss: 0.2681 - val_loss: 0.3119\n",
            "Epoch 5/20\n",
            "500/500 [==============================] - 14s 27ms/step - loss: 0.2559 - val_loss: 0.3288\n",
            "Epoch 6/20\n",
            "500/500 [==============================] - 14s 27ms/step - loss: 0.2477 - val_loss: 0.3125\n",
            "Epoch 7/20\n",
            "500/500 [==============================] - 14s 27ms/step - loss: 0.2407 - val_loss: 0.3092\n",
            "Epoch 8/20\n",
            "500/500 [==============================] - 14s 27ms/step - loss: 0.2342 - val_loss: 0.3267\n",
            "Epoch 9/20\n",
            "500/500 [==============================] - 14s 27ms/step - loss: 0.2289 - val_loss: 0.3287\n",
            "Epoch 10/20\n",
            "500/500 [==============================] - 13s 27ms/step - loss: 0.2257 - val_loss: 0.3282\n",
            "Epoch 11/20\n",
            "500/500 [==============================] - 14s 27ms/step - loss: 0.2227 - val_loss: 0.3339\n",
            "Epoch 12/20\n",
            "500/500 [==============================] - 14s 27ms/step - loss: 0.2193 - val_loss: 0.3316\n",
            "Epoch 13/20\n",
            "500/500 [==============================] - 14s 27ms/step - loss: 0.2181 - val_loss: 0.3159\n",
            "Epoch 14/20\n",
            "500/500 [==============================] - 14s 27ms/step - loss: 0.2130 - val_loss: 0.3760\n",
            "Epoch 15/20\n",
            "500/500 [==============================] - 14s 27ms/step - loss: 0.2096 - val_loss: 0.3450\n",
            "Epoch 16/20\n",
            "500/500 [==============================] - 13s 27ms/step - loss: 0.2092 - val_loss: 0.3235\n",
            "Epoch 17/20\n",
            "500/500 [==============================] - 14s 27ms/step - loss: 0.2057 - val_loss: 0.3342\n",
            "Epoch 18/20\n",
            "500/500 [==============================] - 14s 27ms/step - loss: 0.2046 - val_loss: 0.3357\n",
            "Epoch 19/20\n",
            "500/500 [==============================] - 14s 27ms/step - loss: 0.2029 - val_loss: 0.3416\n",
            "Epoch 20/20\n",
            "500/500 [==============================] - 14s 27ms/step - loss: 0.2004 - val_loss: 0.3264\n"
          ],
          "name": "stdout"
        }
      ]
    },
    {
      "metadata": {
        "id": "bK_2vQgz2NaL",
        "colab_type": "code",
        "outputId": "e2d9ee26-f8d3-4316-92c3-01b2dfa9916f",
        "colab": {
          "base_uri": "https://localhost:8080/",
          "height": 362
        }
      },
      "cell_type": "code",
      "source": [
        "import matplotlib.pyplot as plt\n",
        "\n",
        "epochs = range(1, len(hist.history['loss']) + 1)\n",
        "\n",
        "plt.plot(epochs, hist.history['loss'], 'r-', label=\"Training Loss\")\n",
        "plt.plot(epochs, hist.history['val_loss'], 'b-', label='Validation Loss')\n",
        "plt.title(\"Loss\")\n",
        "plt.legend()\n",
        "plt.show()"
      ],
      "execution_count": 0,
      "outputs": [
        {
          "output_type": "display_data",
          "data": {
            "image/png": "[encoded data removed]",
            "text/plain": [
              "<Figure size 576x396 with 1 Axes>"
            ]
          },
          "metadata": {
            "tags": []
          }
        }
      ]
    },
    {
      "metadata": {
        "id": "OQdoAv11zTsA",
        "colab_type": "text"
      },
      "cell_type": "markdown",
      "source": [
        "기준점보다 못한 성능이 나왔다..."
      ]
    },
    {
      "metadata": {
        "colab_type": "text",
        "id": "oI5ZOfoG5wpc"
      },
      "cell_type": "markdown",
      "source": [
        "### 0.첫번째 RNN\n",
        "- LSTM대신 GRU사용"
      ]
    },
    {
      "metadata": {
        "colab_type": "code",
        "id": "YvBysqH65wPl",
        "outputId": "de99d52e-668b-437b-caae-9add8259efb9",
        "colab": {
          "base_uri": "https://localhost:8080/",
          "height": 210
        }
      },
      "cell_type": "code",
      "source": [
        "from keras.models import Sequential\n",
        "from keras.layers import *\n",
        "from keras.optimizers import RMSprop\n",
        "\n",
        "model = Sequential()\n",
        "model.add(GRU(units=32, input_shape=(lookback//step, float_data.shape[-1])))\n",
        "model.add(Dense(1))\n",
        "\n",
        "model.summary()"
      ],
      "execution_count": 0,
      "outputs": [
        {
          "output_type": "stream",
          "text": [
            "_________________________________________________________________\n",
            "Layer (type)                 Output Shape              Param #   \n",
            "=================================================================\n",
            "gru_1 (GRU)                  (None, 32)                4512      \n",
            "_________________________________________________________________\n",
            "dense_3 (Dense)              (None, 1)                 33        \n",
            "=================================================================\n",
            "Total params: 4,545\n",
            "Trainable params: 4,545\n",
            "Non-trainable params: 0\n",
            "_________________________________________________________________\n"
          ],
          "name": "stdout"
        }
      ]
    },
    {
      "metadata": {
        "id": "QlZjbGm-__C1",
        "colab_type": "text"
      },
      "cell_type": "markdown",
      "source": [
        "GRU 층 parameter갯수 : [(32 + 14 + 1) x 32]  x 3 = 4512"
      ]
    },
    {
      "metadata": {
        "id": "wsP3jms17ObM",
        "colab_type": "code",
        "outputId": "996dad68-b8f1-4fcb-f694-6c0b40896acc",
        "colab": {
          "base_uri": "https://localhost:8080/",
          "height": 721
        }
      },
      "cell_type": "code",
      "source": [
        "model.compile(optimizer=RMSprop(), loss='mae')\n",
        "hist = model.fit_generator(train_gen, steps_per_epoch=500, epochs=20, validation_data=val_gen, validation_steps=val_steps)"
      ],
      "execution_count": 0,
      "outputs": [
        {
          "output_type": "stream",
          "text": [
            "Epoch 1/20\n",
            "500/500 [==============================] - 312s 624ms/step - loss: 0.3105 - val_loss: 0.2697\n",
            "Epoch 2/20\n",
            "500/500 [==============================] - 312s 624ms/step - loss: 0.2846 - val_loss: 0.2699\n",
            "Epoch 3/20\n",
            "500/500 [==============================] - 312s 625ms/step - loss: 0.2785 - val_loss: 0.2670\n",
            "Epoch 4/20\n",
            "500/500 [==============================] - 312s 624ms/step - loss: 0.2737 - val_loss: 0.2677\n",
            "Epoch 5/20\n",
            "500/500 [==============================] - 312s 623ms/step - loss: 0.2673 - val_loss: 0.2668\n",
            "Epoch 6/20\n",
            "500/500 [==============================] - 312s 623ms/step - loss: 0.2610 - val_loss: 0.2690\n",
            "Epoch 7/20\n",
            "500/500 [==============================] - 313s 626ms/step - loss: 0.2563 - val_loss: 0.2672\n",
            "Epoch 8/20\n",
            "500/500 [==============================] - 314s 627ms/step - loss: 0.2524 - val_loss: 0.2674\n",
            "Epoch 9/20\n",
            "500/500 [==============================] - 314s 628ms/step - loss: 0.2475 - val_loss: 0.2716\n",
            "Epoch 10/20\n",
            "500/500 [==============================] - 315s 630ms/step - loss: 0.2446 - val_loss: 0.2714\n",
            "Epoch 11/20\n",
            "500/500 [==============================] - 314s 628ms/step - loss: 0.2385 - val_loss: 0.2723\n",
            "Epoch 12/20\n",
            "500/500 [==============================] - 314s 628ms/step - loss: 0.2342 - val_loss: 0.2764\n",
            "Epoch 13/20\n",
            "500/500 [==============================] - 314s 628ms/step - loss: 0.2310 - val_loss: 0.2753\n",
            "Epoch 14/20\n",
            "500/500 [==============================] - 309s 619ms/step - loss: 0.2272 - val_loss: 0.2841\n",
            "Epoch 15/20\n",
            "500/500 [==============================] - 309s 618ms/step - loss: 0.2261 - val_loss: 0.2815\n",
            "Epoch 16/20\n",
            "500/500 [==============================] - 309s 618ms/step - loss: 0.2207 - val_loss: 0.2865\n",
            "Epoch 17/20\n",
            "500/500 [==============================] - 309s 618ms/step - loss: 0.2183 - val_loss: 0.2849\n",
            "Epoch 18/20\n",
            "500/500 [==============================] - 312s 624ms/step - loss: 0.2157 - val_loss: 0.2945\n",
            "Epoch 19/20\n",
            "500/500 [==============================] - 313s 626ms/step - loss: 0.2129 - val_loss: 0.2884\n",
            "Epoch 20/20\n",
            "500/500 [==============================] - 312s 624ms/step - loss: 0.2098 - val_loss: 0.2931\n"
          ],
          "name": "stdout"
        }
      ]
    },
    {
      "metadata": {
        "id": "f9sWBX0QPonk",
        "colab_type": "code",
        "outputId": "f174ee3c-9802-4a85-b804-4b180f11663c",
        "colab": {
          "base_uri": "https://localhost:8080/",
          "height": 362
        }
      },
      "cell_type": "code",
      "source": [
        "import matplotlib.pyplot as plt\n",
        "\n",
        "epochs = range(1, len(hist.history['loss']) + 1)\n",
        "\n",
        "plt.plot(epochs, hist.history['loss'], 'r-', label=\"Training Loss\")\n",
        "plt.plot(epochs, hist.history['val_loss'], 'b-', label='Validation Loss')\n",
        "plt.title(\"Loss\")\n",
        "plt.legend()\n",
        "plt.show()"
      ],
      "execution_count": 0,
      "outputs": [
        {
          "output_type": "display_data",
          "data": {
            "image/png": "[encoded data removed]",
            "text/plain": [
              "<Figure size 576x396 with 1 Axes>"
            ]
          },
          "metadata": {
            "tags": []
          }
        }
      ]
    },
    {
      "metadata": {
        "id": "pNt1PjUTT516",
        "colab_type": "code",
        "outputId": "c9ea9620-d2b6-4415-9e89-68070c8be8de",
        "colab": {
          "base_uri": "https://localhost:8080/",
          "height": 34
        }
      },
      "cell_type": "code",
      "source": [
        "min(hist.history['val_loss'])"
      ],
      "execution_count": 0,
      "outputs": [
        {
          "output_type": "execute_result",
          "data": {
            "text/plain": [
              "0.2668409934327956"
            ]
          },
          "metadata": {
            "tags": []
          },
          "execution_count": 48
        }
      ]
    },
    {
      "metadata": {
        "id": "TjEbXJUMUBP8",
        "colab_type": "text"
      },
      "cell_type": "markdown",
      "source": [
        "상식수준의 기준점보다는 감소한 것을 볼 수있다."
      ]
    },
    {
      "metadata": {
        "id": "VHAPq_7D2czo",
        "colab_type": "text"
      },
      "cell_type": "markdown",
      "source": [
        "### RNN + Dropout\n",
        "- timestep마다 동일한 dropout masking을 적용해야한다."
      ]
    },
    {
      "metadata": {
        "id": "wQtugBUA2b0x",
        "colab_type": "code",
        "outputId": "59fe02b8-c278-4ee0-b024-b41ce00c76d7",
        "colab": {
          "base_uri": "https://localhost:8080/",
          "height": 354
        }
      },
      "cell_type": "code",
      "source": [
        "from keras.models import Sequential\n",
        "from keras.layers import *\n",
        "from keras.optimizers import RMSprop\n",
        "\n",
        "model = Sequential()\n",
        "# dropout : input_t에 적용, recurrent_dropout : state_t에 적용\n",
        "# timestep마다 동일한 unit을 dropout하는 대신, \n",
        "# 각 input_t와 각 state_t별로 다른 dropout masking이 적용된다.\n",
        "# output_t에서의 state_t에는 dropout masking이 사용되지 않는다.\n",
        "model.add(GRU(32, dropout=0.2, recurrent_dropout=0.2, input_shape=(None, float_data.shape[-1]))) \n",
        "model.add(Dense(1))\n",
        "\n",
        "model.summary()"
      ],
      "execution_count": 0,
      "outputs": [
        {
          "output_type": "stream",
          "text": [
            "Using TensorFlow backend.\n"
          ],
          "name": "stderr"
        },
        {
          "output_type": "stream",
          "text": [
            "WARNING:tensorflow:From /usr/local/lib/python3.6/dist-packages/tensorflow/python/framework/op_def_library.py:263: colocate_with (from tensorflow.python.framework.ops) is deprecated and will be removed in a future version.\n",
            "Instructions for updating:\n",
            "Colocations handled automatically by placer.\n",
            "WARNING:tensorflow:From /usr/local/lib/python3.6/dist-packages/keras/backend/tensorflow_backend.py:3445: calling dropout (from tensorflow.python.ops.nn_ops) with keep_prob is deprecated and will be removed in a future version.\n",
            "Instructions for updating:\n",
            "Please use `rate` instead of `keep_prob`. Rate should be set to `rate = 1 - keep_prob`.\n",
            "_________________________________________________________________\n",
            "Layer (type)                 Output Shape              Param #   \n",
            "=================================================================\n",
            "gru_1 (GRU)                  (None, 32)                4512      \n",
            "_________________________________________________________________\n",
            "dense_1 (Dense)              (None, 1)                 33        \n",
            "=================================================================\n",
            "Total params: 4,545\n",
            "Trainable params: 4,545\n",
            "Non-trainable params: 0\n",
            "_________________________________________________________________\n"
          ],
          "name": "stdout"
        }
      ]
    },
    {
      "metadata": {
        "id": "RdSvNYe_NIRk",
        "colab_type": "code",
        "outputId": "281857a0-6e8c-4b77-808a-1557602e0c1d",
        "colab": {
          "base_uri": "https://localhost:8080/",
          "height": 1498
        }
      },
      "cell_type": "code",
      "source": [
        "model.compile(optimizer=RMSprop(), loss='mae')\n",
        "hist = model.fit_generator(generator=train_gen, steps_per_epoch=500, epochs=40, validation_data=val_gen, validation_steps=val_steps)"
      ],
      "execution_count": 0,
      "outputs": [
        {
          "output_type": "stream",
          "text": [
            "WARNING:tensorflow:From /usr/local/lib/python3.6/dist-packages/tensorflow/python/ops/math_ops.py:3066: to_int32 (from tensorflow.python.ops.math_ops) is deprecated and will be removed in a future version.\n",
            "Instructions for updating:\n",
            "Use tf.cast instead.\n",
            "Epoch 1/40\n",
            "500/500 [==============================] - 263s 526ms/step - loss: 0.3470 - val_loss: 0.2747\n",
            "Epoch 2/40\n",
            "500/500 [==============================] - 261s 522ms/step - loss: 0.3158 - val_loss: 0.2710\n",
            "Epoch 3/40\n",
            "500/500 [==============================] - 259s 518ms/step - loss: 0.3075 - val_loss: 0.2697\n",
            "Epoch 4/40\n",
            "500/500 [==============================] - 261s 522ms/step - loss: 0.3043 - val_loss: 0.2683\n",
            "Epoch 5/40\n",
            "500/500 [==============================] - 258s 516ms/step - loss: 0.3003 - val_loss: 0.2678\n",
            "Epoch 6/40\n",
            "500/500 [==============================] - 266s 533ms/step - loss: 0.2962 - val_loss: 0.2657\n",
            "Epoch 7/40\n",
            "500/500 [==============================] - 267s 534ms/step - loss: 0.2949 - val_loss: 0.2667\n",
            "Epoch 8/40\n",
            "500/500 [==============================] - 268s 536ms/step - loss: 0.2921 - val_loss: 0.2696\n",
            "Epoch 9/40\n",
            "500/500 [==============================] - 267s 534ms/step - loss: 0.2918 - val_loss: 0.2650\n",
            "Epoch 10/40\n",
            "500/500 [==============================] - 267s 534ms/step - loss: 0.2907 - val_loss: 0.2676\n",
            "Epoch 11/40\n",
            "500/500 [==============================] - 267s 534ms/step - loss: 0.2904 - val_loss: 0.2638\n",
            "Epoch 12/40\n",
            "500/500 [==============================] - 266s 533ms/step - loss: 0.2886 - val_loss: 0.2681\n",
            "Epoch 13/40\n",
            "500/500 [==============================] - 268s 537ms/step - loss: 0.2865 - val_loss: 0.2637\n",
            "Epoch 14/40\n",
            "500/500 [==============================] - 269s 538ms/step - loss: 0.2855 - val_loss: 0.2649\n",
            "Epoch 15/40\n",
            "500/500 [==============================] - 271s 542ms/step - loss: 0.2840 - val_loss: 0.2640\n",
            "Epoch 16/40\n",
            "500/500 [==============================] - 270s 541ms/step - loss: 0.2835 - val_loss: 0.2630\n",
            "Epoch 17/40\n",
            "500/500 [==============================] - 268s 536ms/step - loss: 0.2841 - val_loss: 0.2637\n",
            "Epoch 18/40\n",
            "500/500 [==============================] - 267s 535ms/step - loss: 0.2813 - val_loss: 0.2633\n",
            "Epoch 19/40\n",
            "500/500 [==============================] - 257s 515ms/step - loss: 0.2825 - val_loss: 0.2629\n",
            "Epoch 20/40\n",
            "500/500 [==============================] - 260s 519ms/step - loss: 0.2800 - val_loss: 0.2601\n",
            "Epoch 21/40\n",
            "500/500 [==============================] - 260s 519ms/step - loss: 0.2792 - val_loss: 0.2633\n",
            "Epoch 22/40\n",
            "500/500 [==============================] - 259s 517ms/step - loss: 0.2795 - val_loss: 0.2650\n",
            "Epoch 23/40\n",
            "500/500 [==============================] - 259s 518ms/step - loss: 0.2779 - val_loss: 0.2618\n",
            "Epoch 24/40\n",
            "500/500 [==============================] - 261s 522ms/step - loss: 0.2772 - val_loss: 0.2636\n",
            "Epoch 25/40\n",
            "500/500 [==============================] - 258s 517ms/step - loss: 0.2762 - val_loss: 0.2652\n",
            "Epoch 26/40\n",
            "500/500 [==============================] - 259s 519ms/step - loss: 0.2765 - val_loss: 0.2630\n",
            "Epoch 27/40\n",
            "500/500 [==============================] - 263s 525ms/step - loss: 0.2755 - val_loss: 0.2637\n",
            "Epoch 28/40\n",
            "500/500 [==============================] - 261s 522ms/step - loss: 0.2733 - val_loss: 0.2650\n",
            "Epoch 29/40\n",
            "500/500 [==============================] - 261s 521ms/step - loss: 0.2740 - val_loss: 0.2627\n",
            "Epoch 30/40\n",
            "500/500 [==============================] - 259s 518ms/step - loss: 0.2729 - val_loss: 0.2626\n",
            "Epoch 31/40\n",
            "500/500 [==============================] - 259s 519ms/step - loss: 0.2736 - val_loss: 0.2638\n",
            "Epoch 32/40\n",
            "500/500 [==============================] - 286s 573ms/step - loss: 0.2708 - val_loss: 0.2663\n",
            "Epoch 33/40\n",
            "500/500 [==============================] - 265s 529ms/step - loss: 0.2702 - val_loss: 0.2630\n",
            "Epoch 34/40\n",
            "500/500 [==============================] - 261s 523ms/step - loss: 0.2727 - val_loss: 0.2664\n",
            "Epoch 35/40\n",
            "500/500 [==============================] - 259s 517ms/step - loss: 0.2710 - val_loss: 0.2684\n",
            "Epoch 36/40\n",
            "500/500 [==============================] - 257s 513ms/step - loss: 0.2716 - val_loss: 0.2661\n",
            "Epoch 37/40\n",
            "500/500 [==============================] - 257s 514ms/step - loss: 0.2700 - val_loss: 0.2678\n",
            "Epoch 38/40\n",
            "500/500 [==============================] - 256s 513ms/step - loss: 0.2689 - val_loss: 0.2662\n",
            "Epoch 39/40\n",
            "500/500 [==============================] - 255s 509ms/step - loss: 0.2694 - val_loss: 0.2677\n",
            "Epoch 40/40\n",
            "500/500 [==============================] - 255s 509ms/step - loss: 0.2702 - val_loss: 0.2651\n"
          ],
          "name": "stdout"
        }
      ]
    },
    {
      "metadata": {
        "id": "o4WAMcAnNz2o",
        "colab_type": "code",
        "outputId": "05ad5683-5346-463a-e303-ef1cd181fb7d",
        "colab": {
          "base_uri": "https://localhost:8080/",
          "height": 362
        }
      },
      "cell_type": "code",
      "source": [
        "import matplotlib.pyplot as plt\n",
        "\n",
        "epochs = range(1, len(hist.history['loss']) + 1)\n",
        "\n",
        "plt.plot(epochs, hist.history['loss'], 'r-', label=\"Training Loss\")\n",
        "plt.plot(epochs, hist.history['val_loss'], 'b-', label='Validation Loss')\n",
        "plt.title(\"Loss\")\n",
        "plt.legend()\n",
        "plt.show()"
      ],
      "execution_count": 0,
      "outputs": [
        {
          "output_type": "display_data",
          "data": {
            "image/png": "[encoded data removed]",
            "text/plain": [
              "<Figure size 576x396 with 1 Axes>"
            ]
          },
          "metadata": {
            "tags": []
          }
        }
      ]
    },
    {
      "metadata": {
        "id": "KtGaexlCFhvw",
        "colab_type": "text"
      },
      "cell_type": "markdown",
      "source": [
        "- overfitting이 굉장히 줄어들었다!!!!!!!\n",
        "- 하지만 성능은 조금? 개선"
      ]
    },
    {
      "metadata": {
        "id": "5h-x_82oHyrM",
        "colab_type": "text"
      },
      "cell_type": "markdown",
      "source": [
        "### Stacking RNN\n",
        "- overfitting은 많이 줄었지만, 성능향상에 병목이 낀거 같다.\n",
        "- **network용량**을 늘려보자\n",
        "  - network용량을 늘리는 방법은 units의 수를 늘리거나\n",
        "  - layer를 더 추가하거나\n",
        "  - google translation algorithm에서는 7~8개의 대규모 LSTM층을 쌓았다."
      ]
    },
    {
      "metadata": {
        "id": "9fHIxn07IxDI",
        "colab_type": "code",
        "outputId": "2b9ec0c4-aba0-4a10-9d0e-0db8894c93ef",
        "colab": {
          "base_uri": "https://localhost:8080/",
          "height": 246
        }
      },
      "cell_type": "code",
      "source": [
        "from keras.models import Sequential\n",
        "from keras.layers import *\n",
        "from keras.optimizers import RMSprop\n",
        "\n",
        "model = Sequential()\n",
        "# return_sequences=True는 모든 hidden layer에 마지막 timestep만 출력하는 게 아니고\n",
        "# 전체 sequences...즉 3D tensor를 출력하도록 한다.\n",
        "model.add(GRU(32, dropout=0.1, recurrent_dropout=0.5, return_sequences=True, input_shape=(None, float_data.shape[-1]))) # activation default 'tanh'\n",
        "model.add(GRU(64, activation='relu', dropout=0.1, recurrent_dropout=0.5))\n",
        "model.add(Dense(1))\n",
        "\n",
        "model.summary()"
      ],
      "execution_count": 0,
      "outputs": [
        {
          "output_type": "stream",
          "text": [
            "_________________________________________________________________\n",
            "Layer (type)                 Output Shape              Param #   \n",
            "=================================================================\n",
            "gru_3 (GRU)                  (None, None, 32)          4512      \n",
            "_________________________________________________________________\n",
            "gru_4 (GRU)                  (None, 64)                18624     \n",
            "_________________________________________________________________\n",
            "dense_2 (Dense)              (None, 1)                 65        \n",
            "=================================================================\n",
            "Total params: 23,201\n",
            "Trainable params: 23,201\n",
            "Non-trainable params: 0\n",
            "_________________________________________________________________\n"
          ],
          "name": "stdout"
        }
      ]
    },
    {
      "metadata": {
        "id": "0bssPM2kLG8N",
        "colab_type": "code",
        "outputId": "24356a7c-c44a-491a-8280-679217a08d9c",
        "colab": {
          "base_uri": "https://localhost:8080/",
          "height": 1425
        }
      },
      "cell_type": "code",
      "source": [
        "model.compile(optimizer=RMSprop(), loss='mae')\n",
        "\n",
        "hist = model.fit_generator(generator=train_gen, steps_per_epoch=500, epochs=40, validation_data=val_gen, validation_steps=val_steps)"
      ],
      "execution_count": 0,
      "outputs": [
        {
          "output_type": "stream",
          "text": [
            "Epoch 1/40\n",
            "500/500 [==============================] - 445s 890ms/step - loss: 0.3336 - val_loss: 0.2771\n",
            "Epoch 2/40\n",
            "500/500 [==============================] - 476s 953ms/step - loss: 0.3116 - val_loss: 0.2705\n",
            "Epoch 3/40\n",
            "500/500 [==============================] - 447s 894ms/step - loss: 0.3056 - val_loss: 0.2697\n",
            "Epoch 4/40\n",
            "500/500 [==============================] - 461s 922ms/step - loss: 0.3004 - val_loss: 0.2720\n",
            "Epoch 5/40\n",
            "500/500 [==============================] - 444s 887ms/step - loss: 0.2957 - val_loss: 0.2673\n",
            "Epoch 6/40\n",
            "500/500 [==============================] - 455s 911ms/step - loss: 0.2935 - val_loss: 0.2711\n",
            "Epoch 7/40\n",
            "500/500 [==============================] - 445s 891ms/step - loss: 0.2904 - val_loss: 0.2667\n",
            "Epoch 8/40\n",
            "500/500 [==============================] - 445s 889ms/step - loss: 0.2874 - val_loss: 0.2676\n",
            "Epoch 9/40\n",
            "500/500 [==============================] - 444s 888ms/step - loss: 0.2876 - val_loss: 0.2686\n",
            "Epoch 10/40\n",
            "500/500 [==============================] - 444s 887ms/step - loss: 0.2859 - val_loss: 0.2729\n",
            "Epoch 11/40\n",
            "500/500 [==============================] - 445s 891ms/step - loss: 0.2846 - val_loss: 0.2675\n",
            "Epoch 12/40\n",
            "500/500 [==============================] - 447s 893ms/step - loss: 0.2820 - val_loss: 0.2622\n",
            "Epoch 13/40\n",
            "500/500 [==============================] - 444s 889ms/step - loss: 0.2808 - val_loss: 0.2657\n",
            "Epoch 14/40\n",
            "500/500 [==============================] - 445s 890ms/step - loss: 0.2778 - val_loss: 0.2659\n",
            "Epoch 15/40\n",
            "500/500 [==============================] - 445s 891ms/step - loss: 0.2768 - val_loss: 0.2716\n",
            "Epoch 16/40\n",
            "500/500 [==============================] - 446s 891ms/step - loss: 0.2755 - val_loss: 0.2659\n",
            "Epoch 17/40\n",
            "500/500 [==============================] - 446s 893ms/step - loss: 0.2748 - val_loss: 0.2645\n",
            "Epoch 18/40\n",
            "500/500 [==============================] - 447s 894ms/step - loss: 0.2744 - val_loss: 0.2720\n",
            "Epoch 19/40\n",
            "500/500 [==============================] - 445s 890ms/step - loss: 0.2731 - val_loss: 0.2622\n",
            "Epoch 20/40\n",
            "500/500 [==============================] - 443s 886ms/step - loss: 0.2707 - val_loss: 0.2660\n",
            "Epoch 21/40\n",
            "500/500 [==============================] - 444s 888ms/step - loss: 0.2689 - val_loss: 0.2634\n",
            "Epoch 22/40\n",
            "500/500 [==============================] - 444s 888ms/step - loss: 0.2691 - val_loss: 0.2669\n",
            "Epoch 23/40\n",
            "500/500 [==============================] - 445s 889ms/step - loss: 0.2675 - val_loss: 0.2647\n",
            "Epoch 24/40\n",
            "500/500 [==============================] - 445s 889ms/step - loss: 0.2669 - val_loss: 0.2652\n",
            "Epoch 25/40\n",
            "500/500 [==============================] - 445s 889ms/step - loss: 0.2659 - val_loss: 0.2640\n",
            "Epoch 26/40\n",
            "500/500 [==============================] - 445s 891ms/step - loss: 0.2659 - val_loss: 0.2655\n",
            "Epoch 27/40\n",
            "500/500 [==============================] - 444s 889ms/step - loss: 0.2652 - val_loss: 0.2653\n",
            "Epoch 28/40\n",
            "500/500 [==============================] - 446s 893ms/step - loss: 0.2627 - val_loss: 0.2657\n",
            "Epoch 29/40\n",
            "500/500 [==============================] - 447s 894ms/step - loss: 0.2639 - val_loss: 0.2670\n",
            "Epoch 30/40\n",
            "500/500 [==============================] - 445s 891ms/step - loss: 0.2620 - val_loss: 0.2697\n",
            "Epoch 31/40\n",
            "500/500 [==============================] - 444s 889ms/step - loss: 0.2593 - val_loss: 0.2626\n",
            "Epoch 32/40\n",
            "500/500 [==============================] - 446s 891ms/step - loss: 0.2594 - val_loss: 0.2772\n",
            "Epoch 33/40\n",
            "500/500 [==============================] - 447s 894ms/step - loss: 0.2598 - val_loss: 0.2678\n",
            "Epoch 34/40\n",
            "500/500 [==============================] - 446s 892ms/step - loss: 0.2590 - val_loss: 0.2706\n",
            "Epoch 35/40\n",
            "500/500 [==============================] - 444s 889ms/step - loss: 0.2582 - val_loss: 0.2666\n",
            "Epoch 36/40\n",
            "500/500 [==============================] - 442s 885ms/step - loss: 0.2570 - val_loss: 0.2720\n",
            "Epoch 37/40\n",
            "500/500 [==============================] - 443s 886ms/step - loss: 0.2567 - val_loss: 0.2758\n",
            "Epoch 38/40\n",
            "500/500 [==============================] - 444s 889ms/step - loss: 0.2557 - val_loss: 0.2691\n",
            "Epoch 39/40\n",
            "500/500 [==============================] - 444s 887ms/step - loss: 0.2550 - val_loss: 0.2715\n",
            "Epoch 40/40\n",
            "500/500 [==============================] - 442s 885ms/step - loss: 0.2540 - val_loss: 0.2674\n"
          ],
          "name": "stdout"
        }
      ]
    },
    {
      "metadata": {
        "id": "Hr2YUtB8Sjdb",
        "colab_type": "text"
      },
      "cell_type": "markdown",
      "source": [
        "validation loss가 0.262정도까지 조금더 떨어졌다..."
      ]
    },
    {
      "metadata": {
        "id": "8K8Hm-7WFn7A",
        "colab_type": "text"
      },
      "cell_type": "markdown",
      "source": [
        "### Bidirectional RNN\n",
        "- sequences의 정방향/역방향 두가지로 패턴파악\n",
        "- 자연어처리에서 높은성능을 낼 수 있다.\n",
        "- 온도예측의 경우, 상식수준의 기준점보다 성능이 떨어짐(시간관계상 training X)\n",
        "- IMDB 데이터를 가지고 진행"
      ]
    },
    {
      "metadata": {
        "id": "u00c1R_RHeNr",
        "colab_type": "text"
      },
      "cell_type": "markdown",
      "source": [
        "- 그냥 데이터를 역방향으로 만들고 LSTM을 돌려도 \n",
        "- 정방향 LSTM과 거의 동일한 성능을 얻을 수 있다."
      ]
    },
    {
      "metadata": {
        "id": "_D3iPdTUGL6S",
        "colab_type": "code",
        "outputId": "0d020e73-6c35-415f-984c-82dc7a73c25f",
        "colab": {
          "base_uri": "https://localhost:8080/",
          "height": 776
        }
      },
      "cell_type": "code",
      "source": [
        "from keras.datasets import imdb\n",
        "from keras.models import Sequential\n",
        "from keras.layers import *\n",
        "from keras.preprocessing import sequence\n",
        "\n",
        "max_features = 10000\n",
        "maxlen = 500\n",
        "\n",
        "(x_train, y_train), (x_test, y_test) = imdb.load_data(num_words=max_features)\n",
        "\n",
        "# sequence를 뒤집는다.\n",
        "x_train = [x[::-1] for x in x_train]\n",
        "x_test = [x[::-1] for x in x_test]\n",
        "\n",
        "x_train = sequence.pad_sequences(x_train, maxlen=maxlen)\n",
        "x_test = sequence.pad_sequences(x_test, maxlen=maxlen)\n",
        "\n",
        "model = Sequential()\n",
        "model.add(Embedding(max_features, 32))\n",
        "model.add(Bidirectional(layer=LSTM(32)))\n",
        "model.add(Dense(1, activation='sigmoid'))\n",
        "\n",
        "model.summary()\n",
        "\n",
        "model.compile(optimizer='rmsprop', loss='binary_crossentropy', metrics=['acc'])\n",
        "\n",
        "hist = model.fit(x=x_train, y=y_train, batch_size=128, epochs=10, validation_split=0.2)"
      ],
      "execution_count": 0,
      "outputs": [
        {
          "output_type": "stream",
          "text": [
            "Downloading data from https://s3.amazonaws.com/text-datasets/imdb.npz\n",
            "17465344/17464789 [==============================] - 1s 0us/step\n",
            "WARNING:tensorflow:From /usr/local/lib/python3.6/dist-packages/tensorflow/python/framework/op_def_library.py:263: colocate_with (from tensorflow.python.framework.ops) is deprecated and will be removed in a future version.\n",
            "Instructions for updating:\n",
            "Colocations handled automatically by placer.\n",
            "_________________________________________________________________\n",
            "Layer (type)                 Output Shape              Param #   \n",
            "=================================================================\n",
            "embedding_1 (Embedding)      (None, None, 32)          320000    \n",
            "_________________________________________________________________\n",
            "bidirectional_1 (Bidirection (None, 64)                16640     \n",
            "_________________________________________________________________\n",
            "dense_1 (Dense)              (None, 1)                 65        \n",
            "=================================================================\n",
            "Total params: 336,705\n",
            "Trainable params: 336,705\n",
            "Non-trainable params: 0\n",
            "_________________________________________________________________\n",
            "WARNING:tensorflow:From /usr/local/lib/python3.6/dist-packages/tensorflow/python/ops/math_ops.py:3066: to_int32 (from tensorflow.python.ops.math_ops) is deprecated and will be removed in a future version.\n",
            "Instructions for updating:\n",
            "Use tf.cast instead.\n",
            "Train on 20000 samples, validate on 5000 samples\n",
            "Epoch 1/10\n",
            "20000/20000 [==============================] - 266s 13ms/step - loss: 0.5387 - acc: 0.7329 - val_loss: 0.5620 - val_acc: 0.7654\n",
            "Epoch 2/10\n",
            "20000/20000 [==============================] - 259s 13ms/step - loss: 0.3240 - acc: 0.8764 - val_loss: 0.3044 - val_acc: 0.8884\n",
            "Epoch 3/10\n",
            "20000/20000 [==============================] - 259s 13ms/step - loss: 0.2544 - acc: 0.9074 - val_loss: 0.3182 - val_acc: 0.8742\n",
            "Epoch 4/10\n",
            "20000/20000 [==============================] - 262s 13ms/step - loss: 0.2283 - acc: 0.9181 - val_loss: 0.3457 - val_acc: 0.8850\n",
            "Epoch 5/10\n",
            "20000/20000 [==============================] - 259s 13ms/step - loss: 0.1989 - acc: 0.9299 - val_loss: 0.3161 - val_acc: 0.8880\n",
            "Epoch 6/10\n",
            "20000/20000 [==============================] - 263s 13ms/step - loss: 0.1805 - acc: 0.9362 - val_loss: 0.4944 - val_acc: 0.8290\n",
            "Epoch 7/10\n",
            "20000/20000 [==============================] - 264s 13ms/step - loss: 0.1732 - acc: 0.9419 - val_loss: 0.3563 - val_acc: 0.8724\n",
            "Epoch 8/10\n",
            "20000/20000 [==============================] - 257s 13ms/step - loss: 0.1455 - acc: 0.9496 - val_loss: 0.3771 - val_acc: 0.8752\n",
            "Epoch 9/10\n",
            "20000/20000 [==============================] - 261s 13ms/step - loss: 0.1405 - acc: 0.9515 - val_loss: 0.3689 - val_acc: 0.8728\n",
            "Epoch 10/10\n",
            "20000/20000 [==============================] - 261s 13ms/step - loss: 0.1371 - acc: 0.9539 - val_loss: 0.3975 - val_acc: 0.8752\n"
          ],
          "name": "stdout"
        }
      ]
    },
    {
      "metadata": {
        "id": "7CJn1X1nIMAi",
        "colab_type": "code",
        "outputId": "ec1aa7b0-92d7-4bbf-e74e-f44bfc7c1ee3",
        "colab": {
          "base_uri": "https://localhost:8080/",
          "height": 365
        }
      },
      "cell_type": "code",
      "source": [
        "import matplotlib.pyplot as plt\n",
        "\n",
        "epochs = range(1, len(hist.history['loss']) + 1)\n",
        "\n",
        "plt.figure(figsize=(10,5))\n",
        "\n",
        "plt.subplot(1,2,1)\n",
        "plt.plot(epochs, hist.history['acc'], 'r-', label=\"Training Accuracy\")\n",
        "plt.plot(epochs, hist.history['val_acc'], 'b-', label='Validation Accuracy')\n",
        "plt.title(\"Accuracy\")\n",
        "\n",
        "plt.subplot(1,2,2)\n",
        "plt.plot(epochs, hist.history['loss'], 'r-', label=\"Training Loss\")\n",
        "plt.plot(epochs, hist.history['val_loss'], 'b-', label='Validation Loss')\n",
        "plt.title(\"Loss\")\n",
        "plt.legend()\n",
        "plt.tight_layout()\n",
        "plt.show()"
      ],
      "execution_count": 0,
      "outputs": [
        {
          "output_type": "display_data",
          "data": {
            "image/png": "[encoded data removed]",
            "text/plain": [
              "<Figure size 720x360 with 2 Axes>"
            ]
          },
          "metadata": {
            "tags": []
          }
        }
      ]
    },
    {
      "metadata": {
        "id": "_h-gLuqcSudB",
        "colab_type": "text"
      },
      "cell_type": "markdown",
      "source": [
        "- validation accuracy가 88%까지 오르긴했지만...\n",
        "- parameter가 단일 LSTM보다 2배가 많아서 빨리 overfitting이 일어났다.\n",
        "- regularization을 추가해보자"
      ]
    },
    {
      "metadata": {
        "id": "GuSxwJbwTi5G",
        "colab_type": "text"
      },
      "cell_type": "markdown",
      "source": [
        "#### Bidirectional RNN + Regularization"
      ]
    },
    {
      "metadata": {
        "id": "zDhCvwEqToJ0",
        "colab_type": "code",
        "outputId": "3912532c-bd51-432d-99f5-2f125bdcfc8b",
        "colab": {
          "base_uri": "https://localhost:8080/",
          "height": 688
        }
      },
      "cell_type": "code",
      "source": [
        "model = Sequential()\n",
        "model.add(Embedding(max_features, 32))\n",
        "model.add(Bidirectional(layer=LSTM(32, dropout=0.2, recurrent_dropout=0.2)))\n",
        "model.add(Dense(1, activation='sigmoid'))\n",
        "\n",
        "model.summary()\n",
        "\n",
        "model.compile(optimizer='rmsprop', loss='binary_crossentropy', metrics=['acc'])\n",
        "\n",
        "hist = model.fit(x=x_train, y=y_train, batch_size=128, epochs=10, validation_split=0.2)"
      ],
      "execution_count": 0,
      "outputs": [
        {
          "output_type": "stream",
          "text": [
            "WARNING:tensorflow:From /usr/local/lib/python3.6/dist-packages/keras/backend/tensorflow_backend.py:3445: calling dropout (from tensorflow.python.ops.nn_ops) with keep_prob is deprecated and will be removed in a future version.\n",
            "Instructions for updating:\n",
            "Please use `rate` instead of `keep_prob`. Rate should be set to `rate = 1 - keep_prob`.\n",
            "_________________________________________________________________\n",
            "Layer (type)                 Output Shape              Param #   \n",
            "=================================================================\n",
            "embedding_2 (Embedding)      (None, None, 32)          320000    \n",
            "_________________________________________________________________\n",
            "bidirectional_2 (Bidirection (None, 64)                16640     \n",
            "_________________________________________________________________\n",
            "dense_2 (Dense)              (None, 1)                 65        \n",
            "=================================================================\n",
            "Total params: 336,705\n",
            "Trainable params: 336,705\n",
            "Non-trainable params: 0\n",
            "_________________________________________________________________\n",
            "Train on 20000 samples, validate on 5000 samples\n",
            "Epoch 1/10\n",
            "20000/20000 [==============================] - 320s 16ms/step - loss: 0.6097 - acc: 0.6852 - val_loss: 0.4844 - val_acc: 0.7904\n",
            "Epoch 2/10\n",
            "20000/20000 [==============================] - 317s 16ms/step - loss: 0.4584 - acc: 0.8063 - val_loss: 0.4273 - val_acc: 0.8138\n",
            "Epoch 3/10\n",
            "20000/20000 [==============================] - 312s 16ms/step - loss: 0.3862 - acc: 0.8447 - val_loss: 0.4341 - val_acc: 0.8102\n",
            "Epoch 4/10\n",
            "20000/20000 [==============================] - 312s 16ms/step - loss: 0.3533 - acc: 0.8601 - val_loss: 0.3783 - val_acc: 0.8452\n",
            "Epoch 5/10\n",
            "20000/20000 [==============================] - 313s 16ms/step - loss: 0.3260 - acc: 0.8749 - val_loss: 0.4165 - val_acc: 0.8202\n",
            "Epoch 6/10\n",
            "20000/20000 [==============================] - 304s 15ms/step - loss: 0.2994 - acc: 0.8851 - val_loss: 0.4080 - val_acc: 0.8368\n",
            "Epoch 7/10\n",
            "20000/20000 [==============================] - 312s 16ms/step - loss: 0.2702 - acc: 0.8982 - val_loss: 0.3964 - val_acc: 0.8382\n",
            "Epoch 8/10\n",
            "20000/20000 [==============================] - 317s 16ms/step - loss: 0.2558 - acc: 0.9044 - val_loss: 0.4030 - val_acc: 0.8396\n",
            "Epoch 9/10\n",
            "20000/20000 [==============================] - 318s 16ms/step - loss: 0.2485 - acc: 0.9088 - val_loss: 0.3997 - val_acc: 0.8432\n",
            "Epoch 10/10\n",
            "20000/20000 [==============================] - 314s 16ms/step - loss: 0.2325 - acc: 0.9158 - val_loss: 0.3946 - val_acc: 0.8478\n"
          ],
          "name": "stdout"
        }
      ]
    },
    {
      "metadata": {
        "id": "acqzwvF8F9qw",
        "colab_type": "code",
        "outputId": "6f5fed1f-62ad-4f6c-9fce-6fa10a42ed8b",
        "colab": {
          "base_uri": "https://localhost:8080/",
          "height": 365
        }
      },
      "cell_type": "code",
      "source": [
        "import matplotlib.pyplot as plt\n",
        "\n",
        "epochs = range(1, len(hist.history['loss']) + 1)\n",
        "\n",
        "plt.figure(figsize=(10,5))\n",
        "\n",
        "plt.subplot(1,2,1)\n",
        "plt.plot(epochs, hist.history['acc'], 'r-', label=\"Training Accuracy\")\n",
        "plt.plot(epochs, hist.history['val_acc'], 'b-', label='Validation Accuracy')\n",
        "plt.title(\"Accuracy\")\n",
        "\n",
        "plt.subplot(1,2,2)\n",
        "plt.plot(epochs, hist.history['loss'], 'r-', label=\"Training Loss\")\n",
        "plt.plot(epochs, hist.history['val_loss'], 'b-', label='Validation Loss')\n",
        "plt.title(\"Loss\")\n",
        "plt.legend()\n",
        "plt.tight_layout()\n",
        "plt.show()"
      ],
      "execution_count": 0,
      "outputs": [
        {
          "output_type": "display_data",
          "data": {
            "image/png": "[encoded data removed]",
            "text/plain": [
              "<Figure size 720x360 with 2 Axes>"
            ]
          },
          "metadata": {
            "tags": []
          }
        }
      ]
    },
    {
      "metadata": {
        "id": "akkElmMfgrSo",
        "colab_type": "text"
      },
      "cell_type": "markdown",
      "source": [
        "- validation accuracy떨어졌는데...? 뭐야..."
      ]
    },
    {
      "metadata": {
        "id": "wWAjw_ZZg4Ty",
        "colab_type": "text"
      },
      "cell_type": "markdown",
      "source": [
        "### 1D Convnet (convolution)"
      ]
    },
    {
      "metadata": {
        "id": "dhm0EBSihC19",
        "colab_type": "code",
        "outputId": "3332cfaa-9dd4-4ff0-dcf0-82216f4bb4a0",
        "colab": {
          "base_uri": "https://localhost:8080/",
          "height": 897
        }
      },
      "cell_type": "code",
      "source": [
        "from keras.optimizers import RMSprop\n",
        "\n",
        "model = Sequential()\n",
        "model.add(Embedding(max_features, 128, input_length=maxlen))\n",
        "model.add(Conv1D(filters=32, kernel_size=7, activation='relu'))\n",
        "model.add(MaxPooling1D(pool_size=5))\n",
        "model.add(Conv1D(filters=32, kernel_size=7, activation='relu'))\n",
        "model.add(GlobalMaxPooling1D()) # (samples, timesteps, features/dim) --> (samples, features)\n",
        "model.add(Dense(1,activation='sigmoid'))\n",
        "\n",
        "model.summary()\n",
        "\n",
        "model.compile(optimizer=RMSprop(lr=1e-4), loss='binary_crossentropy', metrics=['acc'])\n",
        "\n",
        "hist = model.fit(x_train, y_train, epochs=15, batch_size=128, validation_split=0.2)"
      ],
      "execution_count": 0,
      "outputs": [
        {
          "output_type": "stream",
          "text": [
            "_________________________________________________________________\n",
            "Layer (type)                 Output Shape              Param #   \n",
            "=================================================================\n",
            "embedding_4 (Embedding)      (None, 500, 128)          1280000   \n",
            "_________________________________________________________________\n",
            "conv1d_3 (Conv1D)            (None, 494, 32)           28704     \n",
            "_________________________________________________________________\n",
            "max_pooling1d_2 (MaxPooling1 (None, 98, 32)            0         \n",
            "_________________________________________________________________\n",
            "conv1d_4 (Conv1D)            (None, 92, 32)            7200      \n",
            "_________________________________________________________________\n",
            "global_max_pooling1d_2 (Glob (None, 32)                0         \n",
            "_________________________________________________________________\n",
            "dense_4 (Dense)              (None, 1)                 33        \n",
            "=================================================================\n",
            "Total params: 1,315,937\n",
            "Trainable params: 1,315,937\n",
            "Non-trainable params: 0\n",
            "_________________________________________________________________\n",
            "Train on 20000 samples, validate on 5000 samples\n",
            "Epoch 1/15\n",
            "20000/20000 [==============================] - 4s 199us/step - loss: 0.6921 - acc: 0.5281 - val_loss: 0.6909 - val_acc: 0.5086\n",
            "Epoch 2/15\n",
            "20000/20000 [==============================] - 3s 148us/step - loss: 0.6841 - acc: 0.6803 - val_loss: 0.6829 - val_acc: 0.6166\n",
            "Epoch 3/15\n",
            "20000/20000 [==============================] - 3s 147us/step - loss: 0.6649 - acc: 0.7672 - val_loss: 0.6489 - val_acc: 0.7486\n",
            "Epoch 4/15\n",
            "20000/20000 [==============================] - 3s 147us/step - loss: 0.5985 - acc: 0.8033 - val_loss: 0.5533 - val_acc: 0.7758\n",
            "Epoch 5/15\n",
            "20000/20000 [==============================] - 3s 148us/step - loss: 0.4723 - acc: 0.8361 - val_loss: 0.4265 - val_acc: 0.8290\n",
            "Epoch 6/15\n",
            "20000/20000 [==============================] - 3s 147us/step - loss: 0.3622 - acc: 0.8643 - val_loss: 0.3617 - val_acc: 0.8492\n",
            "Epoch 7/15\n",
            "20000/20000 [==============================] - 3s 147us/step - loss: 0.3024 - acc: 0.8818 - val_loss: 0.3312 - val_acc: 0.8618\n",
            "Epoch 8/15\n",
            "20000/20000 [==============================] - 3s 148us/step - loss: 0.2664 - acc: 0.8950 - val_loss: 0.3139 - val_acc: 0.8690\n",
            "Epoch 9/15\n",
            "20000/20000 [==============================] - 3s 147us/step - loss: 0.2404 - acc: 0.9068 - val_loss: 0.3124 - val_acc: 0.8710\n",
            "Epoch 10/15\n",
            "20000/20000 [==============================] - 3s 147us/step - loss: 0.2201 - acc: 0.9163 - val_loss: 0.3007 - val_acc: 0.8788\n",
            "Epoch 11/15\n",
            "20000/20000 [==============================] - 3s 148us/step - loss: 0.2026 - acc: 0.9238 - val_loss: 0.2985 - val_acc: 0.8768\n",
            "Epoch 12/15\n",
            "20000/20000 [==============================] - 3s 148us/step - loss: 0.1875 - acc: 0.9308 - val_loss: 0.3006 - val_acc: 0.8758\n",
            "Epoch 13/15\n",
            "20000/20000 [==============================] - 3s 148us/step - loss: 0.1746 - acc: 0.9371 - val_loss: 0.3074 - val_acc: 0.8756\n",
            "Epoch 14/15\n",
            "20000/20000 [==============================] - 3s 148us/step - loss: 0.1632 - acc: 0.9412 - val_loss: 0.3016 - val_acc: 0.8778\n",
            "Epoch 15/15\n",
            "20000/20000 [==============================] - 3s 147us/step - loss: 0.1528 - acc: 0.9461 - val_loss: 0.3071 - val_acc: 0.8782\n"
          ],
          "name": "stdout"
        }
      ]
    },
    {
      "metadata": {
        "id": "0-C4YwunT9Cf",
        "colab_type": "text"
      },
      "cell_type": "markdown",
      "source": [
        "- LSTM이나 GRU보다 3배이상 빠르고 성능도 크게 차이나지 않는다.(경제적이다)"
      ]
    },
    {
      "metadata": {
        "id": "0USZrPPbjZ-g",
        "colab_type": "text"
      },
      "cell_type": "markdown",
      "source": [
        "### CNN + RNN 연결하여 긴 시퀀스 처리하기 (1)\n",
        "- 온도 예측 (yena climate)\n",
        "- 먼저 1D Convnet으로 온도 예측\n"
      ]
    },
    {
      "metadata": {
        "id": "nOJ-lP5JkRoc",
        "colab_type": "code",
        "colab": {
          "base_uri": "https://localhost:8080/",
          "height": 1216
        },
        "outputId": "ee6f6530-e70f-40b3-ced3-809e44e9c07c"
      },
      "cell_type": "code",
      "source": [
        "from keras.models import Sequential\n",
        "from keras.layers import *\n",
        "from keras.optimizers import RMSprop\n",
        "\n",
        "model = Sequential()\n",
        "model.add(Conv1D(filters=32, kernel_size=5, activation='relu', input_shape=(None, float_data.shape[-1])))\n",
        "model.add(MaxPooling1D(pool_size=3))\n",
        "model.add(Conv1D(32,5,activation='relu'))\n",
        "model.add(MaxPooling1D(3))\n",
        "model.add(Conv1D(32, 5, activation='relu'))\n",
        "model.add(GlobalMaxPooling1D())\n",
        "model.add(Dense(1))\n",
        "\n",
        "model.summary()\n",
        "\n",
        "model.compile(optimizer=RMSprop(), loss='mae')\n",
        "hist = model.fit_generator(generator=train_gen, steps_per_epoch=500, epochs=20, validation_data=val_gen, validation_steps=val_steps)"
      ],
      "execution_count": 14,
      "outputs": [
        {
          "output_type": "stream",
          "text": [
            "_________________________________________________________________\n",
            "Layer (type)                 Output Shape              Param #   \n",
            "=================================================================\n",
            "conv1d_4 (Conv1D)            (None, None, 32)          2272      \n",
            "_________________________________________________________________\n",
            "max_pooling1d_3 (MaxPooling1 (None, None, 32)          0         \n",
            "_________________________________________________________________\n",
            "conv1d_5 (Conv1D)            (None, None, 32)          5152      \n",
            "_________________________________________________________________\n",
            "max_pooling1d_4 (MaxPooling1 (None, None, 32)          0         \n",
            "_________________________________________________________________\n",
            "conv1d_6 (Conv1D)            (None, None, 32)          5152      \n",
            "_________________________________________________________________\n",
            "global_max_pooling1d_2 (Glob (None, 32)                0         \n",
            "_________________________________________________________________\n",
            "dense_2 (Dense)              (None, 1)                 33        \n",
            "=================================================================\n",
            "Total params: 12,609\n",
            "Trainable params: 12,609\n",
            "Non-trainable params: 0\n",
            "_________________________________________________________________\n",
            "WARNING:tensorflow:From /usr/local/lib/python3.6/dist-packages/tensorflow/python/ops/math_ops.py:3066: to_int32 (from tensorflow.python.ops.math_ops) is deprecated and will be removed in a future version.\n",
            "Instructions for updating:\n",
            "Use tf.cast instead.\n",
            "WARNING:tensorflow:From /usr/local/lib/python3.6/dist-packages/tensorflow/python/ops/math_grad.py:102: div (from tensorflow.python.ops.math_ops) is deprecated and will be removed in a future version.\n",
            "Instructions for updating:\n",
            "Deprecated in favor of operator or tf.math.divide.\n",
            "Epoch 1/20\n",
            "500/500 [==============================] - 18s 36ms/step - loss: 0.4200 - val_loss: 0.4317\n",
            "Epoch 2/20\n",
            "500/500 [==============================] - 14s 28ms/step - loss: 0.3548 - val_loss: 0.4368\n",
            "Epoch 3/20\n",
            "500/500 [==============================] - 14s 28ms/step - loss: 0.3337 - val_loss: 0.4436\n",
            "Epoch 4/20\n",
            "500/500 [==============================] - 14s 28ms/step - loss: 0.3161 - val_loss: 0.4551\n",
            "Epoch 5/20\n",
            "500/500 [==============================] - 14s 29ms/step - loss: 0.3070 - val_loss: 0.4275\n",
            "Epoch 6/20\n",
            "500/500 [==============================] - 14s 29ms/step - loss: 0.2949 - val_loss: 0.4265\n",
            "Epoch 7/20\n",
            "500/500 [==============================] - 15s 29ms/step - loss: 0.2863 - val_loss: 0.4332\n",
            "Epoch 8/20\n",
            "500/500 [==============================] - 14s 29ms/step - loss: 0.2803 - val_loss: 0.4420\n",
            "Epoch 9/20\n",
            "500/500 [==============================] - 14s 29ms/step - loss: 0.2729 - val_loss: 0.4549\n",
            "Epoch 10/20\n",
            "500/500 [==============================] - 14s 29ms/step - loss: 0.2688 - val_loss: 0.4547\n",
            "Epoch 11/20\n",
            "500/500 [==============================] - 14s 28ms/step - loss: 0.2663 - val_loss: 0.4461\n",
            "Epoch 12/20\n",
            "500/500 [==============================] - 14s 27ms/step - loss: 0.2599 - val_loss: 0.4428\n",
            "Epoch 13/20\n",
            "500/500 [==============================] - 14s 28ms/step - loss: 0.2567 - val_loss: 0.4328\n",
            "Epoch 14/20\n",
            "500/500 [==============================] - 14s 27ms/step - loss: 0.2535 - val_loss: 0.4391\n",
            "Epoch 15/20\n",
            "500/500 [==============================] - 14s 28ms/step - loss: 0.2520 - val_loss: 0.4617\n",
            "Epoch 16/20\n",
            "500/500 [==============================] - 14s 27ms/step - loss: 0.2488 - val_loss: 0.4378\n",
            "Epoch 17/20\n",
            "500/500 [==============================] - 14s 27ms/step - loss: 0.2472 - val_loss: 0.4409\n",
            "Epoch 18/20\n",
            "500/500 [==============================] - 14s 27ms/step - loss: 0.2440 - val_loss: 0.4467\n",
            "Epoch 19/20\n",
            "500/500 [==============================] - 14s 27ms/step - loss: 0.2422 - val_loss: 0.4478\n",
            "Epoch 20/20\n",
            "500/500 [==============================] - 14s 27ms/step - loss: 0.2390 - val_loss: 0.4636\n"
          ],
          "name": "stdout"
        }
      ]
    },
    {
      "metadata": {
        "id": "bH_fY4LZWh-W",
        "colab_type": "code",
        "colab": {
          "base_uri": "https://localhost:8080/",
          "height": 401
        },
        "outputId": "af65b7a5-a929-44fb-e54d-61f42e6cf7c2"
      },
      "cell_type": "code",
      "source": [
        "import matplotlib.pyplot as plt\n",
        "\n",
        "epochs = range(1, len(hist.history['loss']) + 1)\n",
        "\n",
        "plt.plot(epochs, hist.history['loss'], 'r-', label=\"Training Loss\")\n",
        "plt.plot(epochs, hist.history['val_loss'], 'b-', label='Validation Loss')\n",
        "plt.title(\"Loss\")\n",
        "plt.legend()\n",
        "plt.tight_layout()\n",
        "plt.show()"
      ],
      "execution_count": 16,
      "outputs": [
        {
          "output_type": "display_data",
          "data": {
            "image/png": "[encoded data removed]",
            "text/plain": [
              "<Figure size 576x396 with 1 Axes>"
            ]
          },
          "metadata": {
            "tags": []
          }
        }
      ]
    },
    {
      "metadata": {
        "id": "SHdsvR2BYfeP",
        "colab_type": "text"
      },
      "cell_type": "markdown",
      "source": [
        "- Validation Loss가 epoch=5이후로 다시 상승곡선....ㅠ\n",
        "- 상식수준의 기준점에 못미치는 수준이다...(0.29 < 0.4x)\n"
      ]
    },
    {
      "metadata": {
        "id": "tQng095CZDP1",
        "colab_type": "text"
      },
      "cell_type": "markdown",
      "source": [
        "### CNN + RNN 연결하여 긴 시퀀스 처리하기 (2)\n",
        "- 1D Convnet을 전처리단계로 활용해보자\n",
        "- 즉, RNN에 들어가는 입력데이터의 차원을 줄인다. (경량화되겠지?!)\n",
        "- 이렇게 되면 보다 긴 sequences를 다룰수 있게 된다.\n",
        "  - 더 오래 전 데이터를 바라보거나 (lookback을 증가시킨다.)\n",
        "  - 시계열 데이터를 더욱 촘촘하게 바라볼 수 있다. (step을 감소시킨다.)"
      ]
    },
    {
      "metadata": {
        "id": "LKWiPoQ4bO9D",
        "colab_type": "code",
        "colab": {}
      },
      "cell_type": "code",
      "source": [
        "# data generator 일부 수정\n",
        "step = 3 # 1시간 단위 --> 30분 단위\n",
        "lookback = 1440 # 일단 그대로\n",
        "delay = 144 # 일단 그대로\n",
        "\n",
        "train_gen = generator(float_data, lookback=lookback, delay=delay, min_index=0, max_index=200000, shuffle=True, step=step)\n",
        "val_gen = generator(float_data, lookback=lookback, delay=delay, min_index=200001, max_index=300000, shuffle=True, step=step)\n",
        "test_gen = generator(float_data, lookback=lookback, delay=delay, min_index=300001, max_index=None, shuffle=True, step=step)\n",
        "\n",
        "val_steps = (300000 - 200001 - lookback) // 128\n",
        "test_steps = (len(float_data) - 300001 - lookback) // 128"
      ],
      "execution_count": 0,
      "outputs": []
    },
    {
      "metadata": {
        "id": "TuenHxT_c14v",
        "colab_type": "code",
        "colab": {
          "base_uri": "https://localhost:8080/",
          "height": 1093
        },
        "outputId": "b990155e-f969-45ad-d2fb-c0cfe404ef18"
      },
      "cell_type": "code",
      "source": [
        "from keras.models import Sequential\n",
        "from keras.layers import *\n",
        "from keras.optimizers import RMSprop\n",
        "\n",
        "model = Sequential()\n",
        "model.add(Conv1D(filters=32, kernel_size=5, activation='relu', input_shape=(None, float_data.shape[-1])))\n",
        "model.add(MaxPooling1D(3))\n",
        "model.add(Conv1D(32,5,activation='relu'))\n",
        "model.add(GRU(32, dropout=0.1, recurrent_dropout=0.5))\n",
        "model.add(Dense(1))\n",
        "\n",
        "model.summary()\n",
        "\n",
        "model.compile(optimizer=RMSprop(), loss='mae')\n",
        "\n",
        "hist = model.fit_generator(train_gen, steps_per_epoch=500, epochs=20, validation_data=val_gen, validation_steps=val_steps)"
      ],
      "execution_count": 18,
      "outputs": [
        {
          "output_type": "stream",
          "text": [
            "WARNING:tensorflow:From /usr/local/lib/python3.6/dist-packages/keras/backend/tensorflow_backend.py:3445: calling dropout (from tensorflow.python.ops.nn_ops) with keep_prob is deprecated and will be removed in a future version.\n",
            "Instructions for updating:\n",
            "Please use `rate` instead of `keep_prob`. Rate should be set to `rate = 1 - keep_prob`.\n",
            "_________________________________________________________________\n",
            "Layer (type)                 Output Shape              Param #   \n",
            "=================================================================\n",
            "conv1d_7 (Conv1D)            (None, None, 32)          2272      \n",
            "_________________________________________________________________\n",
            "max_pooling1d_5 (MaxPooling1 (None, None, 32)          0         \n",
            "_________________________________________________________________\n",
            "conv1d_8 (Conv1D)            (None, None, 32)          5152      \n",
            "_________________________________________________________________\n",
            "gru_1 (GRU)                  (None, 32)                6240      \n",
            "_________________________________________________________________\n",
            "dense_3 (Dense)              (None, 1)                 33        \n",
            "=================================================================\n",
            "Total params: 13,697\n",
            "Trainable params: 13,697\n",
            "Non-trainable params: 0\n",
            "_________________________________________________________________\n",
            "Epoch 1/20\n",
            "500/500 [==============================] - 178s 355ms/step - loss: 0.3352 - val_loss: 0.2847\n",
            "Epoch 2/20\n",
            "500/500 [==============================] - 174s 349ms/step - loss: 0.3041 - val_loss: 0.2812\n",
            "Epoch 3/20\n",
            "500/500 [==============================] - 175s 351ms/step - loss: 0.2923 - val_loss: 0.2924\n",
            "Epoch 4/20\n",
            "500/500 [==============================] - 177s 353ms/step - loss: 0.2838 - val_loss: 0.2711\n",
            "Epoch 5/20\n",
            "500/500 [==============================] - 176s 352ms/step - loss: 0.2774 - val_loss: 0.2709\n",
            "Epoch 6/20\n",
            "500/500 [==============================] - 177s 354ms/step - loss: 0.2694 - val_loss: 0.2763\n",
            "Epoch 7/20\n",
            "500/500 [==============================] - 177s 353ms/step - loss: 0.2640 - val_loss: 0.2760\n",
            "Epoch 8/20\n",
            "500/500 [==============================] - 178s 356ms/step - loss: 0.2587 - val_loss: 0.2770\n",
            "Epoch 9/20\n",
            "500/500 [==============================] - 177s 354ms/step - loss: 0.2535 - val_loss: 0.2746\n",
            "Epoch 10/20\n",
            "500/500 [==============================] - 177s 354ms/step - loss: 0.2499 - val_loss: 0.2753\n",
            "Epoch 11/20\n",
            "500/500 [==============================] - 178s 356ms/step - loss: 0.2453 - val_loss: 0.2819\n",
            "Epoch 12/20\n",
            "500/500 [==============================] - 177s 354ms/step - loss: 0.2427 - val_loss: 0.2823\n",
            "Epoch 13/20\n",
            "500/500 [==============================] - 178s 355ms/step - loss: 0.2388 - val_loss: 0.2871\n",
            "Epoch 14/20\n",
            "500/500 [==============================] - 178s 355ms/step - loss: 0.2362 - val_loss: 0.2823\n",
            "Epoch 15/20\n",
            "500/500 [==============================] - 177s 354ms/step - loss: 0.2327 - val_loss: 0.2876\n",
            "Epoch 16/20\n",
            "500/500 [==============================] - 177s 353ms/step - loss: 0.2303 - val_loss: 0.2847\n",
            "Epoch 17/20\n",
            "500/500 [==============================] - 176s 353ms/step - loss: 0.2267 - val_loss: 0.2967\n",
            "Epoch 18/20\n",
            "500/500 [==============================] - 177s 355ms/step - loss: 0.2261 - val_loss: 0.2903\n",
            "Epoch 19/20\n",
            "500/500 [==============================] - 177s 354ms/step - loss: 0.2226 - val_loss: 0.2979\n",
            "Epoch 20/20\n",
            "500/500 [==============================] - 177s 353ms/step - loss: 0.2213 - val_loss: 0.2973\n"
          ],
          "name": "stdout"
        }
      ]
    },
    {
      "metadata": {
        "id": "HCAZ1eaWdrvz",
        "colab_type": "code",
        "colab": {
          "base_uri": "https://localhost:8080/",
          "height": 401
        },
        "outputId": "5b8760a0-4dc5-48dc-a049-86b266e4c67b"
      },
      "cell_type": "code",
      "source": [
        "import matplotlib.pyplot as plt\n",
        "\n",
        "epochs = range(1, len(hist.history['loss']) + 1)\n",
        "\n",
        "plt.plot(epochs, hist.history['loss'], 'r-', label=\"Training Loss\")\n",
        "plt.plot(epochs, hist.history['val_loss'], 'b-', label='Validation Loss')\n",
        "plt.title(\"Loss\")\n",
        "plt.legend()\n",
        "plt.tight_layout()\n",
        "plt.show()"
      ],
      "execution_count": 19,
      "outputs": [
        {
          "output_type": "display_data",
          "data": {
            "image/png": "[encoded data removed]",
            "text/plain": [
              "<Figure size 576x396 with 1 Axes>"
            ]
          },
          "metadata": {
            "tags": []
          }
        }
      ]
    },
    {
      "metadata": {
        "id": "DpwWFF0qayi_",
        "colab_type": "text"
      },
      "cell_type": "markdown",
      "source": [
        "- 이경우엔, regularization이 있는 GRU보다 좋진 않다..."
      ]
    }
  ]
}
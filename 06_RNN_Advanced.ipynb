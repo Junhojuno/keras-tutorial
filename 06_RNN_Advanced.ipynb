{
  "nbformat": 4,
  "nbformat_minor": 0,
  "metadata": {
    "colab": {
      "name": "06_RNN_Advanced.ipynb",
      "version": "0.3.2",
      "provenance": [],
      "toc_visible": true,
      "include_colab_link": true
    },
    "kernelspec": {
      "name": "python3",
      "display_name": "Python 3"
    }
  },
  "cells": [
    {
      "cell_type": "markdown",
      "metadata": {
        "id": "view-in-github",
        "colab_type": "text"
      },
      "source": [
        "<a href=\"https://colab.research.google.com/github/Junhojuno/keras-tutorial/blob/master/06_RNN_Advanced.ipynb\" target=\"_parent\"><img src=\"https://colab.research.google.com/assets/colab-badge.svg\" alt=\"Open In Colab\"/></a>"
      ]
    },
    {
      "metadata": {
        "id": "QGRr07P7EYdn",
        "colab_type": "code",
        "colab": {}
      },
      "cell_type": "code",
      "source": [
        "from google.colab import auth\n",
        "from google.colab import drive\n",
        "\n",
        "auth.authenticate_user()\n",
        "drive.mount('./gdrive')"
      ],
      "execution_count": 0,
      "outputs": []
    },
    {
      "metadata": {
        "colab_type": "code",
        "id": "EQrJ2qNXdfpS",
        "colab": {}
      },
      "cell_type": "code",
      "source": [
        "!mkdir jena_climate"
      ],
      "execution_count": 0,
      "outputs": []
    },
    {
      "metadata": {
        "id": "ISYgDhZUG1vU",
        "colab_type": "code",
        "colab": {}
      },
      "cell_type": "code",
      "source": [
        "!cp gdrive/My\\ Drive/jena_climate_2009_2016.csv.zip ./jena_climate/"
      ],
      "execution_count": 0,
      "outputs": []
    },
    {
      "metadata": {
        "colab_type": "code",
        "id": "GXa36OgCH8ZB",
        "outputId": "8d30f9b5-3bb7-4b2d-8078-d00608e700d4",
        "colab": {
          "base_uri": "https://localhost:8080/",
          "height": 52
        }
      },
      "cell_type": "code",
      "source": [
        "!unzip jena_climate/jena_climate_2009_2016.csv.zip"
      ],
      "execution_count": 4,
      "outputs": [
        {
          "output_type": "stream",
          "text": [
            "Archive:  jena_climate/jena_climate_2009_2016.csv.zip\n",
            "  inflating: jena_climate_2009_2016.csv  \n"
          ],
          "name": "stdout"
        }
      ]
    },
    {
      "metadata": {
        "id": "q3GcrAHQdxii",
        "colab_type": "text"
      },
      "cell_type": "markdown",
      "source": [
        "## RNN 3 Advanced Skills\n",
        "- Recurrent Dropout\n",
        "  - RNN의 overfitting을 방지하기위해 케라스 내장 dropout을 사용\n",
        "- Staking Recurrent Layer\n",
        "  - 네트워크의 표현능력을 향상시킨다. (but 계산비용이 증가한다.)\n",
        "- Bidirectional Recurrent Layer\n",
        "  - RNN에 같은 정보를 다른 방향으로 주입하여, 정확도를 높이고 기억을 좀 더 오래 유지시킨다."
      ]
    },
    {
      "metadata": {
        "id": "oPpnkU8xIeHK",
        "colab_type": "text"
      },
      "cell_type": "markdown",
      "source": [
        "### 기온 예측 문제"
      ]
    },
    {
      "metadata": {
        "id": "NcOYSQSvIFW5",
        "colab_type": "code",
        "outputId": "dde0824f-3aea-4c45-c25e-be37ef1104a0",
        "colab": {
          "base_uri": "https://localhost:8080/",
          "height": 72
        }
      },
      "cell_type": "code",
      "source": [
        "import os\n",
        "\n",
        "data_dir = './'\n",
        "fname = os.path.join(data_dir, 'jena_climate_2009_2016.csv')\n",
        "\n",
        "f = open(fname)\n",
        "data = f.read()\n",
        "f.close()\n",
        "\n",
        "lines = data.split('\\n')\n",
        "header = lines[0].split(',')\n",
        "lines = lines[1:]\n",
        "\n",
        "print(header)\n",
        "print(len(lines))"
      ],
      "execution_count": 5,
      "outputs": [
        {
          "output_type": "stream",
          "text": [
            "['\"Date Time\"', '\"p (mbar)\"', '\"T (degC)\"', '\"Tpot (K)\"', '\"Tdew (degC)\"', '\"rh (%)\"', '\"VPmax (mbar)\"', '\"VPact (mbar)\"', '\"VPdef (mbar)\"', '\"sh (g/kg)\"', '\"H2OC (mmol/mol)\"', '\"rho (g/m**3)\"', '\"wv (m/s)\"', '\"max. wv (m/s)\"', '\"wd (deg)\"']\n",
            "420551\n"
          ],
          "name": "stdout"
        }
      ]
    },
    {
      "metadata": {
        "id": "Yj4NXxdrIxez",
        "colab_type": "text"
      },
      "cell_type": "markdown",
      "source": [
        "##### 데이터 numpy로 변환"
      ]
    },
    {
      "metadata": {
        "id": "1X6cewCVI9mC",
        "colab_type": "code",
        "colab": {}
      },
      "cell_type": "code",
      "source": [
        "import numpy as np\n",
        "\n",
        "float_data = np.zeros((len(lines),len(header) - 1)) # datetime은 빼야지\n",
        "for i, line in enumerate(lines):\n",
        "  values = [float(x) for x in line.split(',')[1:]]\n",
        "  float_data[i, :] = values"
      ],
      "execution_count": 0,
      "outputs": []
    },
    {
      "metadata": {
        "id": "bUjyQJdPJrQv",
        "colab_type": "text"
      },
      "cell_type": "markdown",
      "source": [
        "##### 시계열 온도 그래프 그리기"
      ]
    },
    {
      "metadata": {
        "id": "xwZoZcoYJ4iw",
        "colab_type": "code",
        "outputId": "7f4dbeea-6886-4d3e-a200-b27975a55057",
        "colab": {
          "base_uri": "https://localhost:8080/",
          "height": 350
        }
      },
      "cell_type": "code",
      "source": [
        "import matplotlib.pyplot as plt\n",
        "\n",
        "temp = float_data[:, 1]\n",
        "plt.plot(range(len(temp)), temp)\n",
        "plt.show()"
      ],
      "execution_count": 7,
      "outputs": [
        {
          "output_type": "display_data",
          "data": {
            "image/png": "[encoded data removed]",
            "text/plain": [
              "<Figure size 576x396 with 1 Axes>"
            ]
          },
          "metadata": {
            "tags": []
          }
        }
      ]
    },
    {
      "metadata": {
        "id": "C39jJto8I1NK",
        "colab_type": "text"
      },
      "cell_type": "markdown",
      "source": [
        "##### 처음 10일간의 온도 데이터 (기간을 좀더 좁혀보자)\n",
        "\n",
        "- 데이터가 10분마다 기록되었다. (하루 데이터는 144개겠지)"
      ]
    },
    {
      "metadata": {
        "id": "GZ2LmhTKI1Qo",
        "colab_type": "code",
        "outputId": "ef226fb8-891c-4c2e-e660-6dbd79539ac0",
        "colab": {
          "base_uri": "https://localhost:8080/",
          "height": 365
        }
      },
      "cell_type": "code",
      "source": [
        "plt.plot(range(1440), temp[:1440])"
      ],
      "execution_count": 8,
      "outputs": [
        {
          "output_type": "execute_result",
          "data": {
            "text/plain": [
              "[<matplotlib.lines.Line2D at 0x7fa96ec0b208>]"
            ]
          },
          "metadata": {
            "tags": []
          },
          "execution_count": 8
        },
        {
          "output_type": "display_data",
          "data": {
            "image/png": "[encoded data removed]",
            "text/plain": [
              "<Figure size 576x396 with 1 Axes>"
            ]
          },
          "metadata": {
            "tags": []
          }
        }
      ]
    },
    {
      "metadata": {
        "id": "ecO_FJdvI1TO",
        "colab_type": "text"
      },
      "cell_type": "markdown",
      "source": [
        "- 마지막 3~4일정도 주기성을 보이는 듯하나...글쎄...\n",
        "- 좀 불안정한데...?\n",
        "\n"
      ]
    },
    {
      "metadata": {
        "id": "_FovKEBoI1ZW",
        "colab_type": "text"
      },
      "cell_type": "markdown",
      "source": [
        "### 일자별 수준의 시계열 데이터 예측\n",
        "- lookback = 1440 ; 10일 전으로 돌아가 매 step의 timestep을 샘플링한다.\n",
        "- steps = 6 ; 1시간마다 데이터 포인트 하나를 샘플링한다.\n",
        "- delay = 144 ; 24시간 , 1일이 지난 데이터가 Target이 된다."
      ]
    },
    {
      "metadata": {
        "id": "6IHLlNDvL4Uj",
        "colab_type": "code",
        "colab": {}
      },
      "cell_type": "code",
      "source": [
        "# Data Setting\n",
        "# 1. 정규화\n",
        "mean = float_data[:200000].mean(axis=0)\n",
        "std = float_data[:200000].std(axis=0)\n",
        "\n",
        "float_data = (float_data - mean) / std"
      ],
      "execution_count": 0,
      "outputs": []
    },
    {
      "metadata": {
        "id": "U8uMOmTaI1ca",
        "colab_type": "text"
      },
      "cell_type": "markdown",
      "source": [
        "#### Generator 함수 사용\n",
        "- (samples, targets)튜플을 반복적으로 반환하는 함수 (training set)\n",
        "- 이전 timestep의 데이터로 현재 timestep의 온도를 맞추는 방식\n",
        "- 과거 10일의 데이터로 예측하는 데이터셋 형태를 반환하도록 한다.\n",
        "- sample의 shape은 (128, 240, 14), target shape은 (128,)\n",
        "- batch size=128이고, 1시간을 데이터 포인트 1개로 묶는다. 이걸 10일로 하면 240개의 데이터포인트가 나온다.\n"
      ]
    },
    {
      "metadata": {
        "id": "wKxwLJrkI1jZ",
        "colab_type": "code",
        "outputId": "09f27d7c-afc2-4766-86e4-041d1c0e6cdb",
        "colab": {
          "base_uri": "https://localhost:8080/",
          "height": 34
        }
      },
      "cell_type": "code",
      "source": [
        "# Generator 함수\n",
        "# 역할은 기존 데이터를 training형식에 맞도록 변환하여 반환하는 함수\n",
        "def generator(data, lookback, delay, min_index, max_index, shuffle=False, batch_size=128, step=6):\n",
        "  \n",
        "  \"\"\"\n",
        "  data : 원본 시계열 데이터\n",
        "  lookback : 입력으로 사용하기위해 거슬러 올라갈 timestep\n",
        "  delay : target으로 사용할 미래의 timestep\n",
        "  min/max_index : 추출할 타임스텝의 범위를 지정하기 위한 data 배열 인덱스, validation와 test 데이터 분리하는데 사용\n",
        "  step : 데이터 샘플링을 할때 timestep간격, 1시간마다 데이터 포인트가 생기기 때문에 6으로 지정(데이터가 10분마다 만들어진점 고려)\n",
        "  \n",
        "  \"\"\"\n",
        "  if max_index is None:\n",
        "    max_index = len(data) - delay - 1 # 왜 이렇게 정의하지?\n",
        "  i = min_index + lookback\n",
        "  \n",
        "  while 1:\n",
        "    if shuffle:\n",
        "      rows = np.random.randint(min_index + lookback, max_index, size=batch_size)\n",
        "    \n",
        "    else:\n",
        "      if i + batch_size >= max_index:\n",
        "        i = min_index + lookback\n",
        "      rows = np.arange(i, min(i + batch_size, max_index))\n",
        "      i += len(rows)\n",
        "      \n",
        "    samples = np.zeros((len(rows), lookback // step, data.shape[-1])) # shape : (128, 240, 14)\n",
        "    targets = np.zeros((len(rows),))\n",
        "    \n",
        "    for j, row in enumerate(rows): # len(rows)=128이라 128번 iteration돌것이다.\n",
        "      indices = range(rows[j] - lookback, rows[j], step) # length 240의 index list가 나온다.\n",
        "      samples[j] = data[indices] # initial, initial로 부터 1시간 뒤 데이터, 그로부터 또 1시간뒤 데이터.....\n",
        "      targets[j] = data[rows[j] + delay][1] # 정확히 24시간뒤의 데이터\n",
        "      \n",
        "    yield samples, targets\n",
        "\n",
        "print(\"Generator 함수 생성완료...!\")"
      ],
      "execution_count": 10,
      "outputs": [
        {
          "output_type": "stream",
          "text": [
            "Generator 함수 생성완료...!\n"
          ],
          "name": "stdout"
        }
      ]
    },
    {
      "metadata": {
        "id": "VNP_DoHZqNDv",
        "colab_type": "code",
        "colab": {}
      },
      "cell_type": "code",
      "source": [
        "# training, validation, test 데이터\n",
        "# 각각 Generator 만들자, 다만 각 generator는 다른 시간대를 사용해야한다.\n",
        "# train : 처음 20만개, validation : 다음 10만개, test : 이후 나머지\n",
        "\n",
        "lookback = 1440\n",
        "step = 6\n",
        "delay = 144\n",
        "batch_size = 128\n",
        "\n",
        "train_gen = generator(data=float_data,\n",
        "                      lookback=lookback,\n",
        "                      delay=delay,\n",
        "                      min_index=0,\n",
        "                      max_index=200000,\n",
        "                      shuffle=True,\n",
        "                      step=step,\n",
        "                      batch_size=batch_size)\n",
        "\n",
        "val_gen = generator(data=float_data,\n",
        "                    lookback=lookback,\n",
        "                    delay=delay,\n",
        "                    min_index=200001,\n",
        "                    max_index=300000,\n",
        "                    step=step,\n",
        "                    batch_size=batch_size)\n",
        "\n",
        "test_gen = generator(data=float_data,\n",
        "                    lookback=lookback,\n",
        "                    delay=delay,\n",
        "                    min_index=300001,\n",
        "                    max_index=None,\n",
        "                    step=step,\n",
        "                    batch_size=batch_size)\n",
        "\n",
        "val_steps = (300000 - 200001 - lookback) // batch_size # 전체 validation set을 순회하기 위해 val_gen 추출해야하는 횟수\n",
        "test_step = (len(float_data) - 300001 - lookback) // batch_size # 전체 test set을 순회하기 위해 test_gen 추출해야하는 횟수\n",
        "# 여기서 lookback은 왜 빼주지? 딱 나누어 떨어지지 않기 때문에 10일치를 미리 빼주나?"
      ],
      "execution_count": 0,
      "outputs": []
    },
    {
      "metadata": {
        "id": "4vLEZ1Gd4tbi",
        "colab_type": "text"
      },
      "cell_type": "markdown",
      "source": [
        "### 상식 수준의 기준점\n",
        "- 아마도 오늘의 온도는 내일의 온도와 비슷할 것이다.\n",
        "- 이러한 상식 기준이 있으면 추후 모델의 성능을 비교할때 좋은 척도로 활용할 수 있을 것 같다.\n",
        "- 지금온도와 24시간후 온도를 같다고 해서 MAE를 계산해보자"
      ]
    },
    {
      "metadata": {
        "id": "_yAJlytwufq_",
        "colab_type": "code",
        "outputId": "19e4bb25-0d38-41ab-d691-d50866f86646",
        "colab": {
          "base_uri": "https://localhost:8080/",
          "height": 34
        }
      },
      "cell_type": "code",
      "source": [
        "def evaluate_naive_method():\n",
        "  batch_maes = []\n",
        "  for step in range(val_steps):\n",
        "    samples, targets = next(val_gen)\n",
        "    preds = samples[:,-1, 1]\n",
        "    mae = np.mean(np.abs(preds - targets))\n",
        "    batch_maes.append(mae)\n",
        "  print(np.mean(batch_maes))\n",
        "  \n",
        "evaluate_naive_method()"
      ],
      "execution_count": 0,
      "outputs": [
        {
          "output_type": "stream",
          "text": [
            "0.2897359729905488\n"
          ],
          "name": "stdout"
        }
      ]
    },
    {
      "metadata": {
        "id": "s8-Jj6VMwH3F",
        "colab_type": "code",
        "outputId": "efb3afea-836a-43a5-80d6-318b8888681f",
        "colab": {
          "base_uri": "https://localhost:8080/",
          "height": 34
        }
      },
      "cell_type": "code",
      "source": [
        "celsius_mae = 0.29 * std[1]\n",
        "celsius_mae"
      ],
      "execution_count": 0,
      "outputs": [
        {
          "output_type": "execute_result",
          "data": {
            "text/plain": [
              "2.5672247338393377"
            ]
          },
          "metadata": {
            "tags": []
          },
          "execution_count": 34
        }
      ]
    },
    {
      "metadata": {
        "id": "4Lax8dxIwKN2",
        "colab_type": "text"
      },
      "cell_type": "markdown",
      "source": [
        "약 2.57도의 오차가 존재한다. (상식 수준의 기준점)"
      ]
    },
    {
      "metadata": {
        "id": "n1-IlMIQx_Ul",
        "colab_type": "code",
        "outputId": "2b370c65-af21-465b-8f45-a8757bb57808",
        "colab": {
          "base_uri": "https://localhost:8080/",
          "height": 318
        }
      },
      "cell_type": "code",
      "source": [
        "# 먼저 간단한 FCN으로 구해보자.\n",
        "from keras.models import Sequential\n",
        "from keras.layers import Dense, Flatten\n",
        "from keras.optimizers import RMSprop\n",
        "\n",
        "model = Sequential()\n",
        "model.add(Flatten(input_shape=(lookback//step, float_data.shape[-1])))\n",
        "model.add(Dense(32, activation='relu'))\n",
        "model.add(Dense(1))\n",
        "model.summary()\n",
        "\n",
        "model.compile(optimizer=RMSprop(), loss='mae')"
      ],
      "execution_count": 0,
      "outputs": [
        {
          "output_type": "stream",
          "text": [
            "WARNING:tensorflow:From /usr/local/lib/python3.6/dist-packages/tensorflow/python/framework/op_def_library.py:263: colocate_with (from tensorflow.python.framework.ops) is deprecated and will be removed in a future version.\n",
            "Instructions for updating:\n",
            "Colocations handled automatically by placer.\n",
            "_________________________________________________________________\n",
            "Layer (type)                 Output Shape              Param #   \n",
            "=================================================================\n",
            "flatten_1 (Flatten)          (None, 3360)              0         \n",
            "_________________________________________________________________\n",
            "dense_1 (Dense)              (None, 32)                107552    \n",
            "_________________________________________________________________\n",
            "dense_2 (Dense)              (None, 1)                 33        \n",
            "=================================================================\n",
            "Total params: 107,585\n",
            "Trainable params: 107,585\n",
            "Non-trainable params: 0\n",
            "_________________________________________________________________\n"
          ],
          "name": "stdout"
        }
      ]
    },
    {
      "metadata": {
        "id": "Do89UrmoyteQ",
        "colab_type": "code",
        "outputId": "aa83de59-c328-41b4-ad64-6c73b53753bf",
        "colab": {
          "base_uri": "https://localhost:8080/",
          "height": 794
        }
      },
      "cell_type": "code",
      "source": [
        "hist = model.fit_generator(generator=train_gen, steps_per_epoch=500, epochs=20, validation_data=val_gen, validation_steps=val_steps)"
      ],
      "execution_count": 0,
      "outputs": [
        {
          "output_type": "stream",
          "text": [
            "WARNING:tensorflow:From /usr/local/lib/python3.6/dist-packages/tensorflow/python/ops/math_ops.py:3066: to_int32 (from tensorflow.python.ops.math_ops) is deprecated and will be removed in a future version.\n",
            "Instructions for updating:\n",
            "Use tf.cast instead.\n",
            "Epoch 1/20\n",
            "500/500 [==============================] - 15s 31ms/step - loss: 1.1883 - val_loss: 0.6698\n",
            "Epoch 2/20\n",
            "500/500 [==============================] - 14s 27ms/step - loss: 0.4594 - val_loss: 0.3433\n",
            "Epoch 3/20\n",
            "500/500 [==============================] - 14s 27ms/step - loss: 0.2975 - val_loss: 0.3572\n",
            "Epoch 4/20\n",
            "500/500 [==============================] - 13s 27ms/step - loss: 0.2681 - val_loss: 0.3119\n",
            "Epoch 5/20\n",
            "500/500 [==============================] - 14s 27ms/step - loss: 0.2559 - val_loss: 0.3288\n",
            "Epoch 6/20\n",
            "500/500 [==============================] - 14s 27ms/step - loss: 0.2477 - val_loss: 0.3125\n",
            "Epoch 7/20\n",
            "500/500 [==============================] - 14s 27ms/step - loss: 0.2407 - val_loss: 0.3092\n",
            "Epoch 8/20\n",
            "500/500 [==============================] - 14s 27ms/step - loss: 0.2342 - val_loss: 0.3267\n",
            "Epoch 9/20\n",
            "500/500 [==============================] - 14s 27ms/step - loss: 0.2289 - val_loss: 0.3287\n",
            "Epoch 10/20\n",
            "500/500 [==============================] - 13s 27ms/step - loss: 0.2257 - val_loss: 0.3282\n",
            "Epoch 11/20\n",
            "500/500 [==============================] - 14s 27ms/step - loss: 0.2227 - val_loss: 0.3339\n",
            "Epoch 12/20\n",
            "500/500 [==============================] - 14s 27ms/step - loss: 0.2193 - val_loss: 0.3316\n",
            "Epoch 13/20\n",
            "500/500 [==============================] - 14s 27ms/step - loss: 0.2181 - val_loss: 0.3159\n",
            "Epoch 14/20\n",
            "500/500 [==============================] - 14s 27ms/step - loss: 0.2130 - val_loss: 0.3760\n",
            "Epoch 15/20\n",
            "500/500 [==============================] - 14s 27ms/step - loss: 0.2096 - val_loss: 0.3450\n",
            "Epoch 16/20\n",
            "500/500 [==============================] - 13s 27ms/step - loss: 0.2092 - val_loss: 0.3235\n",
            "Epoch 17/20\n",
            "500/500 [==============================] - 14s 27ms/step - loss: 0.2057 - val_loss: 0.3342\n",
            "Epoch 18/20\n",
            "500/500 [==============================] - 14s 27ms/step - loss: 0.2046 - val_loss: 0.3357\n",
            "Epoch 19/20\n",
            "500/500 [==============================] - 14s 27ms/step - loss: 0.2029 - val_loss: 0.3416\n",
            "Epoch 20/20\n",
            "500/500 [==============================] - 14s 27ms/step - loss: 0.2004 - val_loss: 0.3264\n"
          ],
          "name": "stdout"
        }
      ]
    },
    {
      "metadata": {
        "id": "bK_2vQgz2NaL",
        "colab_type": "code",
        "outputId": "e2d9ee26-f8d3-4316-92c3-01b2dfa9916f",
        "colab": {
          "base_uri": "https://localhost:8080/",
          "height": 362
        }
      },
      "cell_type": "code",
      "source": [
        "import matplotlib.pyplot as plt\n",
        "\n",
        "epochs = range(1, len(hist.history['loss']) + 1)\n",
        "\n",
        "plt.plot(epochs, hist.history['loss'], 'r-', label=\"Training Loss\")\n",
        "plt.plot(epochs, hist.history['val_loss'], 'b-', label='Validation Loss')\n",
        "plt.title(\"Loss\")\n",
        "plt.legend()\n",
        "plt.show()"
      ],
      "execution_count": 0,
      "outputs": [
        {
          "output_type": "display_data",
          "data": {
            "image/png": "[encoded data removed]",
            "text/plain": [
              "<Figure size 576x396 with 1 Axes>"
            ]
          },
          "metadata": {
            "tags": []
          }
        }
      ]
    },
    {
      "metadata": {
        "id": "OQdoAv11zTsA",
        "colab_type": "text"
      },
      "cell_type": "markdown",
      "source": [
        "기준점보다 못한 성능이 나왔다..."
      ]
    },
    {
      "metadata": {
        "colab_type": "text",
        "id": "oI5ZOfoG5wpc"
      },
      "cell_type": "markdown",
      "source": [
        "### 0.첫번째 RNN\n",
        "- LSTM대신 GRU사용"
      ]
    },
    {
      "metadata": {
        "colab_type": "code",
        "id": "YvBysqH65wPl",
        "outputId": "de99d52e-668b-437b-caae-9add8259efb9",
        "colab": {
          "base_uri": "https://localhost:8080/",
          "height": 210
        }
      },
      "cell_type": "code",
      "source": [
        "from keras.models import Sequential\n",
        "from keras.layers import *\n",
        "from keras.optimizers import RMSprop\n",
        "\n",
        "model = Sequential()\n",
        "model.add(GRU(units=32, input_shape=(lookback//step, float_data.shape[-1])))\n",
        "model.add(Dense(1))\n",
        "\n",
        "model.summary()"
      ],
      "execution_count": 0,
      "outputs": [
        {
          "output_type": "stream",
          "text": [
            "_________________________________________________________________\n",
            "Layer (type)                 Output Shape              Param #   \n",
            "=================================================================\n",
            "gru_1 (GRU)                  (None, 32)                4512      \n",
            "_________________________________________________________________\n",
            "dense_3 (Dense)              (None, 1)                 33        \n",
            "=================================================================\n",
            "Total params: 4,545\n",
            "Trainable params: 4,545\n",
            "Non-trainable params: 0\n",
            "_________________________________________________________________\n"
          ],
          "name": "stdout"
        }
      ]
    },
    {
      "metadata": {
        "id": "QlZjbGm-__C1",
        "colab_type": "text"
      },
      "cell_type": "markdown",
      "source": [
        "GRU 층 parameter갯수 : [(32 + 14 + 1) x 32]  x 3 = 4512"
      ]
    },
    {
      "metadata": {
        "id": "wsP3jms17ObM",
        "colab_type": "code",
        "outputId": "996dad68-b8f1-4fcb-f694-6c0b40896acc",
        "colab": {
          "base_uri": "https://localhost:8080/",
          "height": 721
        }
      },
      "cell_type": "code",
      "source": [
        "model.compile(optimizer=RMSprop(), loss='mae')\n",
        "hist = model.fit_generator(train_gen, steps_per_epoch=500, epochs=20, validation_data=val_gen, validation_steps=val_steps)"
      ],
      "execution_count": 0,
      "outputs": [
        {
          "output_type": "stream",
          "text": [
            "Epoch 1/20\n",
            "500/500 [==============================] - 312s 624ms/step - loss: 0.3105 - val_loss: 0.2697\n",
            "Epoch 2/20\n",
            "500/500 [==============================] - 312s 624ms/step - loss: 0.2846 - val_loss: 0.2699\n",
            "Epoch 3/20\n",
            "500/500 [==============================] - 312s 625ms/step - loss: 0.2785 - val_loss: 0.2670\n",
            "Epoch 4/20\n",
            "500/500 [==============================] - 312s 624ms/step - loss: 0.2737 - val_loss: 0.2677\n",
            "Epoch 5/20\n",
            "500/500 [==============================] - 312s 623ms/step - loss: 0.2673 - val_loss: 0.2668\n",
            "Epoch 6/20\n",
            "500/500 [==============================] - 312s 623ms/step - loss: 0.2610 - val_loss: 0.2690\n",
            "Epoch 7/20\n",
            "500/500 [==============================] - 313s 626ms/step - loss: 0.2563 - val_loss: 0.2672\n",
            "Epoch 8/20\n",
            "500/500 [==============================] - 314s 627ms/step - loss: 0.2524 - val_loss: 0.2674\n",
            "Epoch 9/20\n",
            "500/500 [==============================] - 314s 628ms/step - loss: 0.2475 - val_loss: 0.2716\n",
            "Epoch 10/20\n",
            "500/500 [==============================] - 315s 630ms/step - loss: 0.2446 - val_loss: 0.2714\n",
            "Epoch 11/20\n",
            "500/500 [==============================] - 314s 628ms/step - loss: 0.2385 - val_loss: 0.2723\n",
            "Epoch 12/20\n",
            "500/500 [==============================] - 314s 628ms/step - loss: 0.2342 - val_loss: 0.2764\n",
            "Epoch 13/20\n",
            "500/500 [==============================] - 314s 628ms/step - loss: 0.2310 - val_loss: 0.2753\n",
            "Epoch 14/20\n",
            "500/500 [==============================] - 309s 619ms/step - loss: 0.2272 - val_loss: 0.2841\n",
            "Epoch 15/20\n",
            "500/500 [==============================] - 309s 618ms/step - loss: 0.2261 - val_loss: 0.2815\n",
            "Epoch 16/20\n",
            "500/500 [==============================] - 309s 618ms/step - loss: 0.2207 - val_loss: 0.2865\n",
            "Epoch 17/20\n",
            "500/500 [==============================] - 309s 618ms/step - loss: 0.2183 - val_loss: 0.2849\n",
            "Epoch 18/20\n",
            "500/500 [==============================] - 312s 624ms/step - loss: 0.2157 - val_loss: 0.2945\n",
            "Epoch 19/20\n",
            "500/500 [==============================] - 313s 626ms/step - loss: 0.2129 - val_loss: 0.2884\n",
            "Epoch 20/20\n",
            "500/500 [==============================] - 312s 624ms/step - loss: 0.2098 - val_loss: 0.2931\n"
          ],
          "name": "stdout"
        }
      ]
    },
    {
      "metadata": {
        "id": "f9sWBX0QPonk",
        "colab_type": "code",
        "outputId": "f174ee3c-9802-4a85-b804-4b180f11663c",
        "colab": {
          "base_uri": "https://localhost:8080/",
          "height": 362
        }
      },
      "cell_type": "code",
      "source": [
        "import matplotlib.pyplot as plt\n",
        "\n",
        "epochs = range(1, len(hist.history['loss']) + 1)\n",
        "\n",
        "plt.plot(epochs, hist.history['loss'], 'r-', label=\"Training Loss\")\n",
        "plt.plot(epochs, hist.history['val_loss'], 'b-', label='Validation Loss')\n",
        "plt.title(\"Loss\")\n",
        "plt.legend()\n",
        "plt.show()"
      ],
      "execution_count": 0,
      "outputs": [
        {
          "output_type": "display_data",
          "data": {
            "image/png": "[encoded data removed]",
            "text/plain": [
              "<Figure size 576x396 with 1 Axes>"
            ]
          },
          "metadata": {
            "tags": []
          }
        }
      ]
    },
    {
      "metadata": {
        "id": "pNt1PjUTT516",
        "colab_type": "code",
        "outputId": "c9ea9620-d2b6-4415-9e89-68070c8be8de",
        "colab": {
          "base_uri": "https://localhost:8080/",
          "height": 34
        }
      },
      "cell_type": "code",
      "source": [
        "min(hist.history['val_loss'])"
      ],
      "execution_count": 0,
      "outputs": [
        {
          "output_type": "execute_result",
          "data": {
            "text/plain": [
              "0.2668409934327956"
            ]
          },
          "metadata": {
            "tags": []
          },
          "execution_count": 48
        }
      ]
    },
    {
      "metadata": {
        "id": "TjEbXJUMUBP8",
        "colab_type": "text"
      },
      "cell_type": "markdown",
      "source": [
        "상식수준의 기준점보다는 감소한 것을 볼 수있다."
      ]
    },
    {
      "metadata": {
        "id": "VHAPq_7D2czo",
        "colab_type": "text"
      },
      "cell_type": "markdown",
      "source": [
        "### RNN + Dropout\n",
        "- timestep마다 동일한 dropout masking을 적용해야한다."
      ]
    },
    {
      "metadata": {
        "id": "wQtugBUA2b0x",
        "colab_type": "code",
        "outputId": "59fe02b8-c278-4ee0-b024-b41ce00c76d7",
        "colab": {
          "base_uri": "https://localhost:8080/",
          "height": 354
        }
      },
      "cell_type": "code",
      "source": [
        "from keras.models import Sequential\n",
        "from keras.layers import *\n",
        "from keras.optimizers import RMSprop\n",
        "\n",
        "model = Sequential()\n",
        "# dropout : input_t에 적용, recurrent_dropout : state_t에 적용\n",
        "# timestep마다 동일한 unit을 dropout하는 대신, \n",
        "# 각 input_t와 각 state_t별로 다른 dropout masking이 적용된다.\n",
        "# output_t에서의 state_t에는 dropout masking이 사용되지 않는다.\n",
        "model.add(GRU(32, dropout=0.2, recurrent_dropout=0.2, input_shape=(None, float_data.shape[-1]))) \n",
        "model.add(Dense(1))\n",
        "\n",
        "model.summary()"
      ],
      "execution_count": 12,
      "outputs": [
        {
          "output_type": "stream",
          "text": [
            "Using TensorFlow backend.\n"
          ],
          "name": "stderr"
        },
        {
          "output_type": "stream",
          "text": [
            "WARNING:tensorflow:From /usr/local/lib/python3.6/dist-packages/tensorflow/python/framework/op_def_library.py:263: colocate_with (from tensorflow.python.framework.ops) is deprecated and will be removed in a future version.\n",
            "Instructions for updating:\n",
            "Colocations handled automatically by placer.\n",
            "WARNING:tensorflow:From /usr/local/lib/python3.6/dist-packages/keras/backend/tensorflow_backend.py:3445: calling dropout (from tensorflow.python.ops.nn_ops) with keep_prob is deprecated and will be removed in a future version.\n",
            "Instructions for updating:\n",
            "Please use `rate` instead of `keep_prob`. Rate should be set to `rate = 1 - keep_prob`.\n",
            "_________________________________________________________________\n",
            "Layer (type)                 Output Shape              Param #   \n",
            "=================================================================\n",
            "gru_1 (GRU)                  (None, 32)                4512      \n",
            "_________________________________________________________________\n",
            "dense_1 (Dense)              (None, 1)                 33        \n",
            "=================================================================\n",
            "Total params: 4,545\n",
            "Trainable params: 4,545\n",
            "Non-trainable params: 0\n",
            "_________________________________________________________________\n"
          ],
          "name": "stdout"
        }
      ]
    },
    {
      "metadata": {
        "id": "RdSvNYe_NIRk",
        "colab_type": "code",
        "outputId": "281857a0-6e8c-4b77-808a-1557602e0c1d",
        "colab": {
          "base_uri": "https://localhost:8080/",
          "height": 1498
        }
      },
      "cell_type": "code",
      "source": [
        "model.compile(optimizer=RMSprop(), loss='mae')\n",
        "hist = model.fit_generator(generator=train_gen, steps_per_epoch=500, epochs=40, validation_data=val_gen, validation_steps=val_steps)"
      ],
      "execution_count": 13,
      "outputs": [
        {
          "output_type": "stream",
          "text": [
            "WARNING:tensorflow:From /usr/local/lib/python3.6/dist-packages/tensorflow/python/ops/math_ops.py:3066: to_int32 (from tensorflow.python.ops.math_ops) is deprecated and will be removed in a future version.\n",
            "Instructions for updating:\n",
            "Use tf.cast instead.\n",
            "Epoch 1/40\n",
            "500/500 [==============================] - 263s 526ms/step - loss: 0.3470 - val_loss: 0.2747\n",
            "Epoch 2/40\n",
            "500/500 [==============================] - 261s 522ms/step - loss: 0.3158 - val_loss: 0.2710\n",
            "Epoch 3/40\n",
            "500/500 [==============================] - 259s 518ms/step - loss: 0.3075 - val_loss: 0.2697\n",
            "Epoch 4/40\n",
            "500/500 [==============================] - 261s 522ms/step - loss: 0.3043 - val_loss: 0.2683\n",
            "Epoch 5/40\n",
            "500/500 [==============================] - 258s 516ms/step - loss: 0.3003 - val_loss: 0.2678\n",
            "Epoch 6/40\n",
            "500/500 [==============================] - 266s 533ms/step - loss: 0.2962 - val_loss: 0.2657\n",
            "Epoch 7/40\n",
            "500/500 [==============================] - 267s 534ms/step - loss: 0.2949 - val_loss: 0.2667\n",
            "Epoch 8/40\n",
            "500/500 [==============================] - 268s 536ms/step - loss: 0.2921 - val_loss: 0.2696\n",
            "Epoch 9/40\n",
            "500/500 [==============================] - 267s 534ms/step - loss: 0.2918 - val_loss: 0.2650\n",
            "Epoch 10/40\n",
            "500/500 [==============================] - 267s 534ms/step - loss: 0.2907 - val_loss: 0.2676\n",
            "Epoch 11/40\n",
            "500/500 [==============================] - 267s 534ms/step - loss: 0.2904 - val_loss: 0.2638\n",
            "Epoch 12/40\n",
            "500/500 [==============================] - 266s 533ms/step - loss: 0.2886 - val_loss: 0.2681\n",
            "Epoch 13/40\n",
            "500/500 [==============================] - 268s 537ms/step - loss: 0.2865 - val_loss: 0.2637\n",
            "Epoch 14/40\n",
            "500/500 [==============================] - 269s 538ms/step - loss: 0.2855 - val_loss: 0.2649\n",
            "Epoch 15/40\n",
            "500/500 [==============================] - 271s 542ms/step - loss: 0.2840 - val_loss: 0.2640\n",
            "Epoch 16/40\n",
            "500/500 [==============================] - 270s 541ms/step - loss: 0.2835 - val_loss: 0.2630\n",
            "Epoch 17/40\n",
            "500/500 [==============================] - 268s 536ms/step - loss: 0.2841 - val_loss: 0.2637\n",
            "Epoch 18/40\n",
            "500/500 [==============================] - 267s 535ms/step - loss: 0.2813 - val_loss: 0.2633\n",
            "Epoch 19/40\n",
            "500/500 [==============================] - 257s 515ms/step - loss: 0.2825 - val_loss: 0.2629\n",
            "Epoch 20/40\n",
            "500/500 [==============================] - 260s 519ms/step - loss: 0.2800 - val_loss: 0.2601\n",
            "Epoch 21/40\n",
            "500/500 [==============================] - 260s 519ms/step - loss: 0.2792 - val_loss: 0.2633\n",
            "Epoch 22/40\n",
            "500/500 [==============================] - 259s 517ms/step - loss: 0.2795 - val_loss: 0.2650\n",
            "Epoch 23/40\n",
            "500/500 [==============================] - 259s 518ms/step - loss: 0.2779 - val_loss: 0.2618\n",
            "Epoch 24/40\n",
            "500/500 [==============================] - 261s 522ms/step - loss: 0.2772 - val_loss: 0.2636\n",
            "Epoch 25/40\n",
            "500/500 [==============================] - 258s 517ms/step - loss: 0.2762 - val_loss: 0.2652\n",
            "Epoch 26/40\n",
            "500/500 [==============================] - 259s 519ms/step - loss: 0.2765 - val_loss: 0.2630\n",
            "Epoch 27/40\n",
            "500/500 [==============================] - 263s 525ms/step - loss: 0.2755 - val_loss: 0.2637\n",
            "Epoch 28/40\n",
            "500/500 [==============================] - 261s 522ms/step - loss: 0.2733 - val_loss: 0.2650\n",
            "Epoch 29/40\n",
            "500/500 [==============================] - 261s 521ms/step - loss: 0.2740 - val_loss: 0.2627\n",
            "Epoch 30/40\n",
            "500/500 [==============================] - 259s 518ms/step - loss: 0.2729 - val_loss: 0.2626\n",
            "Epoch 31/40\n",
            "500/500 [==============================] - 259s 519ms/step - loss: 0.2736 - val_loss: 0.2638\n",
            "Epoch 32/40\n",
            "500/500 [==============================] - 286s 573ms/step - loss: 0.2708 - val_loss: 0.2663\n",
            "Epoch 33/40\n",
            "500/500 [==============================] - 265s 529ms/step - loss: 0.2702 - val_loss: 0.2630\n",
            "Epoch 34/40\n",
            "500/500 [==============================] - 261s 523ms/step - loss: 0.2727 - val_loss: 0.2664\n",
            "Epoch 35/40\n",
            "500/500 [==============================] - 259s 517ms/step - loss: 0.2710 - val_loss: 0.2684\n",
            "Epoch 36/40\n",
            "500/500 [==============================] - 257s 513ms/step - loss: 0.2716 - val_loss: 0.2661\n",
            "Epoch 37/40\n",
            "500/500 [==============================] - 257s 514ms/step - loss: 0.2700 - val_loss: 0.2678\n",
            "Epoch 38/40\n",
            "500/500 [==============================] - 256s 513ms/step - loss: 0.2689 - val_loss: 0.2662\n",
            "Epoch 39/40\n",
            "500/500 [==============================] - 255s 509ms/step - loss: 0.2694 - val_loss: 0.2677\n",
            "Epoch 40/40\n",
            "500/500 [==============================] - 255s 509ms/step - loss: 0.2702 - val_loss: 0.2651\n"
          ],
          "name": "stdout"
        }
      ]
    },
    {
      "metadata": {
        "id": "o4WAMcAnNz2o",
        "colab_type": "code",
        "colab": {
          "base_uri": "https://localhost:8080/",
          "height": 362
        },
        "outputId": "05ad5683-5346-463a-e303-ef1cd181fb7d"
      },
      "cell_type": "code",
      "source": [
        "import matplotlib.pyplot as plt\n",
        "\n",
        "epochs = range(1, len(hist.history['loss']) + 1)\n",
        "\n",
        "plt.plot(epochs, hist.history['loss'], 'r-', label=\"Training Loss\")\n",
        "plt.plot(epochs, hist.history['val_loss'], 'b-', label='Validation Loss')\n",
        "plt.title(\"Loss\")\n",
        "plt.legend()\n",
        "plt.show()"
      ],
      "execution_count": 14,
      "outputs": [
        {
          "output_type": "display_data",
          "data": {
            "image/png": "[encoded data removed]",
            "text/plain": [
              "<Figure size 576x396 with 1 Axes>"
            ]
          },
          "metadata": {
            "tags": []
          }
        }
      ]
    },
    {
      "metadata": {
        "id": "KtGaexlCFhvw",
        "colab_type": "text"
      },
      "cell_type": "markdown",
      "source": [
        "- overfitting이 굉장히 줄어들었다!!!!!!!\n",
        "- 하지만 성능은 조금? 개선"
      ]
    }
  ]
}